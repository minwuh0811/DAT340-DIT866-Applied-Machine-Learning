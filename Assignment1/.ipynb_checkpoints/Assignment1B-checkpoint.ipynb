{
 "cells": [
  {
   "cell_type": "markdown",
   "metadata": {},
   "source": [
    "# Task 1: Working with a dataset with categorical features\n",
    "In Assignment 1A, we didn't have to do much preprocessing, because all the features in the two datasets were numerical. (Actually, in the second dataset, we removed all non-numerical features.) In this assignment, we'll instead consider how to deal with non-numerical features.\n",
    "\n",
    "We'll use the famous Adult dataset. This is a binary classification task, where our task is to predict whether an American individual earns more than $50,000 a year, given a number of numerical and categorical features. (The dataset was extracted from a 1994 census database.)"
   ]
  },
  {
   "cell_type": "markdown",
   "metadata": {},
   "source": [
    "# Step 1. Reading the data \n",
    "Please download the two CSV files, the training set and the test set, and save them into your working directory This is the official train/test split defined by the people who created the dataset. It's the same data as in the the public distribution, except that we converted the format into a standard CSV format. \n",
    "Write code to read the CSV file, for instance by using Pandas as in Assignment 1A. Then split the data into an input part X and an output part Y. The output variable, which the classifier will predict, is called target. "
   ]
  },
  {
   "cell_type": "code",
   "execution_count": 2,
   "metadata": {},
   "outputs": [],
   "source": [
    "import pandas as pd\n",
    "from sklearn.model_selection import train_test_split\n",
    "\n",
    "  \n",
    "# Read the CSV file.\n",
    "data_train = pd.read_csv('adult_train.csv')\n",
    "data_test = pd.read_csv('adult_test.csv')\n",
    "data_train_shuffled = data_train.sample(frac=1.0, random_state=0)\n",
    "data_test_shuffled = data_test.sample(frac=1.0, random_state=0)\n",
    "X_train = data_train_shuffled.drop('target', axis=1)\n",
    "Y_train=data_train_shuffled['target'].dropna()\n",
    "X_test = data_test_shuffled.drop('target', axis=1)\n",
    "Y_test=data_test_shuffled['target'].dropna()\n"
   ]
  },
  {
   "cell_type": "markdown",
   "metadata": {},
   "source": [
    "# Step 2: Encoding the features as numbers. \n",
    "If you look at the data, you will note that it contains several features with categorical values, such as workclass, education etc. All scikit-learn models work with numerical data internally; this means that the categorical features need to be converted to numbers. The most straightforward way to carry out such a conversion is to use one-hot encoding of the features, also known as dummy variables in statistics. In this approach, we define one new column for each observed value of the feature. \n",
    "Scikit-learn includes a number of tools that can do one-hot encoding of categorical features and we'll see how to use one of them, the DictVectorizer. An alternative approach that is a bit more Pandas-friendly and gives more low-level control is to use the recently introduced ColumnTransformer; if you're interested, you can read an introduction to this approach here. We won't use a ColumnTransformer here because it will make Task 3 in this assignment a bit too annoying to solve. \n",
    "The DictVectorizer is used when we store our features as named attributes in dictionaries. For instance, we could represent one individual from the Adult dataset as follows: "
   ]
  },
  {
   "cell_type": "code",
   "execution_count": 4,
   "metadata": {},
   "outputs": [
    {
     "name": "stderr",
     "output_type": "stream",
     "text": [
      "IOPub data rate exceeded.\n",
      "The notebook server will temporarily stop sending output\n",
      "to the client in order to avoid crashing it.\n",
      "To change this limit, set the config variable\n",
      "`--NotebookApp.iopub_data_rate_limit`.\n",
      "\n",
      "Current values:\n",
      "NotebookApp.iopub_data_rate_limit=1000000.0 (bytes/sec)\n",
      "NotebookApp.rate_limit_window=3.0 (secs)\n",
      "\n"
     ]
    },
    {
     "name": "stdout",
     "output_type": "stream",
     "text": [
      "  (0, 0)\t49.0\n",
      "  (0, 1)\t0.0\n",
      "  (0, 2)\t0.0\n",
      "  (0, 3)\t9.0\n",
      "  (0, 15)\t1.0\n",
      "  (0, 20)\t110172.0\n",
      "  (0, 21)\t40.0\n",
      "  (0, 24)\t1.0\n",
      "  (0, 68)\t1.0\n",
      "  (0, 85)\t1.0\n",
      "  (0, 90)\t1.0\n",
      "  (0, 91)\t1.0\n",
      "  (0, 98)\t1.0\n",
      "  (0, 101)\t1.0\n",
      "  (1, 0)\t49.0\n",
      "  (1, 1)\t0.0\n",
      "  (1, 2)\t0.0\n",
      "  (1, 3)\t9.0\n",
      "  (1, 15)\t1.0\n",
      "  (1, 20)\t105431.0\n",
      "  (1, 21)\t40.0\n",
      "  (1, 22)\t1.0\n",
      "  (1, 68)\t1.0\n",
      "  (1, 79)\t1.0\n",
      "  (1, 88)\t1.0\n",
      "  :\t:\n",
      "  (32559, 3)\t13.0\n",
      "  (32559, 13)\t1.0\n",
      "  (32559, 20)\t194636.0\n",
      "  (32559, 21)\t45.0\n",
      "  (32559, 24)\t1.0\n",
      "  (32559, 68)\t1.0\n",
      "  (32559, 81)\t1.0\n",
      "  (32559, 90)\t1.0\n",
      "  (32559, 91)\t1.0\n",
      "  (32559, 98)\t1.0\n",
      "  (32559, 103)\t1.0\n",
      "  (32560, 0)\t25.0\n",
      "  (32560, 1)\t0.0\n",
      "  (32560, 2)\t0.0\n",
      "  (32560, 3)\t8.0\n",
      "  (32560, 6)\t1.0\n",
      "  (32560, 20)\t374163.0\n",
      "  (32560, 21)\t60.0\n",
      "  (32560, 24)\t1.0\n",
      "  (32560, 55)\t1.0\n",
      "  (32560, 76)\t1.0\n",
      "  (32560, 89)\t1.0\n",
      "  (32560, 91)\t1.0\n",
      "  (32560, 98)\t1.0\n",
      "  (32560, 103)\t1.0\n"
     ]
    }
   ],
   "source": [
    "from sklearn.feature_extraction import DictVectorizer\n",
    "X_train_dicts = X_train.to_dict('records')\n",
    "X_test_dicts=X_test.to_dict('records')\n",
    "dv = DictVectorizer()\n",
    "print(X_train_dicts)\n",
    "X_train_encoded = dv.fit_transform(X_train_dicts)\n",
    "print(X_train_encoded)\n",
    "X_test_encoded = dv.transform(X_test_dicts)"
   ]
  },
  {
   "cell_type": "markdown",
   "metadata": {},
   "source": [
    "# Step 3. Combining the steps. \n",
    "In the example above, we first transformed the list of dictionaries into a numerical matrix, and then we used this matrix when training the classifier. A separate preprocessing step was carried out for the test set. \n",
    "In machine learning setups, we often use long chains of preprocessing steps. The one-hot encoding is one example, and other such steps might be scaling, feature selection, imputation of missing values, etc. As you can imagine, keeping track of the preprocessing steps can be tedious and error-prone, so it makes sense to handle such preprocessing chains automatically. \n",
    "A Pipeline consists of a sequence of scikit-learn modules. The most convenient way to build a Pipeline is to use the utility function make_pipeline. For instance, to build a pipeline consisting of a vectorization step and then a decision tree classifier.\n",
    "The Pipeline can be treated as any classifier: we can call fit and predict as usual. Concretely, when we call fit on a Pipeline, it will in turn call fit_transform on all intermediate steps and then fit on the final step. When we call predict, transform will be called on the intermediate steps and then predict on the final step. \n"
   ]
  },
  {
   "cell_type": "code",
   "execution_count": 3,
   "metadata": {},
   "outputs": [
    {
     "data": {
      "text/plain": [
       "0.8151777337406079"
      ]
     },
     "execution_count": 3,
     "metadata": {},
     "output_type": "execute_result"
    }
   ],
   "source": [
    "from sklearn.pipeline import make_pipeline\n",
    "from sklearn.tree import DecisionTreeClassifier\n",
    "from sklearn.model_selection import cross_val_score\n",
    "\n",
    "pipeline = make_pipeline(\n",
    "  DictVectorizer(),\n",
    "  DecisionTreeClassifier()\n",
    ")\n",
    "\n",
    "pip=pipeline.fit(X_train_dicts,Y_train)\n",
    "cross_val_score(pip, X_train_dicts,Y_train, cv=5, scoring='accuracy').mean()"
   ]
  },
  {
   "cell_type": "markdown",
   "metadata": {},
   "source": [
    "The pipeline is built including GradientBoostingClassifier together with DictVectorizer to do  one-hot encoding of categorical features"
   ]
  },
  {
   "cell_type": "markdown",
   "metadata": {},
   "source": [
    "# Task 2: Decision trees and random forests\n",
    "In the previous assignment, in one of the optional tasks (Task 4, step 4) we investigated the performance of a regression model as a function of the depth of the decision trees."
   ]
  },
  {
   "cell_type": "markdown",
   "metadata": {},
   "source": [
    "# Underfitting and overfitting in decision tree classifiers. \n",
    "As the first step, please reproduce this experiment for this dataset, but now using scikit-learn's DecisionTreeClassifier instead of your own regression model. Of course, you should use an evaluation metric for classification, not the mean squared error. Do you see a similar effect now? "
   ]
  },
  {
   "cell_type": "code",
   "execution_count": 10,
   "metadata": {},
   "outputs": [
    {
     "name": "stdout",
     "output_type": "stream",
     "text": [
      "0.7637737239727289\n"
     ]
    },
    {
     "data": {
      "image/png": "[encoded data removed]",
      "text/plain": [
       "<Figure size 432x288 with 1 Axes>"
      ]
     },
     "metadata": {
      "needs_background": "light"
     },
     "output_type": "display_data"
    }
   ],
   "source": [
    "import matplotlib.pyplot as plt\n",
    "from sklearn.metrics import accuracy_score\n",
    "score_test=[]\n",
    "score=[]\n",
    "N=[]\n",
    "for i in range(1,15):\n",
    "    pipeline = make_pipeline(\n",
    "      DictVectorizer(),\n",
    "      DecisionTreeClassifier(max_depth=i)\n",
    "    )\n",
    "    pip=pipeline.fit(X_train_dicts,Y_train)\n",
    "    Y_guess = pip.predict(X_test_dicts)\n",
    "    score.append(cross_val_score(pip, X_train_dicts,Y_train, cv=5, scoring='accuracy').mean())\n",
    "    score_test.append(accuracy_score(Y_test, Y_guess))\n",
    "    N.append(i)\n",
    "plt.plot(N,score_test,color='purple',marker='o', markerfacecolor='purple', markersize=4, linewidth=2)\n",
    "plt.plot(N,score,color='green',marker='o', markerfacecolor='green', markersize=4, linewidth=2)"
   ]
  },
  {
   "cell_type": "markdown",
   "metadata": {},
   "source": [
    "# Underfitting and overfitting in random forest classifiers. \n",
    "Replace the DecisionTreeClassifier with a RandomForestClassifier. \n",
    "The hyperparameter n_estimators defines the number of decision trees used in ensemble. \n",
    "Investigate how the underfitting/overfitting curve is affected by the number of trees. You can investigate ensemble sizes ranging from 1 up until a few hundred. \n",
    "Hint. These experiments can take some time to run. When n_estimators is large, you can reduce the training time quite a bit by adjusting the hyperparameter n_jobs, which will train several trees in parallel. By default, only one CPU core is used, but if you set n_jobs=-1, all cores will be used. "
   ]
  },
  {
   "cell_type": "code",
   "execution_count": 9,
   "metadata": {},
   "outputs": [
    {
     "name": "stdout",
     "output_type": "stream",
     "text": [
      "0.8087341072415699\n"
     ]
    },
    {
     "data": {
      "image/png": "[encoded data removed]",
      "text/plain": [
       "<Figure size 432x288 with 1 Axes>"
      ]
     },
     "metadata": {
      "needs_background": "light"
     },
     "output_type": "display_data"
    }
   ],
   "source": [
    "from sklearn.ensemble import  RandomForestClassifier\n",
    "score_test=[]\n",
    "score=[]\n",
    "N=[]\n",
    "for i in range(1,501,50):\n",
    "    pipeline = make_pipeline(\n",
    "      DictVectorizer(),\n",
    "      RandomForestClassifier(n_estimators=i, n_jobs=-1)\n",
    "    )\n",
    "    pip=pipeline.fit(X_train_dicts,Y_train)\n",
    "    Y_guess = pip.predict(X_test_dicts)\n",
    "    score.append(cross_val_score(pip, X_train_dicts,Y_train, cv=5, scoring='accuracy').mean())\n",
    "    score_test.append(accuracy_score(Y_test, Y_guess))\n",
    "    N.append(i)\n",
    "plt.plot(N,score_test,color='purple',marker='o', markerfacecolor='purple', markersize=4, linewidth=2)\n",
    "plt.plot(N,score,color='green',marker='o', markerfacecolor='green', markersize=4, linewidth=2)\n",
    "\n",
    "print(score_test[0])"
   ]
  },
  {
   "cell_type": "markdown",
   "metadata": {},
   "source": [
    "Some things that you might want to discuss in your report: \n",
    "What's the difference between the curve for a decision tree and for a random forest with an ensemble size of 1, and why do we see this difference? \n",
    "\n",
    "The accuracy for random forest at the ensemble size 1 is not same as a decision tree. \n",
    "\n",
    "two reasons:\n",
    "\n",
    "1. Random Forest uses a bootstrapped sub-sample of training set but the decision tree uses a whole training set \n",
    "\n",
    "2. The number of features are used in random forest is equal to the parameter max_features, however, the decision tree uses all the features. \n",
    "\n",
    "What happens with the curve for random forests as the ensemble size grows? \n",
    "\n",
    "as the ensemble size grows, the accuracy is increased and quickly converged.\n",
    "\n",
    "What happens with the best observed test set accuracy as the ensemble size grows? \n",
    "\n",
    "it doesn't largely change the value as the ensemble size grows.\n",
    "\n",
    "What happens with the training time as the ensemble size grows? \n",
    "\n",
    "The traning time is increased as the ensemble size grows."
   ]
  },
  {
   "cell_type": "markdown",
   "metadata": {},
   "source": [
    "# Task 3: Feature importances in random forest classifiers\n",
    "Decision trees and random forests are trained by computing importance scores for individual features in different ways: information gain, Gini impurity, variance reduction, etc. \n",
    "As a way to make our classifiers more interpretable, we can print the importance scores. In scikit-learn, decision trees and ensemble classifiers such as random forests all define an attribute called feature_importances_ (note the final underscore in this name). This is a NumPy array that stores the importance scores for each feature column in the training data matrix. For random forests and other tree ensembles, these importance scores are computed by averaging the scores when training all the different trees in the ensemble. \n",
    "To make these importance scores easier to understand, we can use the attribute feature_names_ (note the underscore again) in the DictVectorizer. \n",
    "Sort the features by importance scores in reverse order (so that the most important feature comes first), inspect the first few of these features, and try to reason about why you got this result. "
   ]
  },
  {
   "cell_type": "code",
   "execution_count": 30,
   "metadata": {},
   "outputs": [
    {
     "data": {
      "image/png": "[encoded data removed]",
      "text/plain": [
       "<Figure size 432x288 with 1 Axes>"
      ]
     },
     "metadata": {
      "needs_background": "light"
     },
     "output_type": "display_data"
    },
    {
     "name": "stdout",
     "output_type": "stream",
     "text": [
      "the most important feature is fnlwgt\n"
     ]
    }
   ],
   "source": [
    "import numpy as np\n",
    "\n",
    "pipeline = make_pipeline(\n",
    "      DictVectorizer(),\n",
    "      RandomForestClassifier(n_estimators=2, n_jobs=-1)\n",
    "    )\n",
    "pip=pipeline.fit(X_train_dicts,Y_train)\n",
    "names= [name for name in pip.steps[0][1].feature_names_]\n",
    "importances= [importance for importance in pip.steps[1][1].feature_importances_]\n",
    "indices = np.argsort(importances)[::-1]\n",
    "matrix=[importances[i] for i in indices]\n",
    "name_matrix=[names[i] for i in indices]\n",
    "\n",
    "plt.title('Feature Importances')\n",
    "plt.bar(range(len(indices)), matrix,color=\"r\", align=\"center\")\n",
    "plt.ylabel('Relative Importance')\n",
    "plt.show()\n",
    "\n",
    "print(\"the most important feature is \" + name_matrix[0])\n"
   ]
  },
  {
   "cell_type": "markdown",
   "metadata": {},
   "source": [
    "please also mention an alternative way to compute some sort of importance score of individual features. (You don't need to implement it.) Here, you can either use your common sense, or optionally read the discussion by Parr et al. (2018) that gives some criticism of decision tree-based feature importance scores and discusses some alternatives. "
   ]
  },
  {
   "cell_type": "markdown",
   "metadata": {},
   "source": [
    "drop-column importance method can be an alternative way to compute importance score which drop a entire column then compare the influence before and after the dropped column."
   ]
  },
  {
   "cell_type": "code",
   "execution_count": null,
   "metadata": {},
   "outputs": [],
   "source": []
  }
 ],
 "metadata": {
  "kernelspec": {
   "display_name": "Python 3",
   "language": "python",
   "name": "python3"
  },
  "language_info": {
   "codemirror_mode": {
    "name": "ipython",
    "version": 3
   },
   "file_extension": ".py",
   "mimetype": "text/x-python",
   "name": "python",
   "nbconvert_exporter": "python",
   "pygments_lexer": "ipython3",
   "version": "3.7.3"
  }
 },
 "nbformat": 4,
 "nbformat_minor": 2
}
