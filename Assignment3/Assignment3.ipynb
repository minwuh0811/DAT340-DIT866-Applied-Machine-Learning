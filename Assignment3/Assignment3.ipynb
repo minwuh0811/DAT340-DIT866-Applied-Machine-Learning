{
 "cells": [
  {
   "cell_type": "markdown",
   "metadata": {},
   "source": [
    "# Programming assignment 3: spotting cars using convolutional neural networks\n",
    "In this assignment, we will see a few different approaches to building image classifiers using convolutional neural networks.\n",
    "\n",
    "We have a small image dataset and our task is to train a CNN that can find images that contain cars. CNNs are data-hungry in general and we won't get a fantastic accuracy using this dataset, so as an alternative we'll explore the opportunity to \"piggyback\" on a pre-trained CNN model for another image classification task.\n",
    "\n",
    "Purposes of this assignment:\n",
    "\n",
    "practicing the use of the Keras library for neural network development;\n",
    "getting some practical experience of working with image data and CNNs;\n",
    "investigating overfitting in CNNs;\n",
    "learning how to improve your CNN using data augmentation and transfer learning tricks.\n",
    "Work in a group up of two or three people. You can choose between (1) submitting the Python code and a short report describing everything you do and all your results, or (2) submitting a single Jupyter notebook including your code and comments as Markdown boxes.\n",
    "\n",
    "Before submitting, please make sure that:\n",
    "\n",
    "the names of all members of the group are listed at the beginning of the notebook;\n",
    "all intermediate steps, results, and your conclusions are described carefully;\n",
    "the code can be executed in one go without crashing or errors. If you use a notebook, please select Restart & Run All in the Kernel menu before you submit;\n",
    "Submit the files at the submission page in Canvas.\n",
    "\n",
    "Deadline: March 11.\n",
    "\n",
    "Preliminaries\n",
    "Repeat the lectures (or at least the notebooks) about neural network basics and convolutional neural networks.\n",
    "Make sure that Keras is installed. You can install by entering conda install tensorflow if using Anaconda. (The most recent version of Keras is bundled with the TensorFlow library.)\n",
    "If you are installing via pip/pip3 rather than Anaconda, you will need to install h5py as well, if you'd like to be able to save your trained models.\n",
    "Install the image processing library Pillow, which is needed by the Keras functions that load the images. (conda install pillow or pip3 install Pillow)\n",
    "Introduction: Loading images from a directory\n",
    "In this section, we'll see how we can a set of images stored in a directory. Your work here does not need to be included in the report.\n",
    "\n",
    "First download the package containing the images here and unpack it. These images have been extracted from a dataset included in the PASCAL Visual Object Classes Challenge 2010 (VOC2010).\n",
    "\n",
    "The structure of the directory is\n",
    "\n",
    "pa3_images\n",
    "   train\n",
    "      car   [800 images]\n",
    "      other [800 images]\n",
    "   validation\n",
    "      car   [288 images]\n",
    "      other [288 images]\n",
    "so as you can see, the images have already been split into a training and a validation set, and each subset contains a separate directory for each of the two classes (car and other). The class other contains images of various objects.\n",
    "\n",
    "Keras includes a function load_img to load a single image, but we'll use a more practical approach for this assignment.\n",
    "\n",
    "We first declare an ImageDataGenerator. This is an object that defines how images should be converted into NumPy data. In our case, we add a parameter rescale; this means that the color values range from 0 to 1 instead of 0 to 255. (This transformation is similar to a scaler in scikit-learn and has a similar purpose.)"
   ]
  },
  {
   "cell_type": "code",
   "execution_count": 636,
   "metadata": {},
   "outputs": [],
   "source": [
    "from tensorflow.keras.preprocessing.image import ImageDataGenerator\n",
    "import numpy as np\n",
    "\n",
    "data_gen = ImageDataGenerator(rescale=1.0/255)"
   ]
  },
  {
   "cell_type": "markdown",
   "metadata": {},
   "source": [
    "Now, let's read the images in the training set. By calling flow_from_directory, we apply the ImageDataGenerator to transform the images stored in a directory. This will return a generator object that loads images, transforms them, and returns them in batches of a given size.\n",
    "\n",
    "The parameters used here are:\n",
    "\n",
    "the location of the training images;\n",
    "target_size is for the size of the images: in our case, we'll resize them so that they are all 64x64 pixels;\n",
    "batch_size refers to the batch size we'll use when training;\n",
    "class_mode='binary' means that we'll treat the learning problem as a binary classification problem;\n",
    "classes is provided to make sure that other is coded as 0 and car as 1;\n",
    "seed is an arbitrary integer that initializes the random number generator for reproducibility;\n",
    "shuffle because we'd like the images to appear in a random order when training.\n",
    "If you have a severe performance problem, you can resize the images to some size smaller than 64x64. This is likely to give you a slightly lower classification accuracy. (Conversely, if you have a high-end machine, you may consider increasing the image size.)"
   ]
  },
  {
   "cell_type": "code",
   "execution_count": 637,
   "metadata": {},
   "outputs": [
    {
     "name": "stdout",
     "output_type": "stream",
     "text": [
      "Found 1600 images belonging to 2 classes.\n"
     ]
    }
   ],
   "source": [
    "imgdir = 'pa3_images' # or wherever you put them...\n",
    "img_size = 64\n",
    "batch_size = 32\n",
    "\n",
    "train_generator = data_gen.flow_from_directory(\n",
    "        imgdir + '/train',\n",
    "        target_size=(img_size, img_size),\n",
    "        batch_size=batch_size,\n",
    "        class_mode='binary',\n",
    "        classes=['other', 'car'],\n",
    "        seed=12345,\n",
    "        shuffle=True)"
   ]
  },
  {
   "cell_type": "markdown",
   "metadata": {},
   "source": [
    "We'll take a look at a few images. We first read one batch from the generator. This will return a part of the training data: some images, and the corresponding labels (0 for other, 1 for car)."
   ]
  },
  {
   "cell_type": "code",
   "execution_count": 638,
   "metadata": {},
   "outputs": [],
   "source": [
    "Xbatch, Ybatch = train_generator.next()"
   ]
  },
  {
   "cell_type": "markdown",
   "metadata": {},
   "source": [
    "What is the form of the images in the batch? We take a look at the NumPy object that was returned. It is a four-dimensional NumPy array (formally, a four-dimensional tensor).\n",
    "\n",
    "The dimensions are\n",
    "\n",
    "32, because there are 32 images in the batch\n",
    "64, for the height of each image\n",
    "64, for the width of each image\n",
    "3, because for each pixel we store the red, green, and blue value (a value between 0 and 1)"
   ]
  },
  {
   "cell_type": "code",
   "execution_count": 639,
   "metadata": {},
   "outputs": [
    {
     "data": {
      "text/plain": [
       "(32, 64, 64, 3)"
      ]
     },
     "execution_count": 639,
     "metadata": {},
     "output_type": "execute_result"
    }
   ],
   "source": [
    "Xbatch.shape"
   ]
  },
  {
   "cell_type": "code",
   "execution_count": 640,
   "metadata": {},
   "outputs": [
    {
     "data": {
      "text/plain": [
       "(64, 64, 3)"
      ]
     },
     "execution_count": 640,
     "metadata": {},
     "output_type": "execute_result"
    }
   ],
   "source": [
    "Xbatch[4].shape"
   ]
  },
  {
   "cell_type": "markdown",
   "metadata": {},
   "source": [
    "We'll take a look at the first instance. First, let's check whether this is a car or not. In my case, the label is 0 for the first instance, meaning that this is not a car. This doesn't have to be the case for you, because the images appear in a random order (shuffle=True)."
   ]
  },
  {
   "cell_type": "code",
   "execution_count": 641,
   "metadata": {},
   "outputs": [
    {
     "data": {
      "text/plain": [
       "1.0"
      ]
     },
     "execution_count": 641,
     "metadata": {},
     "output_type": "execute_result"
    }
   ],
   "source": [
    "Ybatch[4]"
   ]
  },
  {
   "cell_type": "markdown",
   "metadata": {},
   "source": [
    "Draw the image using plt.imshow. (Assuming you have imported matplotlib.pyplot as plt.) As usual when plotting, you'll need to call plt.show() or plt.savefig(), or use an interactive notebook, to see something.\n",
    "\n",
    "Hopefully, you can confirm from the image whether this is a car or not (and this should agree with Ybatch[0]). It might be a bit hard to see, because we resized the image to 64x64."
   ]
  },
  {
   "cell_type": "code",
   "execution_count": 642,
   "metadata": {},
   "outputs": [],
   "source": [
    "from matplotlib import pyplot as plt"
   ]
  },
  {
   "cell_type": "code",
   "execution_count": 643,
   "metadata": {},
   "outputs": [
    {
     "data": {
      "image/png": "[encoded data removed]",
      "text/plain": [
       "<Figure size 432x288 with 1 Axes>"
      ]
     },
     "metadata": {
      "needs_background": "light"
     },
     "output_type": "display_data"
    }
   ],
   "source": [
    "plt.imshow(Xbatch[4]);"
   ]
  },
  {
   "cell_type": "markdown",
   "metadata": {},
   "source": [
    "# Part 1: Training a convolutional neural network\n",
    "Write a function make_convnet that builds a convolutional neural network.\n",
    "\n",
    "The input shape should be (img_size, img_size, 3), where img_size is the image size we defined above (such as 64), and 3 is for the red, green, and blue \"channels\" of the image. If you make use of the code we saw during the lecture, please note that this is a binary classification problem, so it's probably good to change the output layer and use another loss function.\n",
    "\n",
    "Also remember to select a suitable optimizer.\n",
    "\n",
    "Before you can train the CNN, you need to make a second data generator for the generation of validation images. You should again use data_gen.flow_from_directory, but use the validation directory instead of the training directory.\n",
    "\n",
    "Now we have everything that we need to train the CNN. Call fit to train the model.\n",
    "\n",
    "In most cases, training will be fairly time-consuming. The exact amount needed will depend on your machine, how you constructed your CNN, and how many epochs you let it train. Typically, training will take a few minutes.\n",
    "\n",
    "Optionally, call your_cnn.save_weights(some_file_name) after training. This will save your weights to a file; you can recover them later using your_cnn.load_weights(the_same_file_name), so that you can run your CNN several times without having to re-train every time.\n",
    "\n",
    "Hint: Depending on how you build your CNN, you will see different accuracies. The dataset is balanced, so a majority-class dummy baseline would have an accuracy of 0.5. Let's hope you can get a better result than that. The validation set is a bit small because we don't have that much data, so you will probably see some fluctuation in the accuracy values.\n",
    "\n",
    "Plot the training and validation loss for each epoch. Also plot the training and validation accuracies in another plot.\n",
    "\n",
    "If you need to run the model on a dataset that you access via a generator, you can use evaluate. The loss function and the accuracy will be computed. (As you can see, these values are the same as you got in the last epoch when training.)"
   ]
  },
  {
   "cell_type": "code",
   "execution_count": 644,
   "metadata": {},
   "outputs": [
    {
     "name": "stdout",
     "output_type": "stream",
     "text": [
      "Found 576 images belonging to 2 classes.\n"
     ]
    }
   ],
   "source": [
    "validation_img = data_gen.flow_from_directory(\n",
    "        imgdir + '/validation',\n",
    "        target_size=(img_size, img_size),\n",
    "        batch_size=batch_size,\n",
    "        class_mode='binary',\n",
    "        classes=['other', 'car'],\n",
    "        seed=12345,\n",
    "        shuffle=True)"
   ]
  },
  {
   "cell_type": "code",
   "execution_count": 645,
   "metadata": {},
   "outputs": [],
   "source": [
    "Xtest, Ytest = validation_img.next()"
   ]
  },
  {
   "cell_type": "code",
   "execution_count": 646,
   "metadata": {},
   "outputs": [
    {
     "data": {
      "text/plain": [
       "(32, 64, 64, 3)"
      ]
     },
     "execution_count": 646,
     "metadata": {},
     "output_type": "execute_result"
    }
   ],
   "source": [
    "Xtest.shape"
   ]
  },
  {
   "cell_type": "code",
   "execution_count": 647,
   "metadata": {},
   "outputs": [],
   "source": [
    "from tensorflow.keras.models import Sequential\n",
    "from tensorflow.keras.layers import Dense, Activation, Flatten\n",
    "from tensorflow.keras.layers import Conv2D, MaxPooling2D \n",
    "import tensorflow.keras.backend as K\n",
    "\n",
    "def make_convent(img_size, d, classes):\n",
    "    model = Sequential()\n",
    "    model.add(Conv2D(32, kernel_size=(5, 5), strides=(1, 1), activation='relu', input_shape=(img_size,img_size, d)))\n",
    "    model.add(MaxPooling2D(pool_size=(2, 2), strides=(2, 2)))\n",
    "    model.add(Conv2D(32, (5, 5), activation='relu'))\n",
    "    model.add(MaxPooling2D(pool_size=(2, 2)))\n",
    "    model.add(Flatten())\n",
    "    model.add(Dense(128, activation='relu'))\n",
    "    model.add(Dense(classes, activation='sigmoid'))\n",
    "    return model\n"
   ]
  },
  {
   "cell_type": "code",
   "execution_count": 648,
   "metadata": {},
   "outputs": [],
   "source": [
    "model=make_convent(img_size, 3, 1)"
   ]
  },
  {
   "cell_type": "code",
   "execution_count": 649,
   "metadata": {},
   "outputs": [
    {
     "name": "stdout",
     "output_type": "stream",
     "text": [
      "Model: \"sequential_42\"\n",
      "_________________________________________________________________\n",
      "Layer (type)                 Output Shape              Param #   \n",
      "=================================================================\n",
      "conv2d_54 (Conv2D)           (None, 60, 60, 32)        2432      \n",
      "_________________________________________________________________\n",
      "max_pooling2d_54 (MaxPooling (None, 30, 30, 32)        0         \n",
      "_________________________________________________________________\n",
      "conv2d_55 (Conv2D)           (None, 26, 26, 32)        25632     \n",
      "_________________________________________________________________\n",
      "max_pooling2d_55 (MaxPooling (None, 13, 13, 32)        0         \n",
      "_________________________________________________________________\n",
      "flatten_34 (Flatten)         (None, 5408)              0         \n",
      "_________________________________________________________________\n",
      "dense_79 (Dense)             (None, 128)               692352    \n",
      "_________________________________________________________________\n",
      "dense_80 (Dense)             (None, 1)                 129       \n",
      "=================================================================\n",
      "Total params: 720,545\n",
      "Trainable params: 720,545\n",
      "Non-trainable params: 0\n",
      "_________________________________________________________________\n"
     ]
    }
   ],
   "source": [
    "model.summary()"
   ]
  },
  {
   "cell_type": "code",
   "execution_count": 650,
   "metadata": {},
   "outputs": [],
   "source": [
    "model.compile(loss='binary_crossentropy',optimizer = 'adam',  metrics = ['accuracy'])  "
   ]
  },
  {
   "cell_type": "code",
   "execution_count": 651,
   "metadata": {},
   "outputs": [
    {
     "name": "stdout",
     "output_type": "stream",
     "text": [
      "WARNING:tensorflow:sample_weight modes were coerced from\n",
      "  ...\n",
      "    to  \n",
      "  ['...']\n",
      "WARNING:tensorflow:sample_weight modes were coerced from\n",
      "  ...\n",
      "    to  \n",
      "  ['...']\n",
      "Train for 50 steps, validate for 18 steps\n",
      "Epoch 1/30\n",
      "50/50 [==============================] - 14s 270ms/step - loss: 0.6874 - accuracy: 0.5594 - val_loss: 0.6069 - val_accuracy: 0.7014\n",
      "Epoch 2/30\n",
      "50/50 [==============================] - 13s 256ms/step - loss: 0.6081 - accuracy: 0.6850 - val_loss: 0.5552 - val_accuracy: 0.7274\n",
      "Epoch 3/30\n",
      "50/50 [==============================] - 12s 247ms/step - loss: 0.5608 - accuracy: 0.7300 - val_loss: 0.5291 - val_accuracy: 0.7552\n",
      "Epoch 4/30\n",
      "50/50 [==============================] - 13s 254ms/step - loss: 0.5096 - accuracy: 0.7613 - val_loss: 0.5146 - val_accuracy: 0.7622\n",
      "Epoch 5/30\n",
      "50/50 [==============================] - 13s 254ms/step - loss: 0.4654 - accuracy: 0.7912 - val_loss: 0.5234 - val_accuracy: 0.7674\n",
      "Epoch 6/30\n",
      "50/50 [==============================] - 13s 250ms/step - loss: 0.4318 - accuracy: 0.8075 - val_loss: 0.5273 - val_accuracy: 0.7587\n",
      "Epoch 7/30\n",
      "50/50 [==============================] - 12s 245ms/step - loss: 0.4075 - accuracy: 0.8213 - val_loss: 0.4915 - val_accuracy: 0.7812\n",
      "Epoch 8/30\n",
      "50/50 [==============================] - 12s 244ms/step - loss: 0.3527 - accuracy: 0.8450 - val_loss: 0.6064 - val_accuracy: 0.7396\n",
      "Epoch 9/30\n",
      "50/50 [==============================] - 13s 250ms/step - loss: 0.3109 - accuracy: 0.8612 - val_loss: 0.5548 - val_accuracy: 0.7569\n",
      "Epoch 10/30\n",
      "50/50 [==============================] - 13s 251ms/step - loss: 0.2698 - accuracy: 0.8906 - val_loss: 0.6772 - val_accuracy: 0.7552\n",
      "Epoch 11/30\n",
      "50/50 [==============================] - 13s 252ms/step - loss: 0.2217 - accuracy: 0.9156 - val_loss: 0.6649 - val_accuracy: 0.7674\n",
      "Epoch 12/30\n",
      "50/50 [==============================] - 13s 251ms/step - loss: 0.1868 - accuracy: 0.9319 - val_loss: 0.7009 - val_accuracy: 0.7795\n",
      "Epoch 13/30\n",
      "50/50 [==============================] - 13s 251ms/step - loss: 0.1455 - accuracy: 0.9456 - val_loss: 0.6936 - val_accuracy: 0.7830\n",
      "Epoch 14/30\n",
      "50/50 [==============================] - 13s 264ms/step - loss: 0.1126 - accuracy: 0.9688 - val_loss: 0.8740 - val_accuracy: 0.7743\n",
      "Epoch 15/30\n",
      "50/50 [==============================] - 12s 249ms/step - loss: 0.0868 - accuracy: 0.9731 - val_loss: 0.8738 - val_accuracy: 0.7951\n",
      "Epoch 16/30\n",
      "50/50 [==============================] - 13s 259ms/step - loss: 0.0597 - accuracy: 0.9837 - val_loss: 1.0235 - val_accuracy: 0.7812\n",
      "Epoch 17/30\n",
      "50/50 [==============================] - 13s 250ms/step - loss: 0.0371 - accuracy: 0.9912 - val_loss: 1.0558 - val_accuracy: 0.7726\n",
      "Epoch 18/30\n",
      "50/50 [==============================] - 12s 247ms/step - loss: 0.0260 - accuracy: 0.9962 - val_loss: 1.2118 - val_accuracy: 0.7812\n",
      "Epoch 19/30\n",
      "50/50 [==============================] - 13s 263ms/step - loss: 0.0201 - accuracy: 0.9975 - val_loss: 1.3278 - val_accuracy: 0.7917\n",
      "Epoch 20/30\n",
      "50/50 [==============================] - 12s 248ms/step - loss: 0.0097 - accuracy: 0.9994 - val_loss: 1.4078 - val_accuracy: 0.7812\n",
      "Epoch 21/30\n",
      "50/50 [==============================] - 13s 252ms/step - loss: 0.0065 - accuracy: 0.9994 - val_loss: 1.4260 - val_accuracy: 0.7812\n",
      "Epoch 22/30\n",
      "50/50 [==============================] - 12s 249ms/step - loss: 0.0045 - accuracy: 0.9994 - val_loss: 1.4915 - val_accuracy: 0.7865\n",
      "Epoch 23/30\n",
      "50/50 [==============================] - 13s 252ms/step - loss: 0.0032 - accuracy: 0.9994 - val_loss: 1.5813 - val_accuracy: 0.7899\n",
      "Epoch 24/30\n",
      "50/50 [==============================] - 12s 249ms/step - loss: 0.0026 - accuracy: 0.9994 - val_loss: 1.5861 - val_accuracy: 0.7882\n",
      "Epoch 25/30\n",
      "50/50 [==============================] - 13s 251ms/step - loss: 0.0021 - accuracy: 0.9994 - val_loss: 1.6788 - val_accuracy: 0.7865\n",
      "Epoch 26/30\n",
      "50/50 [==============================] - 13s 255ms/step - loss: 0.0016 - accuracy: 0.9994 - val_loss: 1.6870 - val_accuracy: 0.7812\n",
      "Epoch 27/30\n",
      "50/50 [==============================] - 13s 252ms/step - loss: 0.0013 - accuracy: 1.0000 - val_loss: 1.7844 - val_accuracy: 0.7917\n",
      "Epoch 28/30\n",
      "50/50 [==============================] - 13s 252ms/step - loss: 0.0011 - accuracy: 1.0000 - val_loss: 1.7767 - val_accuracy: 0.7865\n",
      "Epoch 29/30\n",
      "50/50 [==============================] - 12s 250ms/step - loss: 8.3946e-04 - accuracy: 1.0000 - val_loss: 1.8167 - val_accuracy: 0.7899\n",
      "Epoch 30/30\n",
      "50/50 [==============================] - 13s 256ms/step - loss: 6.8307e-04 - accuracy: 1.0000 - val_loss: 1.8393 - val_accuracy: 0.7899\n"
     ]
    }
   ],
   "source": [
    "h1 = model.fit_generator(train_generator,verbose=1, epochs=30,validation_data=validation_img, class_weight=32)"
   ]
  },
  {
   "cell_type": "code",
   "execution_count": 652,
   "metadata": {},
   "outputs": [],
   "source": [
    "model.save_weights('weights.txt')"
   ]
  },
  {
   "cell_type": "code",
   "execution_count": 665,
   "metadata": {},
   "outputs": [
    {
     "name": "stdout",
     "output_type": "stream",
     "text": [
      "WARNING:tensorflow:sample_weight modes were coerced from\n",
      "  ...\n",
      "    to  \n",
      "  ['...']\n",
      "Test loss: 0.45972517132759094\n",
      "Test accuracy: 0.8072917\n"
     ]
    }
   ],
   "source": [
    "score = model.evaluate(validation_img, verbose=0)\n",
    "print('Test loss:', score[0])\n",
    "print('Test accuracy:', score[1])"
   ]
  },
  {
   "cell_type": "code",
   "execution_count": 654,
   "metadata": {},
   "outputs": [
    {
     "name": "stdout",
     "output_type": "stream",
     "text": [
      "0.7951389\n"
     ]
    }
   ],
   "source": [
    "print(max(h.history[\"val_accuracy\"]))"
   ]
  },
  {
   "cell_type": "code",
   "execution_count": 655,
   "metadata": {},
   "outputs": [
    {
     "data": {
      "text/plain": [
       "<matplotlib.legend.Legend at 0x163cef12be0>"
      ]
     },
     "execution_count": 655,
     "metadata": {},
     "output_type": "execute_result"
    },
    {
     "data": {
      "image/png": "[encoded data removed]",
      "text/plain": [
       "<Figure size 1368x1440 with 1 Axes>"
      ]
     },
     "metadata": {
      "needs_background": "light"
     },
     "output_type": "display_data"
    }
   ],
   "source": [
    "fig=plt.figure(figsize=(19,20))\n",
    "ax1=fig.add_subplot(2,2,1)\n",
    "data=np.arange(1, 31) \n",
    "ax1.plot(data, h.history[\"loss\"], color='olive',marker='o', markerfacecolor='olive', markersize=4, linewidth=2,label='train_loss')\n",
    "ax1.plot(data, h.history[\"val_loss\"], color='#377eb8',marker='o', markerfacecolor='#377eb8', markersize=4, linewidth=2,label='val_loss')\n",
    "ax1.plot(data, h.history[\"accuracy\"], color='#4daf4a',marker='o', markerfacecolor='#4daf4a', markersize=4, linewidth=2,label='train_accuracy')\n",
    "ax1.plot(data, h.history[\"val_accuracy\"], color='#ff7f00',marker='o', markerfacecolor='#ff7f00', markersize=4, linewidth=2,label='val_accuracy')\n",
    "ax1.legend()"
   ]
  },
  {
   "cell_type": "markdown",
   "metadata": {},
   "source": [
    "# Part 2: Data augmentation\n",
    "Most likely, unless you applied early stopping very aggressively, you saw some overfitting in your solution.\n",
    "\n",
    "One approach to reducing the risk of overfitting to the training set is to apply data augmentation. This means that we create additional training instances by applying different types of modifications to the existing training images.\n",
    "\n",
    "Take a look at the documentation of ImageDataGenerator. Several of the optional parameters enable different types of data augmentation, such as rotation, mirroring, and changing the colors."
   ]
  },
  {
   "cell_type": "markdown",
   "metadata": {},
   "source": [
    "Make a new ImageDataGenerator that applies data augmentation to the training images.\n",
    "\n",
    "Make a new training data generator that uses the new ImageDataGenerator, instead of the generator data_gen we originally used, and retrain your model. (Note: The generator for reading the validation data should not use data augumentation.)\n",
    "\n",
    "Do you see an improvement on the validation set?\n",
    "\n",
    "Hint: If you play around with different types of data augmentation you will notice that there's a tradeoff between underfitting and overfitting. Typically, if you tune your augmentation carefully you will see a small improvement, but this will of course depend on how you built your CNN. Also, keep in mind that our validation set is tiny, so we see quite a bit of fluctuation in our evaluations. So even if the data augmentation has actually improved your classifier, it might be hard to discern the effect.\n",
    "\n",
    "Again, plot the losses and accuracies. Do you see any change?\n",
    "\n"
   ]
  },
  {
   "cell_type": "code",
   "execution_count": 656,
   "metadata": {},
   "outputs": [],
   "source": [
    "datagen = ImageDataGenerator(rotation_range=25, width_shift_range=0.1,height_shift_range=0.1,shear_range=0.2,zoom_range=0.2,horizontal_flip=True,fill_mode='nearest',rescale=1.0/255)"
   ]
  },
  {
   "cell_type": "code",
   "execution_count": 657,
   "metadata": {},
   "outputs": [
    {
     "name": "stdout",
     "output_type": "stream",
     "text": [
      "Found 1600 images belonging to 2 classes.\n"
     ]
    }
   ],
   "source": [
    "traingenerator = datagen.flow_from_directory(\n",
    "        imgdir + '/train',\n",
    "        target_size=(img_size, img_size),\n",
    "        batch_size=batch_size,\n",
    "        class_mode='binary',\n",
    "        classes=['other', 'car'],\n",
    "        seed=12345,\n",
    "        shuffle=True)"
   ]
  },
  {
   "cell_type": "code",
   "execution_count": 658,
   "metadata": {},
   "outputs": [],
   "source": [
    "XbatchRe, YbatchRe = traingenerator.next()"
   ]
  },
  {
   "cell_type": "code",
   "execution_count": 659,
   "metadata": {},
   "outputs": [
    {
     "data": {
      "image/png": "[encoded data removed]",
      "text/plain": [
       "<Figure size 432x288 with 1 Axes>"
      ]
     },
     "metadata": {
      "needs_background": "light"
     },
     "output_type": "display_data"
    }
   ],
   "source": [
    "plt.imshow(XbatchRe[4]);"
   ]
  },
  {
   "cell_type": "code",
   "execution_count": 661,
   "metadata": {},
   "outputs": [
    {
     "name": "stdout",
     "output_type": "stream",
     "text": [
      "WARNING:tensorflow:sample_weight modes were coerced from\n",
      "  ...\n",
      "    to  \n",
      "  ['...']\n",
      "WARNING:tensorflow:sample_weight modes were coerced from\n",
      "  ...\n",
      "    to  \n",
      "  ['...']\n",
      "Train for 50 steps, validate for 18 steps\n",
      "Epoch 1/30\n",
      "50/50 [==============================] - 16s 317ms/step - loss: 1.1167 - accuracy: 0.6237 - val_loss: 0.7534 - val_accuracy: 0.6667\n",
      "Epoch 2/30\n",
      "50/50 [==============================] - 17s 330ms/step - loss: 0.6320 - accuracy: 0.6538 - val_loss: 0.6190 - val_accuracy: 0.7014\n",
      "Epoch 3/30\n",
      "50/50 [==============================] - 14s 285ms/step - loss: 0.5877 - accuracy: 0.6950 - val_loss: 0.5775 - val_accuracy: 0.7483\n",
      "Epoch 4/30\n",
      "50/50 [==============================] - 14s 282ms/step - loss: 0.5555 - accuracy: 0.7269 - val_loss: 0.5793 - val_accuracy: 0.7014\n",
      "Epoch 5/30\n",
      "50/50 [==============================] - 15s 298ms/step - loss: 0.5299 - accuracy: 0.7444 - val_loss: 0.5334 - val_accuracy: 0.7500\n",
      "Epoch 6/30\n",
      "50/50 [==============================] - 14s 283ms/step - loss: 0.4978 - accuracy: 0.7563 - val_loss: 0.5230 - val_accuracy: 0.7552\n",
      "Epoch 7/30\n",
      "50/50 [==============================] - 14s 285ms/step - loss: 0.4891 - accuracy: 0.7638 - val_loss: 0.4979 - val_accuracy: 0.7396\n",
      "Epoch 8/30\n",
      "50/50 [==============================] - 15s 297ms/step - loss: 0.4813 - accuracy: 0.7694 - val_loss: 0.5490 - val_accuracy: 0.7135\n",
      "Epoch 9/30\n",
      "50/50 [==============================] - 14s 286ms/step - loss: 0.5298 - accuracy: 0.7394 - val_loss: 0.5669 - val_accuracy: 0.7153\n",
      "Epoch 10/30\n",
      "50/50 [==============================] - 15s 295ms/step - loss: 0.4763 - accuracy: 0.7800 - val_loss: 0.4809 - val_accuracy: 0.8003\n",
      "Epoch 11/30\n",
      "50/50 [==============================] - 14s 287ms/step - loss: 0.4617 - accuracy: 0.7875 - val_loss: 0.4580 - val_accuracy: 0.7951\n",
      "Epoch 12/30\n",
      "50/50 [==============================] - 14s 289ms/step - loss: 0.4528 - accuracy: 0.7900 - val_loss: 0.4661 - val_accuracy: 0.7934\n",
      "Epoch 13/30\n",
      "50/50 [==============================] - 14s 285ms/step - loss: 0.4410 - accuracy: 0.7906 - val_loss: 0.5105 - val_accuracy: 0.7535\n",
      "Epoch 14/30\n",
      "50/50 [==============================] - 15s 297ms/step - loss: 0.4373 - accuracy: 0.8031 - val_loss: 0.4932 - val_accuracy: 0.7622\n",
      "Epoch 15/30\n",
      "50/50 [==============================] - 14s 283ms/step - loss: 0.4417 - accuracy: 0.7906 - val_loss: 0.4531 - val_accuracy: 0.8160\n",
      "Epoch 16/30\n",
      "50/50 [==============================] - 14s 284ms/step - loss: 0.4167 - accuracy: 0.8106 - val_loss: 0.4665 - val_accuracy: 0.7934\n",
      "Epoch 17/30\n",
      "50/50 [==============================] - 14s 287ms/step - loss: 0.3824 - accuracy: 0.8269 - val_loss: 0.4680 - val_accuracy: 0.7899\n",
      "Epoch 18/30\n",
      "50/50 [==============================] - 14s 287ms/step - loss: 0.4048 - accuracy: 0.8131 - val_loss: 0.4549 - val_accuracy: 0.8056\n",
      "Epoch 19/30\n",
      "50/50 [==============================] - 15s 300ms/step - loss: 0.3915 - accuracy: 0.8275 - val_loss: 0.4462 - val_accuracy: 0.8003\n",
      "Epoch 20/30\n",
      "50/50 [==============================] - 15s 293ms/step - loss: 0.3854 - accuracy: 0.8175 - val_loss: 0.4771 - val_accuracy: 0.7812\n",
      "Epoch 21/30\n",
      "50/50 [==============================] - 14s 287ms/step - loss: 0.3844 - accuracy: 0.8269 - val_loss: 0.4091 - val_accuracy: 0.8056\n",
      "Epoch 22/30\n",
      "50/50 [==============================] - 14s 290ms/step - loss: 0.3894 - accuracy: 0.8188 - val_loss: 0.4412 - val_accuracy: 0.7951\n",
      "Epoch 23/30\n",
      "50/50 [==============================] - 15s 294ms/step - loss: 0.3519 - accuracy: 0.8413 - val_loss: 0.4311 - val_accuracy: 0.8125\n",
      "Epoch 24/30\n",
      "50/50 [==============================] - 14s 286ms/step - loss: 0.3738 - accuracy: 0.8256 - val_loss: 0.4948 - val_accuracy: 0.7969\n",
      "Epoch 25/30\n",
      "50/50 [==============================] - 14s 288ms/step - loss: 0.3745 - accuracy: 0.8319 - val_loss: 0.4300 - val_accuracy: 0.8142\n",
      "Epoch 26/30\n",
      "50/50 [==============================] - 14s 285ms/step - loss: 0.3325 - accuracy: 0.8519 - val_loss: 0.4618 - val_accuracy: 0.7986\n",
      "Epoch 27/30\n",
      "50/50 [==============================] - 14s 285ms/step - loss: 0.3272 - accuracy: 0.8581 - val_loss: 0.4967 - val_accuracy: 0.7778\n",
      "Epoch 28/30\n",
      "50/50 [==============================] - 14s 289ms/step - loss: 0.3671 - accuracy: 0.8331 - val_loss: 0.4658 - val_accuracy: 0.8021\n",
      "Epoch 29/30\n",
      "50/50 [==============================] - 15s 291ms/step - loss: 0.3476 - accuracy: 0.8438 - val_loss: 0.4578 - val_accuracy: 0.8038\n",
      "Epoch 30/30\n",
      "50/50 [==============================] - 14s 290ms/step - loss: 0.3464 - accuracy: 0.8531 - val_loss: 0.4597 - val_accuracy: 0.8073\n"
     ]
    }
   ],
   "source": [
    "h = model.fit_generator(traingenerator,verbose=1, epochs=30,validation_data=validation_img, class_weight=32)"
   ]
  },
  {
   "cell_type": "code",
   "execution_count": 663,
   "metadata": {},
   "outputs": [
    {
     "name": "stdout",
     "output_type": "stream",
     "text": [
      "WARNING:tensorflow:sample_weight modes were coerced from\n",
      "  ...\n",
      "    to  \n",
      "  ['...']\n",
      "Test loss: 0.45972517132759094\n",
      "Test accuracy: 0.8072917\n",
      "dict_keys(['loss', 'accuracy', 'val_loss', 'val_accuracy'])\n"
     ]
    }
   ],
   "source": [
    "score = model.evaluate(validation_img, verbose=0)\n",
    "print('Test loss:', score[0])\n",
    "print('Test accuracy:', score[1])\n",
    "print(h.history.keys())"
   ]
  },
  {
   "cell_type": "code",
   "execution_count": 662,
   "metadata": {},
   "outputs": [
    {
     "data": {
      "text/plain": [
       "<matplotlib.legend.Legend at 0x163eb035cf8>"
      ]
     },
     "execution_count": 662,
     "metadata": {},
     "output_type": "execute_result"
    },
    {
     "data": {
      "image/png": "[encoded data removed]",
      "text/plain": [
       "<Figure size 1368x1440 with 1 Axes>"
      ]
     },
     "metadata": {
      "needs_background": "light"
     },
     "output_type": "display_data"
    }
   ],
   "source": [
    "fig=plt.figure(figsize=(19,20))\n",
    "ax1=fig.add_subplot(2,2,1)\n",
    "data=np.arange(1, 31) \n",
    "ax1.plot(data, d.history[\"loss\"], color='olive',marker='o', markerfacecolor='olive', markersize=4, linewidth=2,label='train_loss')\n",
    "ax1.plot(data, d.history[\"val_loss\"], color='#377eb8',marker='o', markerfacecolor='#377eb8', markersize=4, linewidth=2,label='val_loss')\n",
    "ax1.plot(data, d.history[\"accuracy\"], color='#4daf4a',marker='o', markerfacecolor='#4daf4a', markersize=4, linewidth=2,label='train_accuracy')\n",
    "ax1.plot(data, d.history[\"val_accuracy\"], color='#ff7f00',marker='o', markerfacecolor='#ff7f00', markersize=4, linewidth=2,label='val_accuracy')\n",
    "ax1.legend()"
   ]
  },
  {
   "cell_type": "markdown",
   "metadata": {},
   "source": [
    "Interlude: Applying a pre-trained convolutional neural network\n",
    "One of the most famous image databases used in computer vision is called ImageNet. It contains a very large number of categories and an even larger number of example images for each category. This is one of the standard benchmarks in the field.\n",
    "\n",
    "Several CNNs that have been trained on ImageNet have been released to the public, and Keras includes several of them. In this exercise, we'll use the model called VGG-16, which was developed by a group at the university of Oxford. Here is a description of VGG-16.\n",
    "\n",
    "We use the built-in function in Keras to build the VGG-16 model and load the weights. Here, weights='imagenet' means that we use the pre-trained weights, and include_top=True that we use the full classification model.\n",
    "\n",
    "The first time you execute this code, the VGG-16 model will be downloaded. (It will then be stored on your disk for future use.)"
   ]
  },
  {
   "cell_type": "code",
   "execution_count": 666,
   "metadata": {},
   "outputs": [],
   "source": [
    "from tensorflow.keras import applications\n",
    "from tensorflow.keras.preprocessing.image import load_img, img_to_array\n",
    "from tensorflow.keras.applications.vgg16 import decode_predictions, preprocess_input\n",
    "\n",
    "vggmodel = applications.VGG16(weights='imagenet', include_top=True)"
   ]
  },
  {
   "cell_type": "code",
   "execution_count": 667,
   "metadata": {},
   "outputs": [
    {
     "name": "stdout",
     "output_type": "stream",
     "text": [
      "Model: \"vgg16\"\n",
      "_________________________________________________________________\n",
      "Layer (type)                 Output Shape              Param #   \n",
      "=================================================================\n",
      "input_7 (InputLayer)         [(None, 224, 224, 3)]     0         \n",
      "_________________________________________________________________\n",
      "block1_conv1 (Conv2D)        (None, 224, 224, 64)      1792      \n",
      "_________________________________________________________________\n",
      "block1_conv2 (Conv2D)        (None, 224, 224, 64)      36928     \n",
      "_________________________________________________________________\n",
      "block1_pool (MaxPooling2D)   (None, 112, 112, 64)      0         \n",
      "_________________________________________________________________\n",
      "block2_conv1 (Conv2D)        (None, 112, 112, 128)     73856     \n",
      "_________________________________________________________________\n",
      "block2_conv2 (Conv2D)        (None, 112, 112, 128)     147584    \n",
      "_________________________________________________________________\n",
      "block2_pool (MaxPooling2D)   (None, 56, 56, 128)       0         \n",
      "_________________________________________________________________\n",
      "block3_conv1 (Conv2D)        (None, 56, 56, 256)       295168    \n",
      "_________________________________________________________________\n",
      "block3_conv2 (Conv2D)        (None, 56, 56, 256)       590080    \n",
      "_________________________________________________________________\n",
      "block3_conv3 (Conv2D)        (None, 56, 56, 256)       590080    \n",
      "_________________________________________________________________\n",
      "block3_pool (MaxPooling2D)   (None, 28, 28, 256)       0         \n",
      "_________________________________________________________________\n",
      "block4_conv1 (Conv2D)        (None, 28, 28, 512)       1180160   \n",
      "_________________________________________________________________\n",
      "block4_conv2 (Conv2D)        (None, 28, 28, 512)       2359808   \n",
      "_________________________________________________________________\n",
      "block4_conv3 (Conv2D)        (None, 28, 28, 512)       2359808   \n",
      "_________________________________________________________________\n",
      "block4_pool (MaxPooling2D)   (None, 14, 14, 512)       0         \n",
      "_________________________________________________________________\n",
      "block5_conv1 (Conv2D)        (None, 14, 14, 512)       2359808   \n",
      "_________________________________________________________________\n",
      "block5_conv2 (Conv2D)        (None, 14, 14, 512)       2359808   \n",
      "_________________________________________________________________\n",
      "block5_conv3 (Conv2D)        (None, 14, 14, 512)       2359808   \n",
      "_________________________________________________________________\n",
      "block5_pool (MaxPooling2D)   (None, 7, 7, 512)         0         \n",
      "_________________________________________________________________\n",
      "flatten (Flatten)            (None, 25088)             0         \n",
      "_________________________________________________________________\n",
      "fc1 (Dense)                  (None, 4096)              102764544 \n",
      "_________________________________________________________________\n",
      "fc2 (Dense)                  (None, 4096)              16781312  \n",
      "_________________________________________________________________\n",
      "predictions (Dense)          (None, 1000)              4097000   \n",
      "=================================================================\n",
      "Total params: 138,357,544\n",
      "Trainable params: 138,357,544\n",
      "Non-trainable params: 0\n",
      "_________________________________________________________________\n"
     ]
    }
   ],
   "source": [
    "vggmodel.summary()"
   ]
  },
  {
   "cell_type": "code",
   "execution_count": 668,
   "metadata": {},
   "outputs": [],
   "source": [
    "imageTrain=load_img('./pa3_images/train/car/0004.jpg', target_size=(224,224))"
   ]
  },
  {
   "cell_type": "code",
   "execution_count": 669,
   "metadata": {},
   "outputs": [],
   "source": [
    "imageTest=load_img('./pa3_images/validation/other/0012.jpg', target_size=(224,224))"
   ]
  },
  {
   "cell_type": "code",
   "execution_count": 670,
   "metadata": {},
   "outputs": [],
   "source": [
    "imageTrain = img_to_array(imageTrain)"
   ]
  },
  {
   "cell_type": "code",
   "execution_count": 671,
   "metadata": {},
   "outputs": [],
   "source": [
    "imageTrain = np.expand_dims(imageTrain, axis=0)"
   ]
  },
  {
   "cell_type": "code",
   "execution_count": 672,
   "metadata": {},
   "outputs": [
    {
     "data": {
      "text/plain": [
       "(1, 224, 224, 3)"
      ]
     },
     "execution_count": 672,
     "metadata": {},
     "output_type": "execute_result"
    }
   ],
   "source": [
    "imageTrain.shape"
   ]
  },
  {
   "cell_type": "code",
   "execution_count": 673,
   "metadata": {},
   "outputs": [],
   "source": [
    "imageTest = img_to_array(imageTest)"
   ]
  },
  {
   "cell_type": "code",
   "execution_count": 674,
   "metadata": {},
   "outputs": [],
   "source": [
    "imageTrain=preprocess_input(imageTrain)"
   ]
  },
  {
   "cell_type": "code",
   "execution_count": 675,
   "metadata": {},
   "outputs": [],
   "source": [
    "imageTest=preprocess_input(imageTest)"
   ]
  },
  {
   "cell_type": "code",
   "execution_count": 676,
   "metadata": {},
   "outputs": [],
   "source": [
    "imageTrain = imageTrain.reshape(1, 224, 224, 3)"
   ]
  },
  {
   "cell_type": "code",
   "execution_count": 677,
   "metadata": {},
   "outputs": [
    {
     "data": {
      "text/plain": [
       "(1, 224, 224, 3)"
      ]
     },
     "execution_count": 677,
     "metadata": {},
     "output_type": "execute_result"
    }
   ],
   "source": [
    "imageTrain.shape"
   ]
  },
  {
   "cell_type": "code",
   "execution_count": 678,
   "metadata": {},
   "outputs": [],
   "source": [
    "imageTest = imageTest.reshape(1, 224, 224, 3)"
   ]
  },
  {
   "cell_type": "code",
   "execution_count": 679,
   "metadata": {},
   "outputs": [],
   "source": [
    "features = vggmodel.predict(imageTrain)"
   ]
  },
  {
   "cell_type": "code",
   "execution_count": 680,
   "metadata": {},
   "outputs": [
    {
     "data": {
      "text/plain": [
       "(1, 1000)"
      ]
     },
     "execution_count": 680,
     "metadata": {},
     "output_type": "execute_result"
    }
   ],
   "source": [
    "features.shape"
   ]
  },
  {
   "cell_type": "code",
   "execution_count": 681,
   "metadata": {},
   "outputs": [
    {
     "name": "stdout",
     "output_type": "stream",
     "text": [
      "Predicted: [('n03930630', 'pickup', 0.6246942), ('n04461696', 'tow_truck', 0.21569963), ('n02930766', 'cab', 0.11638441), ('n02814533', 'beach_wagon', 0.00987275), ('n03459775', 'grille', 0.005154153), ('n04252225', 'snowplow', 0.005060414), ('n03100240', 'convertible', 0.0048265723), ('n02974003', 'car_wheel', 0.003293323), ('n03345487', 'fire_engine', 0.0029164401), ('n02701002', 'ambulance', 0.002424785)]\n"
     ]
    }
   ],
   "source": [
    "print('Predicted:', decode_predictions(features, top=10)[0])"
   ]
  },
  {
   "cell_type": "markdown",
   "metadata": {},
   "source": [
    "# Part 3: Using VGG-16 as a feature extractor\n",
    "Let's return to the problem of finding images of cars.\n",
    "\n",
    "Since we just have 1,600 training images, the CNN we trained earlier wasn't fantastically successful. We'll now take a different approach, inspired by the paper by Razavian et al. (2014): we'll use the VGG-16 model as a feature extractor: we'll apply the convolutional part of the VGG-16 model to our images, and use this output as the input of our own classifier. This solution is an example of transfer learning, which means that we leverage the knowledge stored in a pre-trained model and apply it to our specific task.\n",
    "\n",
    "To get started, we load the VGG-16 model once more. Please note that the parameters are a bit different this time:\n",
    "\n",
    "include_top=False because we won't use the highest layers in the ImageNet classifier. Instead, we'll train our own classifier.\n",
    "We specify an input_shape that overrides the 224x224 size that is the default size used by VGG-16. For the purpose of comparing to our previous results, we'll use the same size as in our first CNN classifier."
   ]
  },
  {
   "cell_type": "code",
   "execution_count": 682,
   "metadata": {},
   "outputs": [],
   "source": [
    "feature_extractor = applications.VGG16(weights='imagenet', include_top=False, input_shape=(img_size, img_size, 3))"
   ]
  },
  {
   "cell_type": "code",
   "execution_count": 683,
   "metadata": {},
   "outputs": [
    {
     "name": "stdout",
     "output_type": "stream",
     "text": [
      "Model: \"vgg16\"\n",
      "_________________________________________________________________\n",
      "Layer (type)                 Output Shape              Param #   \n",
      "=================================================================\n",
      "input_8 (InputLayer)         [(None, 64, 64, 3)]       0         \n",
      "_________________________________________________________________\n",
      "block1_conv1 (Conv2D)        (None, 64, 64, 64)        1792      \n",
      "_________________________________________________________________\n",
      "block1_conv2 (Conv2D)        (None, 64, 64, 64)        36928     \n",
      "_________________________________________________________________\n",
      "block1_pool (MaxPooling2D)   (None, 32, 32, 64)        0         \n",
      "_________________________________________________________________\n",
      "block2_conv1 (Conv2D)        (None, 32, 32, 128)       73856     \n",
      "_________________________________________________________________\n",
      "block2_conv2 (Conv2D)        (None, 32, 32, 128)       147584    \n",
      "_________________________________________________________________\n",
      "block2_pool (MaxPooling2D)   (None, 16, 16, 128)       0         \n",
      "_________________________________________________________________\n",
      "block3_conv1 (Conv2D)        (None, 16, 16, 256)       295168    \n",
      "_________________________________________________________________\n",
      "block3_conv2 (Conv2D)        (None, 16, 16, 256)       590080    \n",
      "_________________________________________________________________\n",
      "block3_conv3 (Conv2D)        (None, 16, 16, 256)       590080    \n",
      "_________________________________________________________________\n",
      "block3_pool (MaxPooling2D)   (None, 8, 8, 256)         0         \n",
      "_________________________________________________________________\n",
      "block4_conv1 (Conv2D)        (None, 8, 8, 512)         1180160   \n",
      "_________________________________________________________________\n",
      "block4_conv2 (Conv2D)        (None, 8, 8, 512)         2359808   \n",
      "_________________________________________________________________\n",
      "block4_conv3 (Conv2D)        (None, 8, 8, 512)         2359808   \n",
      "_________________________________________________________________\n",
      "block4_pool (MaxPooling2D)   (None, 4, 4, 512)         0         \n",
      "_________________________________________________________________\n",
      "block5_conv1 (Conv2D)        (None, 4, 4, 512)         2359808   \n",
      "_________________________________________________________________\n",
      "block5_conv2 (Conv2D)        (None, 4, 4, 512)         2359808   \n",
      "_________________________________________________________________\n",
      "block5_conv3 (Conv2D)        (None, 4, 4, 512)         2359808   \n",
      "_________________________________________________________________\n",
      "block5_pool (MaxPooling2D)   (None, 2, 2, 512)         0         \n",
      "=================================================================\n",
      "Total params: 14,714,688\n",
      "Trainable params: 14,714,688\n",
      "Non-trainable params: 0\n",
      "_________________________________________________________________\n"
     ]
    }
   ],
   "source": [
    "feature_extractor.summary()"
   ]
  },
  {
   "cell_type": "markdown",
   "metadata": {},
   "source": [
    "#Add Layers"
   ]
  },
  {
   "cell_type": "code",
   "execution_count": 684,
   "metadata": {},
   "outputs": [],
   "source": [
    "def make_output(base_model,num_class):\n",
    "    feature= Sequential() \n",
    "    feature.add(Flatten(input_shape=base_model.output_shape[1:]))\n",
    "    feature.add(Dense(units=1000,activation=\"relu\"))\n",
    "    feature.add(Dense(units=1000,activation=\"relu\"))\n",
    "    feature.add(Dense(units=num_class, activation=\"softmax\"))\n",
    "    return feature"
   ]
  },
  {
   "cell_type": "code",
   "execution_count": 685,
   "metadata": {},
   "outputs": [],
   "source": [
    "feature=make_output(feature_extractor, 2)"
   ]
  },
  {
   "cell_type": "code",
   "execution_count": 686,
   "metadata": {},
   "outputs": [
    {
     "name": "stdout",
     "output_type": "stream",
     "text": [
      "Model: \"sequential_43\"\n",
      "_________________________________________________________________\n",
      "Layer (type)                 Output Shape              Param #   \n",
      "=================================================================\n",
      "flatten_35 (Flatten)         (None, 2048)              0         \n",
      "_________________________________________________________________\n",
      "dense_81 (Dense)             (None, 1000)              2049000   \n",
      "_________________________________________________________________\n",
      "dense_82 (Dense)             (None, 1000)              1001000   \n",
      "_________________________________________________________________\n",
      "dense_83 (Dense)             (None, 2)                 2002      \n",
      "=================================================================\n",
      "Total params: 3,052,002\n",
      "Trainable params: 3,052,002\n",
      "Non-trainable params: 0\n",
      "_________________________________________________________________\n"
     ]
    }
   ],
   "source": [
    "feature.summary()"
   ]
  },
  {
   "cell_type": "code",
   "execution_count": 687,
   "metadata": {},
   "outputs": [],
   "source": [
    "vgg_data_gen = ImageDataGenerator(preprocessing_function=preprocess_input)"
   ]
  },
  {
   "cell_type": "code",
   "execution_count": 688,
   "metadata": {},
   "outputs": [],
   "source": [
    "def create_vgg16_features(SOME_FILE_NAME, folder):\n",
    "    traindata=vgg_data_gen.flow_from_directory(imgdir + folder , target_size=(img_size, img_size), batch_size=batch_size, class_mode='binary', classes=['other', 'car'], seed=12345, shuffle=False)\n",
    "    cnn_features=feature_extractor.predict(traindata)\n",
    "    with open(SOME_FILE_NAME, 'wb') as f:\n",
    "         np.save(f, cnn_features)\n",
    "\n",
    "    "
   ]
  },
  {
   "cell_type": "code",
   "execution_count": 689,
   "metadata": {},
   "outputs": [
    {
     "name": "stdout",
     "output_type": "stream",
     "text": [
      "Found 1600 images belonging to 2 classes.\n"
     ]
    }
   ],
   "source": [
    "create_vgg16_features('train_vgg16', '/train')"
   ]
  },
  {
   "cell_type": "code",
   "execution_count": 690,
   "metadata": {},
   "outputs": [
    {
     "name": "stdout",
     "output_type": "stream",
     "text": [
      "Found 576 images belonging to 2 classes.\n"
     ]
    }
   ],
   "source": [
    "create_vgg16_features('validation_vgg16', '/validation')"
   ]
  },
  {
   "cell_type": "code",
   "execution_count": 691,
   "metadata": {},
   "outputs": [],
   "source": [
    "def get_labels(n):\n",
    "    return np.array([0]*(n//2) + [1]*(n//2))  \n",
    "def train_on_cnnfeatures(SOME_FILE_NAME1,SOME_FILE_NAME2):\n",
    "    feature= Sequential() \n",
    "    feature.add(Dense(units=1000,activation=\"relu\"))\n",
    "    feature.add(Dense(units=1000,activation=\"relu\"))\n",
    "    feature.add(Dense(units=2, activation=\"softmax\")) \n",
    "    feature.compile(loss='sparse_categorical_crossentropy',optimizer = 'adam',  metrics = ['accuracy'])  \n",
    "    \n",
    "    with open(SOME_FILE_NAME1, 'rb') as f:\n",
    "        train_data = np.load(f)\n",
    "        traindata=train_data.reshape(1600,2048)\n",
    "        \n",
    "    \n",
    "    with open(SOME_FILE_NAME2, 'rb') as f:\n",
    "        validation_data = np.load(f)\n",
    "        validationdata=validation_data.reshape(576,2048)\n",
    "\n",
    "    \n",
    "    \n",
    "    return feature\n",
    "    \n",
    "  "
   ]
  },
  {
   "cell_type": "code",
   "execution_count": 696,
   "metadata": {},
   "outputs": [
    {
     "name": "stdout",
     "output_type": "stream",
     "text": [
      "Train on 1600 samples, validate on 576 samples\n",
      "Epoch 1/50\n",
      "1600/1600 [==============================] - 3s 2ms/sample - loss: 4.1198 - accuracy: 0.8356 - val_loss: 0.7538 - val_accuracy: 0.8715\n",
      "Epoch 2/50\n",
      "1600/1600 [==============================] - 2s 1ms/sample - loss: 0.1335 - accuracy: 0.9588 - val_loss: 0.6560 - val_accuracy: 0.8993\n",
      "Epoch 3/50\n",
      "1600/1600 [==============================] - 2s 1ms/sample - loss: 0.0597 - accuracy: 0.9831 - val_loss: 0.5131 - val_accuracy: 0.9045\n",
      "Epoch 4/50\n",
      "1600/1600 [==============================] - 2s 2ms/sample - loss: 0.0029 - accuracy: 0.9994 - val_loss: 0.5294 - val_accuracy: 0.9167\n",
      "Epoch 5/50\n",
      "1600/1600 [==============================] - 2s 2ms/sample - loss: 5.8373e-04 - accuracy: 1.0000 - val_loss: 0.5626 - val_accuracy: 0.9201\n",
      "Epoch 6/50\n",
      "1600/1600 [==============================] - 2s 1ms/sample - loss: 2.2712e-04 - accuracy: 1.0000 - val_loss: 0.5634 - val_accuracy: 0.9219\n",
      "Epoch 7/50\n",
      "1600/1600 [==============================] - 2s 1ms/sample - loss: 1.7062e-04 - accuracy: 1.0000 - val_loss: 0.5698 - val_accuracy: 0.9219\n",
      "Epoch 8/50\n",
      "1600/1600 [==============================] - 2s 1ms/sample - loss: 1.3508e-04 - accuracy: 1.0000 - val_loss: 0.5716 - val_accuracy: 0.9219\n",
      "Epoch 9/50\n",
      "1600/1600 [==============================] - 2s 1ms/sample - loss: 1.1302e-04 - accuracy: 1.0000 - val_loss: 0.5765 - val_accuracy: 0.9219\n",
      "Epoch 10/50\n",
      "1600/1600 [==============================] - 3s 2ms/sample - loss: 9.3928e-05 - accuracy: 1.0000 - val_loss: 0.5792 - val_accuracy: 0.9219\n",
      "Epoch 11/50\n",
      "1600/1600 [==============================] - 2s 1ms/sample - loss: 7.8705e-05 - accuracy: 1.0000 - val_loss: 0.5850 - val_accuracy: 0.9219\n",
      "Epoch 12/50\n",
      "1600/1600 [==============================] - 3s 2ms/sample - loss: 6.7882e-05 - accuracy: 1.0000 - val_loss: 0.5898 - val_accuracy: 0.9201\n",
      "Epoch 13/50\n",
      "1600/1600 [==============================] - 2s 1ms/sample - loss: 5.8177e-05 - accuracy: 1.0000 - val_loss: 0.5945 - val_accuracy: 0.9184\n",
      "Epoch 14/50\n",
      "1600/1600 [==============================] - 2s 1ms/sample - loss: 5.0386e-05 - accuracy: 1.0000 - val_loss: 0.5995 - val_accuracy: 0.9184\n",
      "Epoch 15/50\n",
      "1600/1600 [==============================] - 2s 1ms/sample - loss: 4.4260e-05 - accuracy: 1.0000 - val_loss: 0.6045 - val_accuracy: 0.9184\n",
      "Epoch 16/50\n",
      "1600/1600 [==============================] - 2s 1ms/sample - loss: 3.9641e-05 - accuracy: 1.0000 - val_loss: 0.6088 - val_accuracy: 0.9184\n",
      "Epoch 17/50\n",
      "1600/1600 [==============================] - 2s 1ms/sample - loss: 3.5390e-05 - accuracy: 1.0000 - val_loss: 0.6120 - val_accuracy: 0.9184\n",
      "Epoch 18/50\n",
      "1600/1600 [==============================] - 3s 2ms/sample - loss: 3.1783e-05 - accuracy: 1.0000 - val_loss: 0.6158 - val_accuracy: 0.9184\n",
      "Epoch 19/50\n",
      "1600/1600 [==============================] - 2s 1ms/sample - loss: 2.8340e-05 - accuracy: 1.0000 - val_loss: 0.6190 - val_accuracy: 0.9184\n",
      "Epoch 20/50\n",
      "1600/1600 [==============================] - 3s 2ms/sample - loss: 2.5517e-05 - accuracy: 1.0000 - val_loss: 0.6208 - val_accuracy: 0.9184\n",
      "Epoch 21/50\n",
      "1600/1600 [==============================] - 3s 2ms/sample - loss: 2.3263e-05 - accuracy: 1.0000 - val_loss: 0.6247 - val_accuracy: 0.9184\n",
      "Epoch 22/50\n",
      "1600/1600 [==============================] - 2s 1ms/sample - loss: 2.0815e-05 - accuracy: 1.0000 - val_loss: 0.6268 - val_accuracy: 0.9184\n",
      "Epoch 23/50\n",
      "1600/1600 [==============================] - 2s 1ms/sample - loss: 1.8932e-05 - accuracy: 1.0000 - val_loss: 0.6304 - val_accuracy: 0.9184\n",
      "Epoch 24/50\n",
      "1600/1600 [==============================] - 2s 1ms/sample - loss: 1.7244e-05 - accuracy: 1.0000 - val_loss: 0.6333 - val_accuracy: 0.9184\n",
      "Epoch 25/50\n",
      "1600/1600 [==============================] - 3s 2ms/sample - loss: 1.5608e-05 - accuracy: 1.0000 - val_loss: 0.6369 - val_accuracy: 0.9184\n",
      "Epoch 26/50\n",
      "1600/1600 [==============================] - 3s 2ms/sample - loss: 1.4178e-05 - accuracy: 1.0000 - val_loss: 0.6407 - val_accuracy: 0.9201\n",
      "Epoch 27/50\n",
      "1600/1600 [==============================] - 3s 2ms/sample - loss: 1.2952e-05 - accuracy: 1.0000 - val_loss: 0.6446 - val_accuracy: 0.9201\n",
      "Epoch 28/50\n",
      "1600/1600 [==============================] - 2s 1ms/sample - loss: 1.1681e-05 - accuracy: 1.0000 - val_loss: 0.6482 - val_accuracy: 0.9201\n",
      "Epoch 29/50\n",
      "1600/1600 [==============================] - 2s 1ms/sample - loss: 1.0669e-05 - accuracy: 1.0000 - val_loss: 0.6515 - val_accuracy: 0.9201\n",
      "Epoch 30/50\n",
      "1600/1600 [==============================] - 2s 1ms/sample - loss: 9.7045e-06 - accuracy: 1.0000 - val_loss: 0.6565 - val_accuracy: 0.9201\n",
      "Epoch 31/50\n",
      "1600/1600 [==============================] - 2s 1ms/sample - loss: 8.9444e-06 - accuracy: 1.0000 - val_loss: 0.6602 - val_accuracy: 0.9184\n",
      "Epoch 32/50\n",
      "1600/1600 [==============================] - 2s 1ms/sample - loss: 8.2153e-06 - accuracy: 1.0000 - val_loss: 0.6651 - val_accuracy: 0.9201\n",
      "Epoch 33/50\n",
      "1600/1600 [==============================] - 3s 2ms/sample - loss: 7.5737e-06 - accuracy: 1.0000 - val_loss: 0.6702 - val_accuracy: 0.9219\n",
      "Epoch 34/50\n",
      "1600/1600 [==============================] - 3s 2ms/sample - loss: 7.0022e-06 - accuracy: 1.0000 - val_loss: 0.6741 - val_accuracy: 0.9219\n",
      "Epoch 35/50\n",
      "1600/1600 [==============================] - 2s 1ms/sample - loss: 6.5014e-06 - accuracy: 1.0000 - val_loss: 0.6780 - val_accuracy: 0.9219\n",
      "Epoch 36/50\n",
      "1600/1600 [==============================] - 2s 1ms/sample - loss: 6.0668e-06 - accuracy: 1.0000 - val_loss: 0.6826 - val_accuracy: 0.9201\n",
      "Epoch 37/50\n",
      "1600/1600 [==============================] - 3s 2ms/sample - loss: 5.6404e-06 - accuracy: 1.0000 - val_loss: 0.6870 - val_accuracy: 0.9219\n",
      "Epoch 38/50\n",
      "1600/1600 [==============================] - 3s 2ms/sample - loss: 5.2872e-06 - accuracy: 1.0000 - val_loss: 0.6910 - val_accuracy: 0.9219\n",
      "Epoch 39/50\n",
      "1600/1600 [==============================] - 3s 2ms/sample - loss: 4.9484e-06 - accuracy: 1.0000 - val_loss: 0.6960 - val_accuracy: 0.9219\n",
      "Epoch 40/50\n",
      "1600/1600 [==============================] - 4s 2ms/sample - loss: 4.5747e-06 - accuracy: 1.0000 - val_loss: 0.6996 - val_accuracy: 0.9219\n",
      "Epoch 41/50\n",
      "1600/1600 [==============================] - 2s 1ms/sample - loss: 4.2666e-06 - accuracy: 1.0000 - val_loss: 0.7040 - val_accuracy: 0.9219\n",
      "Epoch 42/50\n",
      "1600/1600 [==============================] - 3s 2ms/sample - loss: 3.9865e-06 - accuracy: 1.0000 - val_loss: 0.7072 - val_accuracy: 0.9201\n",
      "Epoch 43/50\n",
      "1600/1600 [==============================] - 3s 2ms/sample - loss: 3.7254e-06 - accuracy: 1.0000 - val_loss: 0.7121 - val_accuracy: 0.9219\n",
      "Epoch 44/50\n",
      "1600/1600 [==============================] - 3s 2ms/sample - loss: 3.4938e-06 - accuracy: 1.0000 - val_loss: 0.7154 - val_accuracy: 0.9219\n",
      "Epoch 45/50\n",
      "1600/1600 [==============================] - 3s 2ms/sample - loss: 3.2744e-06 - accuracy: 1.0000 - val_loss: 0.7198 - val_accuracy: 0.9219\n",
      "Epoch 46/50\n",
      "1600/1600 [==============================] - 3s 2ms/sample - loss: 3.0807e-06 - accuracy: 1.0000 - val_loss: 0.7229 - val_accuracy: 0.9219\n",
      "Epoch 47/50\n",
      "1600/1600 [==============================] - 3s 2ms/sample - loss: 2.9065e-06 - accuracy: 1.0000 - val_loss: 0.7269 - val_accuracy: 0.9219\n",
      "Epoch 48/50\n",
      "1600/1600 [==============================] - 3s 2ms/sample - loss: 2.7307e-06 - accuracy: 1.0000 - val_loss: 0.7303 - val_accuracy: 0.9219\n",
      "Epoch 49/50\n",
      "1600/1600 [==============================] - 3s 2ms/sample - loss: 2.5869e-06 - accuracy: 1.0000 - val_loss: 0.7325 - val_accuracy: 0.9219\n",
      "Epoch 50/50\n",
      "1600/1600 [==============================] - 3s 2ms/sample - loss: 2.4324e-06 - accuracy: 1.0000 - val_loss: 0.7370 - val_accuracy: 0.9219\n"
     ]
    },
    {
     "ename": "AttributeError",
     "evalue": "'History' object has no attribute 'fit'",
     "output_type": "error",
     "traceback": [
      "\u001b[1;31m---------------------------------------------------------------------------\u001b[0m",
      "\u001b[1;31mAttributeError\u001b[0m                            Traceback (most recent call last)",
      "\u001b[1;32m<ipython-input-696-ce6f7f460616>\u001b[0m in \u001b[0;36m<module>\u001b[1;34m\u001b[0m\n\u001b[0;32m      1\u001b[0m \u001b[0mfeature\u001b[0m\u001b[1;33m=\u001b[0m\u001b[0mtrain_on_cnnfeatures\u001b[0m\u001b[1;33m(\u001b[0m\u001b[1;34m'train_vgg16'\u001b[0m\u001b[1;33m,\u001b[0m\u001b[1;34m'validation_vgg16'\u001b[0m\u001b[1;33m)\u001b[0m\u001b[1;33m\u001b[0m\u001b[1;33m\u001b[0m\u001b[0m\n\u001b[1;32m----> 2\u001b[1;33m \u001b[0md\u001b[0m\u001b[1;33m=\u001b[0m\u001b[0mfeature\u001b[0m\u001b[1;33m.\u001b[0m\u001b[0mfit\u001b[0m\u001b[1;33m(\u001b[0m\u001b[0mtraindata\u001b[0m\u001b[1;33m,\u001b[0m \u001b[0mget_labels\u001b[0m\u001b[1;33m(\u001b[0m\u001b[1;36m1600\u001b[0m\u001b[1;33m)\u001b[0m\u001b[1;33m,\u001b[0m \u001b[0mbatch_size\u001b[0m\u001b[1;33m=\u001b[0m\u001b[1;36m32\u001b[0m\u001b[1;33m,\u001b[0m \u001b[0mepochs\u001b[0m\u001b[1;33m=\u001b[0m\u001b[1;36m50\u001b[0m\u001b[1;33m,\u001b[0m \u001b[0mverbose\u001b[0m\u001b[1;33m=\u001b[0m\u001b[1;36m1\u001b[0m\u001b[1;33m,\u001b[0m \u001b[0mvalidation_data\u001b[0m\u001b[1;33m=\u001b[0m\u001b[1;33m(\u001b[0m\u001b[0mvalidationdata\u001b[0m\u001b[1;33m,\u001b[0m \u001b[0mget_labels\u001b[0m\u001b[1;33m(\u001b[0m\u001b[1;36m576\u001b[0m\u001b[1;33m)\u001b[0m\u001b[1;33m)\u001b[0m\u001b[1;33m)\u001b[0m\u001b[1;33m\u001b[0m\u001b[1;33m\u001b[0m\u001b[0m\n\u001b[0m",
      "\u001b[1;31mAttributeError\u001b[0m: 'History' object has no attribute 'fit'"
     ]
    }
   ],
   "source": [
    "\n",
    "feature=train_on_cnnfeatures('train_vgg16','validation_vgg16')\n",
    "d=feature.fit(traindata, get_labels(1600), batch_size=32, epochs=50, verbose=1, validation_data=(validationdata, get_labels(576)))"
   ]
  },
  {
   "cell_type": "code",
   "execution_count": 700,
   "metadata": {},
   "outputs": [
    {
     "name": "stdout",
     "output_type": "stream",
     "text": [
      "Test loss: 1.268847417500284\n",
      "Test accuracy: 0.9079861\n"
     ]
    }
   ],
   "source": [
    "print('Test loss:',d.history[\"val_loss\"][-1])\n",
    "print('Test accuracy:', d.history[\"val_accuracy\"][-1])"
   ]
  },
  {
   "cell_type": "code",
   "execution_count": 701,
   "metadata": {},
   "outputs": [
    {
     "data": {
      "text/plain": [
       "<matplotlib.legend.Legend at 0x16415851c88>"
      ]
     },
     "execution_count": 701,
     "metadata": {},
     "output_type": "execute_result"
    },
    {
     "data": {
      "image/png": "[encoded data removed]",
      "text/plain": [
       "<Figure size 1368x1440 with 1 Axes>"
      ]
     },
     "metadata": {
      "needs_background": "light"
     },
     "output_type": "display_data"
    }
   ],
   "source": [
    "fig=plt.figure(figsize=(19,20))\n",
    "ax1=fig.add_subplot(2,2,1)\n",
    "data=np.arange(1, 51) \n",
    "ax1.plot(data, d.history[\"loss\"], color='olive',marker='o', markerfacecolor='olive', markersize=4, linewidth=2,label='train_loss')\n",
    "ax1.plot(data, d.history[\"val_loss\"], color='#377eb8',marker='o', markerfacecolor='#377eb8', markersize=4, linewidth=2,label='val_loss')\n",
    "ax1.plot(data, d.history[\"accuracy\"], color='#4daf4a',marker='o', markerfacecolor='#4daf4a', markersize=4, linewidth=2,label='train_accuracy')\n",
    "ax1.plot(data, d.history[\"val_accuracy\"], color='#ff7f00',marker='o', markerfacecolor='#ff7f00', markersize=4, linewidth=2,label='val_accuracy')\n",
    "ax1.legend()"
   ]
  },
  {
   "cell_type": "code",
   "execution_count": null,
   "metadata": {},
   "outputs": [],
   "source": []
  },
  {
   "cell_type": "markdown",
   "metadata": {},
   "source": [
    "# Part 4: Visualizing the learned features\n",
    "The first convolutional layer represents the most low-level patterns that the model looks for in images. We will now visualize these features in the VGG-16 model. (You can also repeat the exercise using your own original model, but because we have so little data, the features in this model may look less like interpretable patterns.)\n",
    "\n",
    "We get the weights in this convolutional layer. This is a four-dimensional NumPy tensor: width x height x colors x number of convolutions."
   ]
  },
  {
   "cell_type": "code",
   "execution_count": 702,
   "metadata": {},
   "outputs": [
    {
     "data": {
      "text/plain": [
       "(3, 3, 3, 64)"
      ]
     },
     "execution_count": 702,
     "metadata": {},
     "output_type": "execute_result"
    }
   ],
   "source": [
    "first_layer_weights = vggmodel.get_weights()[0]\n",
    "first_layer_weights.shape"
   ]
  },
  {
   "cell_type": "markdown",
   "metadata": {},
   "source": [
    "We create a utility function that will help us visualize the patterns extracted by the first convolutional layer.\n",
    "\n",
    "This function takes three inputs: the layer's weight tensor (from the step above), a number referring to which convolutional filter we are considering (0-63), and finally a boolean (True/False) value that says whether we want to see the positive or the negative part of this filter. (That is, if positive=True, we see the patterns which enable this \"feature\"; if it is False, we see the patterns that disable it.)"
   ]
  },
  {
   "cell_type": "code",
   "execution_count": 703,
   "metadata": {},
   "outputs": [],
   "source": [
    "def kernel_image(weights, i, positive):\n",
    "    \n",
    "    # extract the convolutional kernel at position i\n",
    "    k = weights[:,:,:,i].copy()\n",
    "    if not positive:\n",
    "        k = -k\n",
    "    \n",
    "    # clip the values: if we're looking for positive\n",
    "    # values, just keep the positive part; vice versa\n",
    "    # for the negative values.\n",
    "    k *= k > 0\n",
    "\n",
    "    # rescale the colors, to make the images less dark\n",
    "    m = k.max()\n",
    "    if m > 1e-3:\n",
    "        k /= m \n",
    "\n",
    "    return k"
   ]
  },
  {
   "cell_type": "code",
   "execution_count": 704,
   "metadata": {},
   "outputs": [],
   "source": [
    "k_pos=kernel_image(first_layer_weights,0,True)"
   ]
  },
  {
   "cell_type": "code",
   "execution_count": 705,
   "metadata": {},
   "outputs": [],
   "source": [
    "k_neg=kernel_image(first_layer_weights,0,False)"
   ]
  },
  {
   "cell_type": "code",
   "execution_count": 708,
   "metadata": {},
   "outputs": [
    {
     "data": {
      "text/plain": [
       "<matplotlib.image.AxesImage at 0x163c2dec748>"
      ]
     },
     "execution_count": 708,
     "metadata": {},
     "output_type": "execute_result"
    },
    {
     "data": {
      "image/png": "[encoded data removed]",
      "text/plain": [
       "<Figure size 1368x1440 with 2 Axes>"
      ]
     },
     "metadata": {
      "needs_background": "light"
     },
     "output_type": "display_data"
    }
   ],
   "source": [
    "fig=plt.figure(figsize=(19,20))\n",
    "ax1=fig.add_subplot(2,2,1)\n",
    "ax1.imshow(k_pos)\n",
    "ax2=fig.add_subplot(2,2,2)\n",
    "ax2.imshow(k_neg)"
   ]
  },
  {
   "cell_type": "code",
   "execution_count": null,
   "metadata": {},
   "outputs": [],
   "source": []
  }
 ],
 "metadata": {
  "kernelspec": {
   "display_name": "Python 3",
   "language": "python",
   "name": "python3"
  },
  "language_info": {
   "codemirror_mode": {
    "name": "ipython",
    "version": 3
   },
   "file_extension": ".py",
   "mimetype": "text/x-python",
   "name": "python",
   "nbconvert_exporter": "python",
   "pygments_lexer": "ipython3",
   "version": "3.6.10"
  }
 },
 "nbformat": 4,
 "nbformat_minor": 4
}
