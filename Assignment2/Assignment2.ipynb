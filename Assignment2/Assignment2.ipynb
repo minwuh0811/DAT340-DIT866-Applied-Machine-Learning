{
 "cells": [
  {
   "cell_type": "code",
   "execution_count": 1,
   "metadata": {},
   "outputs": [],
   "source": [
    "import pandas as pd\n",
    "import numpy as np\n",
    "import matplotlib.pyplot as plt\n",
    "from matplotlib.pyplot import figure\n"
   ]
  },
  {
   "cell_type": "code",
   "execution_count": 198,
   "metadata": {},
   "outputs": [],
   "source": [
    "data = pd.read_csv(\"a2a_train_final.tsv\", sep=\"\\t\") \n",
    "data_test=pd.read_csv(\"a2a_test_final.tsv\", sep=\"\\t\")\n",
    "data_test.columns=[\"Class\", \"Comment\"]                    \n",
    "#data = pd.read_csv(\"a2a_train_round1.tsv\", sep=\"\\t\") \n",
    "data.columns = [\"Class\", \"Comment\"]"
   ]
  },
  {
   "cell_type": "code",
   "execution_count": 199,
   "metadata": {},
   "outputs": [],
   "source": [
    "# the actual classification algorithm\n",
    "from sklearn.svm import LinearSVC\n",
    "\n",
    "# for converting training and test datasets into matrices\n",
    "# TfidfVectorizer does this specifically for documents\n",
    "from sklearn.feature_extraction.text import TfidfVectorizer\n",
    "\n",
    "# for bundling the vectorizer and the classifier as a single \"package\"\n",
    "from sklearn.pipeline import make_pipeline\n",
    "\n",
    "# for splitting the dataset into training and test sets \n",
    "from sklearn.model_selection import train_test_split\n",
    "\n",
    "# for evaluating the quality of the classifier\n",
    "from sklearn.metrics import accuracy_score\n",
    "\n",
    "from sklearn.metrics import classification_report, confusion_matrix ,f1_score\n",
    "\n",
    "import re, string, unicodedata\n",
    "import nltk\n",
    "import contractions\n",
    "import inflect\n",
    "from bs4 import BeautifulSoup\n",
    "from nltk import word_tokenize, sent_tokenize\n",
    "from nltk.corpus import stopwords\n",
    "from nltk.stem import LancasterStemmer, WordNetLemmatizer\n",
    "from sklearn.metrics import roc_curve, auc, roc_auc_score"
   ]
  },
  {
   "cell_type": "code",
   "execution_count": 204,
   "metadata": {},
   "outputs": [
    {
     "data": {
      "text/html": [
       "<div>\n",
       "<style scoped>\n",
       "    .dataframe tbody tr th:only-of-type {\n",
       "        vertical-align: middle;\n",
       "    }\n",
       "\n",
       "    .dataframe tbody tr th {\n",
       "        vertical-align: top;\n",
       "    }\n",
       "\n",
       "    .dataframe thead th {\n",
       "        text-align: right;\n",
       "    }\n",
       "</style>\n",
       "<table border=\"1\" class=\"dataframe\">\n",
       "  <thead>\n",
       "    <tr style=\"text-align: right;\">\n",
       "      <th></th>\n",
       "      <th>Class</th>\n",
       "      <th>Comment</th>\n",
       "    </tr>\n",
       "  </thead>\n",
       "  <tbody>\n",
       "    <tr>\n",
       "      <th>0</th>\n",
       "      <td>0</td>\n",
       "      <td>I had to trigger Article 50. It would have bee...</td>\n",
       "    </tr>\n",
       "    <tr>\n",
       "      <th>1</th>\n",
       "      <td>0</td>\n",
       "      <td>Uh we want to leave the EU but we want to keep...</td>\n",
       "    </tr>\n",
       "    <tr>\n",
       "      <th>2</th>\n",
       "      <td>1</td>\n",
       "      <td>#DeathtotheEU oh wow I really hate the #EU Wha...</td>\n",
       "    </tr>\n",
       "    <tr>\n",
       "      <th>3</th>\n",
       "      <td>1</td>\n",
       "      <td>#IVotedLeave and I hope you did too! #EUref le...</td>\n",
       "    </tr>\n",
       "    <tr>\n",
       "      <th>4</th>\n",
       "      <td>1</td>\n",
       "      <td>#IVotedLeave for the love of democracy and to ...</td>\n",
       "    </tr>\n",
       "    <tr>\n",
       "      <th>...</th>\n",
       "      <td>...</td>\n",
       "      <td>...</td>\n",
       "    </tr>\n",
       "    <tr>\n",
       "      <th>1154</th>\n",
       "      <td>0</td>\n",
       "      <td>when will the brits start to realise that 350....</td>\n",
       "    </tr>\n",
       "    <tr>\n",
       "      <th>1155</th>\n",
       "      <td>1</td>\n",
       "      <td>yea it's really good decision for Britain to m...</td>\n",
       "    </tr>\n",
       "    <tr>\n",
       "      <th>1156</th>\n",
       "      <td>0</td>\n",
       "      <td>роverty and dооm awaits the country</td>\n",
       "    </tr>\n",
       "    <tr>\n",
       "      <th>1157</th>\n",
       "      <td>1</td>\n",
       "      <td>“The humiliation of having a pink European Uni...</td>\n",
       "    </tr>\n",
       "    <tr>\n",
       "      <th>1158</th>\n",
       "      <td>0</td>\n",
       "      <td>“so many remainers that hate our country” I th...</td>\n",
       "    </tr>\n",
       "  </tbody>\n",
       "</table>\n",
       "<p>1159 rows × 2 columns</p>\n",
       "</div>"
      ],
      "text/plain": [
       "      Class                                            Comment\n",
       "0         0  I had to trigger Article 50. It would have bee...\n",
       "1         0  Uh we want to leave the EU but we want to keep...\n",
       "2         1  #DeathtotheEU oh wow I really hate the #EU Wha...\n",
       "3         1  #IVotedLeave and I hope you did too! #EUref le...\n",
       "4         1  #IVotedLeave for the love of democracy and to ...\n",
       "...     ...                                                ...\n",
       "1154      0  when will the brits start to realise that 350....\n",
       "1155      1  yea it's really good decision for Britain to m...\n",
       "1156      0                роverty and dооm awaits the country\n",
       "1157      1  “The humiliation of having a pink European Uni...\n",
       "1158      0  “so many remainers that hate our country” I th...\n",
       "\n",
       "[1159 rows x 2 columns]"
      ]
     },
     "execution_count": 204,
     "metadata": {},
     "output_type": "execute_result"
    }
   ],
   "source": [
    "data_test"
   ]
  },
  {
   "cell_type": "code",
   "execution_count": 201,
   "metadata": {},
   "outputs": [
    {
     "data": {
      "text/plain": [
       "6096"
      ]
     },
     "execution_count": 201,
     "metadata": {},
     "output_type": "execute_result"
    }
   ],
   "source": [
    "from collections import Counter\n",
    "test = Counter(\" \".join(data[\"Comment\"]).split())\n",
    "len(test.keys())\n",
    "\n",
    "test = Counter(\" \".join(data_test[\"Comment\"]).split())\n",
    "len(test.keys())"
   ]
  },
  {
   "cell_type": "markdown",
   "metadata": {},
   "source": [
    "# 1. Text data preprocessing"
   ]
  },
  {
   "cell_type": "markdown",
   "metadata": {},
   "source": [
    "# 1.1 Drop inconsistent annotation \n",
    "\n",
    "Drop those comments with inconsistent annotation. 81.6% comments are filtered out after this step, containing 50.4% pro-brexit(1) and 49.6% anti-brexit(0)."
   ]
  },
  {
   "cell_type": "code",
   "execution_count": 6,
   "metadata": {},
   "outputs": [
    {
     "data": {
      "text/html": [
       "<div>\n",
       "<style scoped>\n",
       "    .dataframe tbody tr th:only-of-type {\n",
       "        vertical-align: middle;\n",
       "    }\n",
       "\n",
       "    .dataframe tbody tr th {\n",
       "        vertical-align: top;\n",
       "    }\n",
       "\n",
       "    .dataframe thead th {\n",
       "        text-align: right;\n",
       "    }\n",
       "</style>\n",
       "<table border=\"1\" class=\"dataframe\">\n",
       "  <thead>\n",
       "    <tr style=\"text-align: right;\">\n",
       "      <th></th>\n",
       "      <th>Class</th>\n",
       "      <th>Comment</th>\n",
       "    </tr>\n",
       "  </thead>\n",
       "  <tbody>\n",
       "    <tr>\n",
       "      <th>0</th>\n",
       "      <td>0</td>\n",
       "      <td>Being a member of the European Union is a bit ...</td>\n",
       "    </tr>\n",
       "    <tr>\n",
       "      <th>1</th>\n",
       "      <td>0</td>\n",
       "      <td>Brexit is bad. Immigrants make Britain great. ...</td>\n",
       "    </tr>\n",
       "    <tr>\n",
       "      <th>2</th>\n",
       "      <td>0</td>\n",
       "      <td>Britain is basically Pompeii if the Pompeii ha...</td>\n",
       "    </tr>\n",
       "    <tr>\n",
       "      <th>3</th>\n",
       "      <td>1</td>\n",
       "      <td>Britain's exit is a huge blow to the dream of ...</td>\n",
       "    </tr>\n",
       "    <tr>\n",
       "      <th>4</th>\n",
       "      <td>1</td>\n",
       "      <td>Death to the EU, Death to the EU!</td>\n",
       "    </tr>\n",
       "    <tr>\n",
       "      <th>...</th>\n",
       "      <td>...</td>\n",
       "      <td>...</td>\n",
       "    </tr>\n",
       "    <tr>\n",
       "      <th>10999</th>\n",
       "      <td>1</td>\n",
       "      <td>“we have made our choice”</td>\n",
       "    </tr>\n",
       "    <tr>\n",
       "      <th>11000</th>\n",
       "      <td>1</td>\n",
       "      <td>”Fake news! UK will prosper as soon as Bojo si...</td>\n",
       "    </tr>\n",
       "    <tr>\n",
       "      <th>11001</th>\n",
       "      <td>1</td>\n",
       "      <td>🇬🇧 Hard Brexit all the way 🇬🇧</td>\n",
       "    </tr>\n",
       "    <tr>\n",
       "      <th>11002</th>\n",
       "      <td>0</td>\n",
       "      <td>😆 it's funny, when the brits sees the raise in...</td>\n",
       "    </tr>\n",
       "    <tr>\n",
       "      <th>11003</th>\n",
       "      <td>0</td>\n",
       "      <td>🤣🤣 imagine that bulgarian and romanian passpor...</td>\n",
       "    </tr>\n",
       "  </tbody>\n",
       "</table>\n",
       "<p>11004 rows × 2 columns</p>\n",
       "</div>"
      ],
      "text/plain": [
       "      Class                                            Comment\n",
       "0         0  Being a member of the European Union is a bit ...\n",
       "1         0  Brexit is bad. Immigrants make Britain great. ...\n",
       "2         0  Britain is basically Pompeii if the Pompeii ha...\n",
       "3         1  Britain's exit is a huge blow to the dream of ...\n",
       "4         1                  Death to the EU, Death to the EU!\n",
       "...     ...                                                ...\n",
       "10999     1                          “we have made our choice”\n",
       "11000     1  ”Fake news! UK will prosper as soon as Bojo si...\n",
       "11001     1                      🇬🇧 Hard Brexit all the way 🇬🇧\n",
       "11002     0  😆 it's funny, when the brits sees the raise in...\n",
       "11003     0  🤣🤣 imagine that bulgarian and romanian passpor...\n",
       "\n",
       "[11004 rows x 2 columns]"
      ]
     },
     "execution_count": 6,
     "metadata": {},
     "output_type": "execute_result"
    }
   ],
   "source": [
    "#def find_majority(k):\n",
    "#    myMap = {}\n",
    "#    maximum = ( '', 0 ) # (occurring element, occurrences)\n",
    "#    for n in k:\n",
    "#        if n in myMap: myMap[n] += 1\n",
    "#        else: myMap[n] = 1\n",
    "#\n",
    "#        # Keep track of maximum on the go\n",
    "#        if myMap[n] > maximum[1]: maximum = (n,myMap[n])\n",
    "#\n",
    "#    return maximum\n",
    "\n",
    "for index, row in data.iterrows():\n",
    "    arr = row[\"Class\"].split(\"/\")\n",
    "    if(len(set(arr)) > 1):\n",
    "        #print(arr)\n",
    "        data = data.drop(index, axis=0)\n",
    "    else:\n",
    "        data.loc[index][\"Class\"]=arr[0]\n",
    "data=data.reset_index(drop=True)\n",
    "\n",
    "#for index, row in data.iterrows():\n",
    "#    arr = row[\"Class\"].split(\"/\")\n",
    "#    #if(len(set(arr)) > 1):\n",
    "#    if(arr.count('1') > arr.count('0')):\n",
    "#        #print(arr)\n",
    "#        data.set_value(index, \"Class\", 1)\n",
    "#    elif(arr.count('0') > arr.count('1')):\n",
    "#        data.set_value(index, \"Class\", 0)\n",
    "#    else:\n",
    "#        data.set_value(index, \"Class\", 1)\n",
    "#        #data = data.drop(index, axis=0)\n",
    "#data = data.reset_index()\n",
    "data"
   ]
  },
  {
   "cell_type": "code",
   "execution_count": 7,
   "metadata": {},
   "outputs": [
    {
     "name": "stdout",
     "output_type": "stream",
     "text": [
      "pro-brexit = 0.4825 and anti-brexit=0.5175\n"
     ]
    }
   ],
   "source": [
    "from collections import Counter\n",
    "cnt=Counter(data[\"Class\"])\n",
    "print(\"pro-brexit = %0.4f and anti-brexit=%0.4f\" %(cnt['0']/(cnt['0']+cnt['1']), cnt['1']/(cnt['0']+cnt['1'])))\n",
    "\n",
    "\n",
    "#test = Counter(\" \".join(data[data[\"Class\"] == '1'][\"Comment\"]).split()).most_common()[:-1000-1:-1]\n",
    "#test2 = Counter(\" \".join(data[data[\"Class\"] == '0'][\"Comment\"]).split()).most_common()[:-1000-1:-1]\n",
    "#test = Counter(\" \".join(data[\"Comment\"]).split()).most_common()[:-1000-1:-1]\n",
    "test = Counter(\" \".join(data[\"Comment\"]).split())"
   ]
  },
  {
   "cell_type": "code",
   "execution_count": 8,
   "metadata": {},
   "outputs": [
    {
     "data": {
      "text/plain": [
       "29687"
      ]
     },
     "execution_count": 8,
     "metadata": {},
     "output_type": "execute_result"
    }
   ],
   "source": [
    "len(test.keys())"
   ]
  },
  {
   "cell_type": "markdown",
   "metadata": {},
   "source": [
    "# 1.2 Noise Removal"
   ]
  },
  {
   "cell_type": "code",
   "execution_count": 9,
   "metadata": {},
   "outputs": [],
   "source": [
    "def strip_html(text):\n",
    "    soup = BeautifulSoup(text, \"html.parser\")\n",
    "    #print(soup.get_text())\n",
    "    return soup.get_text()\n",
    "\n",
    "def remove_between_square_brackets(text):\n",
    "    return re.sub('\\[[^]]*\\]', '', text)\n",
    "\n",
    "\n",
    "def replace_contractions(text):\n",
    "    \"\"\"Replace contractions in string of text\"\"\"\n",
    "    return contractions.fix(text)\n",
    "\n",
    "def denoise_text(text):\n",
    "    text = remove_between_square_brackets(text)\n",
    "    text = replace_contractions(text)\n",
    "    text = strip_html(text)\n",
    "    return text\n",
    "def Noise_Removal():\n",
    "    for index, row in data.iterrows():\n",
    "        data.loc[index]['Comment'] = denoise_text(data['Comment'][index])\n"
   ]
  },
  {
   "cell_type": "markdown",
   "metadata": {},
   "source": [
    "# 1.3 Lowercasing"
   ]
  },
  {
   "cell_type": "code",
   "execution_count": 22,
   "metadata": {},
   "outputs": [],
   "source": [
    "data['Comment']=data['Comment'].str.lower()"
   ]
  },
  {
   "cell_type": "code",
   "execution_count": 23,
   "metadata": {},
   "outputs": [
    {
     "data": {
      "text/plain": [
       "8095"
      ]
     },
     "execution_count": 23,
     "metadata": {},
     "output_type": "execute_result"
    }
   ],
   "source": [
    "test = Counter(\" \".join(data[\"Comment\"]).split())\n",
    "len(test.keys())"
   ]
  },
  {
   "cell_type": "markdown",
   "metadata": {},
   "source": [
    "# 1.4 Tokenization\n",
    "\n",
    "Tokenization is a step which splits longer strings of text into smaller pieces, or tokens. "
   ]
  },
  {
   "cell_type": "code",
   "execution_count": 12,
   "metadata": {},
   "outputs": [],
   "source": [
    "def Tokenization():\n",
    "    for index, row in data.iterrows():\n",
    "        data.loc[index]['Comment'] = \" \".join(nltk.word_tokenize(data['Comment'][index]))"
   ]
  },
  {
   "cell_type": "markdown",
   "metadata": {},
   "source": [
    "# 1.5 Normalization"
   ]
  },
  {
   "cell_type": "markdown",
   "metadata": {},
   "source": [
    "# 1.5.1 stemming and Lemmatization"
   ]
  },
  {
   "cell_type": "code",
   "execution_count": 13,
   "metadata": {},
   "outputs": [],
   "source": [
    "def lemmatize_verbs(words):\n",
    "    \"\"\"Lemmatize verbs in list of tokenized words\"\"\"\n",
    "    lemmatizer = WordNetLemmatizer()\n",
    "    lemmas = []\n",
    "    for word in words:\n",
    "        lemma = lemmatizer.lemmatize(word, pos='v')\n",
    "        lemmas.append(lemma)\n",
    "    return lemmas\n",
    "\n",
    "\n",
    "def stem_words(words):\n",
    "    \"\"\"Stem words in list of tokenized words\"\"\"\n",
    "    stemmer = LancasterStemmer()\n",
    "    stems = []\n",
    "    for word in words:\n",
    "        stem = stemmer.stem(word)\n",
    "        stems.append(stem)\n",
    "    return stems"
   ]
  },
  {
   "cell_type": "markdown",
   "metadata": {},
   "source": [
    "# 1.5.2 Remove Punctuation"
   ]
  },
  {
   "cell_type": "code",
   "execution_count": 14,
   "metadata": {},
   "outputs": [],
   "source": [
    " def remove_punctuation(words):\n",
    "    \"\"\"Remove punctuation from list of tokenized words\"\"\"\n",
    "    new_words = []\n",
    "    for word in words:\n",
    "        new_word = re.sub(r'[^\\w\\s]', '', word)\n",
    "        if new_word != '':\n",
    "            new_words.append(new_word)\n",
    "    return new_words\n",
    "\n",
    "#print(index)\n",
    "#data['Comment'][13514].split()\n",
    "#\" \".join(remove_punctuation(data['Comment'][13514].split()))\n"
   ]
  },
  {
   "cell_type": "markdown",
   "metadata": {},
   "source": [
    "# 1.5.3 replace_numbers\n",
    "Replace all interger occurrences in list of tokenized words with textual representation"
   ]
  },
  {
   "cell_type": "code",
   "execution_count": 15,
   "metadata": {},
   "outputs": [],
   "source": [
    "import inflect\n",
    "def replace_numbers(words):\n",
    "    p = inflect.engine()\n",
    "    new_words = []\n",
    "    for word in words:\n",
    "        if word.isdigit():\n",
    "            new_word = p.number_to_words(word)\n",
    "            new_words.append(new_word)\n",
    "        else:\n",
    "            new_words.append(word)\n",
    "    return new_words\n",
    "\n"
   ]
  },
  {
   "cell_type": "markdown",
   "metadata": {},
   "source": [
    "# 1.5.4 remove_non_ascii"
   ]
  },
  {
   "cell_type": "code",
   "execution_count": 16,
   "metadata": {},
   "outputs": [],
   "source": [
    "def remove_non_ascii(words):\n",
    "    \"\"\"Remove non-ASCII characters from list of tokenized words\"\"\"\n",
    "    new_words = []\n",
    "    for word in words:\n",
    "        new_word = unicodedata.normalize('NFKD', word).encode('ascii', 'ignore').decode('utf-8', 'ignore')\n",
    "        new_words.append(new_word)\n",
    "    return new_words\n"
   ]
  },
  {
   "cell_type": "markdown",
   "metadata": {},
   "source": [
    "# 1.5.5 Remove stop words"
   ]
  },
  {
   "cell_type": "code",
   "execution_count": 17,
   "metadata": {},
   "outputs": [],
   "source": [
    "def remove_stopwords(words):\n",
    "    \"\"\"Remove stop words from list of tokenized words\"\"\"\n",
    "    new_words = []\n",
    "    for word in words:\n",
    "        if word not in stopwords.words('english'):\n",
    "            new_words.append(word)\n",
    "    return new_words\n",
    "\n"
   ]
  },
  {
   "cell_type": "code",
   "execution_count": 18,
   "metadata": {},
   "outputs": [],
   "source": [
    "def Normalization():\n",
    "    for index, row in data.iterrows():\n",
    "        data.loc[index]['Comment'] = \" \".join(stem_words(data['Comment'][index].split()))\n",
    "        data.loc[index]['Comment'] = \" \".join(lemmatize_verbs(data['Comment'][index].split()))\n",
    "        data.loc[index]['Comment'] = \" \".join(remove_punctuation(data['Comment'][index].split()))\n",
    "        data.loc[index]['Comment'] = \" \".join(replace_numbers(data['Comment'][index].split()))\n",
    "        data.loc[index]['Comment'] = \" \".join(remove_non_ascii(data['Comment'][index].split()))\n",
    "        data.loc[index]['Comment'] = \" \".join(remove_stopwords(data['Comment'][index].split()))"
   ]
  },
  {
   "cell_type": "markdown",
   "metadata": {},
   "source": [
    "# 1.6 Process"
   ]
  },
  {
   "cell_type": "markdown",
   "metadata": {},
   "source": [
    "# 1.6.1 Lowercasing"
   ]
  },
  {
   "cell_type": "code",
   "execution_count": 205,
   "metadata": {},
   "outputs": [],
   "source": [
    "data['Comment']=data['Comment'].str.lower()\n",
    "data_test['Comment'] = data_test['Comment'].str.lower()"
   ]
  },
  {
   "cell_type": "code",
   "execution_count": 206,
   "metadata": {},
   "outputs": [
    {
     "data": {
      "text/html": [
       "<div>\n",
       "<style scoped>\n",
       "    .dataframe tbody tr th:only-of-type {\n",
       "        vertical-align: middle;\n",
       "    }\n",
       "\n",
       "    .dataframe tbody tr th {\n",
       "        vertical-align: top;\n",
       "    }\n",
       "\n",
       "    .dataframe thead th {\n",
       "        text-align: right;\n",
       "    }\n",
       "</style>\n",
       "<table border=\"1\" class=\"dataframe\">\n",
       "  <thead>\n",
       "    <tr style=\"text-align: right;\">\n",
       "      <th></th>\n",
       "      <th>Class</th>\n",
       "      <th>Comment</th>\n",
       "    </tr>\n",
       "  </thead>\n",
       "  <tbody>\n",
       "    <tr>\n",
       "      <th>0</th>\n",
       "      <td>0</td>\n",
       "      <td>i had to trigger article 50. it would have bee...</td>\n",
       "    </tr>\n",
       "    <tr>\n",
       "      <th>1</th>\n",
       "      <td>0</td>\n",
       "      <td>uh we want to leave the eu but we want to keep...</td>\n",
       "    </tr>\n",
       "    <tr>\n",
       "      <th>2</th>\n",
       "      <td>1</td>\n",
       "      <td>#deathtotheeu oh wow i really hate the #eu wha...</td>\n",
       "    </tr>\n",
       "    <tr>\n",
       "      <th>3</th>\n",
       "      <td>1</td>\n",
       "      <td>#ivotedleave and i hope you did too! #euref le...</td>\n",
       "    </tr>\n",
       "    <tr>\n",
       "      <th>4</th>\n",
       "      <td>1</td>\n",
       "      <td>#ivotedleave for the love of democracy and to ...</td>\n",
       "    </tr>\n",
       "    <tr>\n",
       "      <th>...</th>\n",
       "      <td>...</td>\n",
       "      <td>...</td>\n",
       "    </tr>\n",
       "    <tr>\n",
       "      <th>1154</th>\n",
       "      <td>0</td>\n",
       "      <td>when will the brits start to realise that 350....</td>\n",
       "    </tr>\n",
       "    <tr>\n",
       "      <th>1155</th>\n",
       "      <td>1</td>\n",
       "      <td>yea it's really good decision for britain to m...</td>\n",
       "    </tr>\n",
       "    <tr>\n",
       "      <th>1156</th>\n",
       "      <td>0</td>\n",
       "      <td>роverty and dооm awaits the country</td>\n",
       "    </tr>\n",
       "    <tr>\n",
       "      <th>1157</th>\n",
       "      <td>1</td>\n",
       "      <td>“the humiliation of having a pink european uni...</td>\n",
       "    </tr>\n",
       "    <tr>\n",
       "      <th>1158</th>\n",
       "      <td>0</td>\n",
       "      <td>“so many remainers that hate our country” i th...</td>\n",
       "    </tr>\n",
       "  </tbody>\n",
       "</table>\n",
       "<p>1159 rows × 2 columns</p>\n",
       "</div>"
      ],
      "text/plain": [
       "      Class                                            Comment\n",
       "0         0  i had to trigger article 50. it would have bee...\n",
       "1         0  uh we want to leave the eu but we want to keep...\n",
       "2         1  #deathtotheeu oh wow i really hate the #eu wha...\n",
       "3         1  #ivotedleave and i hope you did too! #euref le...\n",
       "4         1  #ivotedleave for the love of democracy and to ...\n",
       "...     ...                                                ...\n",
       "1154      0  when will the brits start to realise that 350....\n",
       "1155      1  yea it's really good decision for britain to m...\n",
       "1156      0                роverty and dооm awaits the country\n",
       "1157      1  “the humiliation of having a pink european uni...\n",
       "1158      0  “so many remainers that hate our country” i th...\n",
       "\n",
       "[1159 rows x 2 columns]"
      ]
     },
     "execution_count": 206,
     "metadata": {},
     "output_type": "execute_result"
    }
   ],
   "source": [
    "test = Counter(\" \".join(data[\"Comment\"]).split())\n",
    "len(test.keys())\n",
    "data_test"
   ]
  },
  {
   "cell_type": "markdown",
   "metadata": {},
   "source": [
    "# 1.6.2 Loop\n",
    "\n",
    "Noise Removal -> Tokenization -> Normalization until it is converged (10 times)"
   ]
  },
  {
   "cell_type": "code",
   "execution_count": 207,
   "metadata": {},
   "outputs": [
    {
     "ename": "KeyboardInterrupt",
     "evalue": "",
     "output_type": "error",
     "traceback": [
      "\u001b[1;31m---------------------------------------------------------------------------\u001b[0m",
      "\u001b[1;31mKeyboardInterrupt\u001b[0m                         Traceback (most recent call last)",
      "\u001b[1;32m<ipython-input-207-0ebf550ad7b3>\u001b[0m in \u001b[0;36m<module>\u001b[1;34m\u001b[0m\n\u001b[0;32m      5\u001b[0m     \u001b[0mN\u001b[0m\u001b[1;33m.\u001b[0m\u001b[0mappend\u001b[0m\u001b[1;33m(\u001b[0m\u001b[0mn\u001b[0m\u001b[1;33m)\u001b[0m\u001b[1;33m\u001b[0m\u001b[1;33m\u001b[0m\u001b[0m\n\u001b[0;32m      6\u001b[0m     \u001b[0mNoise_Removal\u001b[0m\u001b[1;33m(\u001b[0m\u001b[1;33m)\u001b[0m\u001b[1;33m\u001b[0m\u001b[1;33m\u001b[0m\u001b[0m\n\u001b[1;32m----> 7\u001b[1;33m     \u001b[0mTokenization\u001b[0m\u001b[1;33m(\u001b[0m\u001b[1;33m)\u001b[0m\u001b[1;33m\u001b[0m\u001b[1;33m\u001b[0m\u001b[0m\n\u001b[0m\u001b[0;32m      8\u001b[0m     \u001b[0mNormalization\u001b[0m\u001b[1;33m(\u001b[0m\u001b[1;33m)\u001b[0m\u001b[1;33m\u001b[0m\u001b[1;33m\u001b[0m\u001b[0m\n\u001b[0;32m      9\u001b[0m     \u001b[0mtest\u001b[0m \u001b[1;33m=\u001b[0m \u001b[0mCounter\u001b[0m\u001b[1;33m(\u001b[0m\u001b[1;34m\" \"\u001b[0m\u001b[1;33m.\u001b[0m\u001b[0mjoin\u001b[0m\u001b[1;33m(\u001b[0m\u001b[0mdata\u001b[0m\u001b[1;33m[\u001b[0m\u001b[1;34m\"Comment\"\u001b[0m\u001b[1;33m]\u001b[0m\u001b[1;33m)\u001b[0m\u001b[1;33m.\u001b[0m\u001b[0msplit\u001b[0m\u001b[1;33m(\u001b[0m\u001b[1;33m)\u001b[0m\u001b[1;33m)\u001b[0m\u001b[1;33m\u001b[0m\u001b[1;33m\u001b[0m\u001b[0m\n",
      "\u001b[1;32m<ipython-input-12-de1f4bb04f17>\u001b[0m in \u001b[0;36mTokenization\u001b[1;34m()\u001b[0m\n\u001b[0;32m      1\u001b[0m \u001b[1;32mdef\u001b[0m \u001b[0mTokenization\u001b[0m\u001b[1;33m(\u001b[0m\u001b[1;33m)\u001b[0m\u001b[1;33m:\u001b[0m\u001b[1;33m\u001b[0m\u001b[1;33m\u001b[0m\u001b[0m\n\u001b[0;32m      2\u001b[0m     \u001b[1;32mfor\u001b[0m \u001b[0mindex\u001b[0m\u001b[1;33m,\u001b[0m \u001b[0mrow\u001b[0m \u001b[1;32min\u001b[0m \u001b[0mdata\u001b[0m\u001b[1;33m.\u001b[0m\u001b[0miterrows\u001b[0m\u001b[1;33m(\u001b[0m\u001b[1;33m)\u001b[0m\u001b[1;33m:\u001b[0m\u001b[1;33m\u001b[0m\u001b[1;33m\u001b[0m\u001b[0m\n\u001b[1;32m----> 3\u001b[1;33m         \u001b[0mdata\u001b[0m\u001b[1;33m.\u001b[0m\u001b[0mloc\u001b[0m\u001b[1;33m[\u001b[0m\u001b[0mindex\u001b[0m\u001b[1;33m]\u001b[0m\u001b[1;33m[\u001b[0m\u001b[1;34m'Comment'\u001b[0m\u001b[1;33m]\u001b[0m \u001b[1;33m=\u001b[0m \u001b[1;34m\" \"\u001b[0m\u001b[1;33m.\u001b[0m\u001b[0mjoin\u001b[0m\u001b[1;33m(\u001b[0m\u001b[0mnltk\u001b[0m\u001b[1;33m.\u001b[0m\u001b[0mword_tokenize\u001b[0m\u001b[1;33m(\u001b[0m\u001b[0mdata\u001b[0m\u001b[1;33m[\u001b[0m\u001b[1;34m'Comment'\u001b[0m\u001b[1;33m]\u001b[0m\u001b[1;33m[\u001b[0m\u001b[0mindex\u001b[0m\u001b[1;33m]\u001b[0m\u001b[1;33m)\u001b[0m\u001b[1;33m)\u001b[0m\u001b[1;33m\u001b[0m\u001b[1;33m\u001b[0m\u001b[0m\n\u001b[0m",
      "\u001b[1;32m~\\Anaconda3\\lib\\site-packages\\nltk\\tokenize\\__init__.py\u001b[0m in \u001b[0;36mword_tokenize\u001b[1;34m(text, language, preserve_line)\u001b[0m\n\u001b[0;32m    142\u001b[0m     \u001b[1;33m:\u001b[0m\u001b[0mtype\u001b[0m \u001b[0mpreserve_line\u001b[0m\u001b[1;33m:\u001b[0m \u001b[0mbool\u001b[0m\u001b[1;33m\u001b[0m\u001b[1;33m\u001b[0m\u001b[0m\n\u001b[0;32m    143\u001b[0m     \"\"\"\n\u001b[1;32m--> 144\u001b[1;33m     \u001b[0msentences\u001b[0m \u001b[1;33m=\u001b[0m \u001b[1;33m[\u001b[0m\u001b[0mtext\u001b[0m\u001b[1;33m]\u001b[0m \u001b[1;32mif\u001b[0m \u001b[0mpreserve_line\u001b[0m \u001b[1;32melse\u001b[0m \u001b[0msent_tokenize\u001b[0m\u001b[1;33m(\u001b[0m\u001b[0mtext\u001b[0m\u001b[1;33m,\u001b[0m \u001b[0mlanguage\u001b[0m\u001b[1;33m)\u001b[0m\u001b[1;33m\u001b[0m\u001b[1;33m\u001b[0m\u001b[0m\n\u001b[0m\u001b[0;32m    145\u001b[0m     return [\n\u001b[0;32m    146\u001b[0m         \u001b[0mtoken\u001b[0m \u001b[1;32mfor\u001b[0m \u001b[0msent\u001b[0m \u001b[1;32min\u001b[0m \u001b[0msentences\u001b[0m \u001b[1;32mfor\u001b[0m \u001b[0mtoken\u001b[0m \u001b[1;32min\u001b[0m \u001b[0m_treebank_word_tokenizer\u001b[0m\u001b[1;33m.\u001b[0m\u001b[0mtokenize\u001b[0m\u001b[1;33m(\u001b[0m\u001b[0msent\u001b[0m\u001b[1;33m)\u001b[0m\u001b[1;33m\u001b[0m\u001b[1;33m\u001b[0m\u001b[0m\n",
      "\u001b[1;32m~\\Anaconda3\\lib\\site-packages\\nltk\\tokenize\\__init__.py\u001b[0m in \u001b[0;36msent_tokenize\u001b[1;34m(text, language)\u001b[0m\n\u001b[0;32m    104\u001b[0m     \"\"\"\n\u001b[0;32m    105\u001b[0m     \u001b[0mtokenizer\u001b[0m \u001b[1;33m=\u001b[0m \u001b[0mload\u001b[0m\u001b[1;33m(\u001b[0m\u001b[1;34m'tokenizers/punkt/{0}.pickle'\u001b[0m\u001b[1;33m.\u001b[0m\u001b[0mformat\u001b[0m\u001b[1;33m(\u001b[0m\u001b[0mlanguage\u001b[0m\u001b[1;33m)\u001b[0m\u001b[1;33m)\u001b[0m\u001b[1;33m\u001b[0m\u001b[1;33m\u001b[0m\u001b[0m\n\u001b[1;32m--> 106\u001b[1;33m     \u001b[1;32mreturn\u001b[0m \u001b[0mtokenizer\u001b[0m\u001b[1;33m.\u001b[0m\u001b[0mtokenize\u001b[0m\u001b[1;33m(\u001b[0m\u001b[0mtext\u001b[0m\u001b[1;33m)\u001b[0m\u001b[1;33m\u001b[0m\u001b[1;33m\u001b[0m\u001b[0m\n\u001b[0m\u001b[0;32m    107\u001b[0m \u001b[1;33m\u001b[0m\u001b[0m\n\u001b[0;32m    108\u001b[0m \u001b[1;33m\u001b[0m\u001b[0m\n",
      "\u001b[1;32m~\\Anaconda3\\lib\\site-packages\\nltk\\tokenize\\punkt.py\u001b[0m in \u001b[0;36mtokenize\u001b[1;34m(self, text, realign_boundaries)\u001b[0m\n\u001b[0;32m   1275\u001b[0m         \u001b[0mGiven\u001b[0m \u001b[0ma\u001b[0m \u001b[0mtext\u001b[0m\u001b[1;33m,\u001b[0m \u001b[0mreturns\u001b[0m \u001b[0ma\u001b[0m \u001b[0mlist\u001b[0m \u001b[0mof\u001b[0m \u001b[0mthe\u001b[0m \u001b[0msentences\u001b[0m \u001b[1;32min\u001b[0m \u001b[0mthat\u001b[0m \u001b[0mtext\u001b[0m\u001b[1;33m.\u001b[0m\u001b[1;33m\u001b[0m\u001b[1;33m\u001b[0m\u001b[0m\n\u001b[0;32m   1276\u001b[0m         \"\"\"\n\u001b[1;32m-> 1277\u001b[1;33m         \u001b[1;32mreturn\u001b[0m \u001b[0mlist\u001b[0m\u001b[1;33m(\u001b[0m\u001b[0mself\u001b[0m\u001b[1;33m.\u001b[0m\u001b[0msentences_from_text\u001b[0m\u001b[1;33m(\u001b[0m\u001b[0mtext\u001b[0m\u001b[1;33m,\u001b[0m \u001b[0mrealign_boundaries\u001b[0m\u001b[1;33m)\u001b[0m\u001b[1;33m)\u001b[0m\u001b[1;33m\u001b[0m\u001b[1;33m\u001b[0m\u001b[0m\n\u001b[0m\u001b[0;32m   1278\u001b[0m \u001b[1;33m\u001b[0m\u001b[0m\n\u001b[0;32m   1279\u001b[0m     \u001b[1;32mdef\u001b[0m \u001b[0mdebug_decisions\u001b[0m\u001b[1;33m(\u001b[0m\u001b[0mself\u001b[0m\u001b[1;33m,\u001b[0m \u001b[0mtext\u001b[0m\u001b[1;33m)\u001b[0m\u001b[1;33m:\u001b[0m\u001b[1;33m\u001b[0m\u001b[1;33m\u001b[0m\u001b[0m\n",
      "\u001b[1;32m~\\Anaconda3\\lib\\site-packages\\nltk\\tokenize\\punkt.py\u001b[0m in \u001b[0;36msentences_from_text\u001b[1;34m(self, text, realign_boundaries)\u001b[0m\n\u001b[0;32m   1329\u001b[0m         \u001b[0mfollows\u001b[0m \u001b[0mthe\u001b[0m \u001b[0mperiod\u001b[0m\u001b[1;33m.\u001b[0m\u001b[1;33m\u001b[0m\u001b[1;33m\u001b[0m\u001b[0m\n\u001b[0;32m   1330\u001b[0m         \"\"\"\n\u001b[1;32m-> 1331\u001b[1;33m         \u001b[1;32mreturn\u001b[0m \u001b[1;33m[\u001b[0m\u001b[0mtext\u001b[0m\u001b[1;33m[\u001b[0m\u001b[0ms\u001b[0m\u001b[1;33m:\u001b[0m\u001b[0me\u001b[0m\u001b[1;33m]\u001b[0m \u001b[1;32mfor\u001b[0m \u001b[0ms\u001b[0m\u001b[1;33m,\u001b[0m \u001b[0me\u001b[0m \u001b[1;32min\u001b[0m \u001b[0mself\u001b[0m\u001b[1;33m.\u001b[0m\u001b[0mspan_tokenize\u001b[0m\u001b[1;33m(\u001b[0m\u001b[0mtext\u001b[0m\u001b[1;33m,\u001b[0m \u001b[0mrealign_boundaries\u001b[0m\u001b[1;33m)\u001b[0m\u001b[1;33m]\u001b[0m\u001b[1;33m\u001b[0m\u001b[1;33m\u001b[0m\u001b[0m\n\u001b[0m\u001b[0;32m   1332\u001b[0m \u001b[1;33m\u001b[0m\u001b[0m\n\u001b[0;32m   1333\u001b[0m     \u001b[1;32mdef\u001b[0m \u001b[0m_slices_from_text\u001b[0m\u001b[1;33m(\u001b[0m\u001b[0mself\u001b[0m\u001b[1;33m,\u001b[0m \u001b[0mtext\u001b[0m\u001b[1;33m)\u001b[0m\u001b[1;33m:\u001b[0m\u001b[1;33m\u001b[0m\u001b[1;33m\u001b[0m\u001b[0m\n",
      "\u001b[1;32m~\\Anaconda3\\lib\\site-packages\\nltk\\tokenize\\punkt.py\u001b[0m in \u001b[0;36m<listcomp>\u001b[1;34m(.0)\u001b[0m\n\u001b[0;32m   1329\u001b[0m         \u001b[0mfollows\u001b[0m \u001b[0mthe\u001b[0m \u001b[0mperiod\u001b[0m\u001b[1;33m.\u001b[0m\u001b[1;33m\u001b[0m\u001b[1;33m\u001b[0m\u001b[0m\n\u001b[0;32m   1330\u001b[0m         \"\"\"\n\u001b[1;32m-> 1331\u001b[1;33m         \u001b[1;32mreturn\u001b[0m \u001b[1;33m[\u001b[0m\u001b[0mtext\u001b[0m\u001b[1;33m[\u001b[0m\u001b[0ms\u001b[0m\u001b[1;33m:\u001b[0m\u001b[0me\u001b[0m\u001b[1;33m]\u001b[0m \u001b[1;32mfor\u001b[0m \u001b[0ms\u001b[0m\u001b[1;33m,\u001b[0m \u001b[0me\u001b[0m \u001b[1;32min\u001b[0m \u001b[0mself\u001b[0m\u001b[1;33m.\u001b[0m\u001b[0mspan_tokenize\u001b[0m\u001b[1;33m(\u001b[0m\u001b[0mtext\u001b[0m\u001b[1;33m,\u001b[0m \u001b[0mrealign_boundaries\u001b[0m\u001b[1;33m)\u001b[0m\u001b[1;33m]\u001b[0m\u001b[1;33m\u001b[0m\u001b[1;33m\u001b[0m\u001b[0m\n\u001b[0m\u001b[0;32m   1332\u001b[0m \u001b[1;33m\u001b[0m\u001b[0m\n\u001b[0;32m   1333\u001b[0m     \u001b[1;32mdef\u001b[0m \u001b[0m_slices_from_text\u001b[0m\u001b[1;33m(\u001b[0m\u001b[0mself\u001b[0m\u001b[1;33m,\u001b[0m \u001b[0mtext\u001b[0m\u001b[1;33m)\u001b[0m\u001b[1;33m:\u001b[0m\u001b[1;33m\u001b[0m\u001b[1;33m\u001b[0m\u001b[0m\n",
      "\u001b[1;32m~\\Anaconda3\\lib\\site-packages\\nltk\\tokenize\\punkt.py\u001b[0m in \u001b[0;36mspan_tokenize\u001b[1;34m(self, text, realign_boundaries)\u001b[0m\n\u001b[0;32m   1319\u001b[0m         \u001b[1;32mif\u001b[0m \u001b[0mrealign_boundaries\u001b[0m\u001b[1;33m:\u001b[0m\u001b[1;33m\u001b[0m\u001b[1;33m\u001b[0m\u001b[0m\n\u001b[0;32m   1320\u001b[0m             \u001b[0mslices\u001b[0m \u001b[1;33m=\u001b[0m \u001b[0mself\u001b[0m\u001b[1;33m.\u001b[0m\u001b[0m_realign_boundaries\u001b[0m\u001b[1;33m(\u001b[0m\u001b[0mtext\u001b[0m\u001b[1;33m,\u001b[0m \u001b[0mslices\u001b[0m\u001b[1;33m)\u001b[0m\u001b[1;33m\u001b[0m\u001b[1;33m\u001b[0m\u001b[0m\n\u001b[1;32m-> 1321\u001b[1;33m         \u001b[1;32mfor\u001b[0m \u001b[0msl\u001b[0m \u001b[1;32min\u001b[0m \u001b[0mslices\u001b[0m\u001b[1;33m:\u001b[0m\u001b[1;33m\u001b[0m\u001b[1;33m\u001b[0m\u001b[0m\n\u001b[0m\u001b[0;32m   1322\u001b[0m             \u001b[1;32myield\u001b[0m \u001b[1;33m(\u001b[0m\u001b[0msl\u001b[0m\u001b[1;33m.\u001b[0m\u001b[0mstart\u001b[0m\u001b[1;33m,\u001b[0m \u001b[0msl\u001b[0m\u001b[1;33m.\u001b[0m\u001b[0mstop\u001b[0m\u001b[1;33m)\u001b[0m\u001b[1;33m\u001b[0m\u001b[1;33m\u001b[0m\u001b[0m\n\u001b[0;32m   1323\u001b[0m \u001b[1;33m\u001b[0m\u001b[0m\n",
      "\u001b[1;32m~\\Anaconda3\\lib\\site-packages\\nltk\\tokenize\\punkt.py\u001b[0m in \u001b[0;36m_realign_boundaries\u001b[1;34m(self, text, slices)\u001b[0m\n\u001b[0;32m   1360\u001b[0m         \"\"\"\n\u001b[0;32m   1361\u001b[0m         \u001b[0mrealign\u001b[0m \u001b[1;33m=\u001b[0m \u001b[1;36m0\u001b[0m\u001b[1;33m\u001b[0m\u001b[1;33m\u001b[0m\u001b[0m\n\u001b[1;32m-> 1362\u001b[1;33m         \u001b[1;32mfor\u001b[0m \u001b[0msl1\u001b[0m\u001b[1;33m,\u001b[0m \u001b[0msl2\u001b[0m \u001b[1;32min\u001b[0m \u001b[0m_pair_iter\u001b[0m\u001b[1;33m(\u001b[0m\u001b[0mslices\u001b[0m\u001b[1;33m)\u001b[0m\u001b[1;33m:\u001b[0m\u001b[1;33m\u001b[0m\u001b[1;33m\u001b[0m\u001b[0m\n\u001b[0m\u001b[0;32m   1363\u001b[0m             \u001b[0msl1\u001b[0m \u001b[1;33m=\u001b[0m \u001b[0mslice\u001b[0m\u001b[1;33m(\u001b[0m\u001b[0msl1\u001b[0m\u001b[1;33m.\u001b[0m\u001b[0mstart\u001b[0m \u001b[1;33m+\u001b[0m \u001b[0mrealign\u001b[0m\u001b[1;33m,\u001b[0m \u001b[0msl1\u001b[0m\u001b[1;33m.\u001b[0m\u001b[0mstop\u001b[0m\u001b[1;33m)\u001b[0m\u001b[1;33m\u001b[0m\u001b[1;33m\u001b[0m\u001b[0m\n\u001b[0;32m   1364\u001b[0m             \u001b[1;32mif\u001b[0m \u001b[1;32mnot\u001b[0m \u001b[0msl2\u001b[0m\u001b[1;33m:\u001b[0m\u001b[1;33m\u001b[0m\u001b[1;33m\u001b[0m\u001b[0m\n",
      "\u001b[1;32m~\\Anaconda3\\lib\\site-packages\\nltk\\tokenize\\punkt.py\u001b[0m in \u001b[0;36m_pair_iter\u001b[1;34m(it)\u001b[0m\n\u001b[0;32m    319\u001b[0m     \u001b[1;32mexcept\u001b[0m \u001b[0mStopIteration\u001b[0m\u001b[1;33m:\u001b[0m\u001b[1;33m\u001b[0m\u001b[1;33m\u001b[0m\u001b[0m\n\u001b[0;32m    320\u001b[0m         \u001b[1;32mreturn\u001b[0m\u001b[1;33m\u001b[0m\u001b[1;33m\u001b[0m\u001b[0m\n\u001b[1;32m--> 321\u001b[1;33m     \u001b[1;32mfor\u001b[0m \u001b[0mel\u001b[0m \u001b[1;32min\u001b[0m \u001b[0mit\u001b[0m\u001b[1;33m:\u001b[0m\u001b[1;33m\u001b[0m\u001b[1;33m\u001b[0m\u001b[0m\n\u001b[0m\u001b[0;32m    322\u001b[0m         \u001b[1;32myield\u001b[0m \u001b[1;33m(\u001b[0m\u001b[0mprev\u001b[0m\u001b[1;33m,\u001b[0m \u001b[0mel\u001b[0m\u001b[1;33m)\u001b[0m\u001b[1;33m\u001b[0m\u001b[1;33m\u001b[0m\u001b[0m\n\u001b[0;32m    323\u001b[0m         \u001b[0mprev\u001b[0m \u001b[1;33m=\u001b[0m \u001b[0mel\u001b[0m\u001b[1;33m\u001b[0m\u001b[1;33m\u001b[0m\u001b[0m\n",
      "\u001b[1;32m~\\Anaconda3\\lib\\site-packages\\nltk\\tokenize\\punkt.py\u001b[0m in \u001b[0;36m_slices_from_text\u001b[1;34m(self, text)\u001b[0m\n\u001b[0;32m   1335\u001b[0m         \u001b[1;32mfor\u001b[0m \u001b[0mmatch\u001b[0m \u001b[1;32min\u001b[0m \u001b[0mself\u001b[0m\u001b[1;33m.\u001b[0m\u001b[0m_lang_vars\u001b[0m\u001b[1;33m.\u001b[0m\u001b[0mperiod_context_re\u001b[0m\u001b[1;33m(\u001b[0m\u001b[1;33m)\u001b[0m\u001b[1;33m.\u001b[0m\u001b[0mfinditer\u001b[0m\u001b[1;33m(\u001b[0m\u001b[0mtext\u001b[0m\u001b[1;33m)\u001b[0m\u001b[1;33m:\u001b[0m\u001b[1;33m\u001b[0m\u001b[1;33m\u001b[0m\u001b[0m\n\u001b[0;32m   1336\u001b[0m             \u001b[0mcontext\u001b[0m \u001b[1;33m=\u001b[0m \u001b[0mmatch\u001b[0m\u001b[1;33m.\u001b[0m\u001b[0mgroup\u001b[0m\u001b[1;33m(\u001b[0m\u001b[1;33m)\u001b[0m \u001b[1;33m+\u001b[0m \u001b[0mmatch\u001b[0m\u001b[1;33m.\u001b[0m\u001b[0mgroup\u001b[0m\u001b[1;33m(\u001b[0m\u001b[1;34m'after_tok'\u001b[0m\u001b[1;33m)\u001b[0m\u001b[1;33m\u001b[0m\u001b[1;33m\u001b[0m\u001b[0m\n\u001b[1;32m-> 1337\u001b[1;33m             \u001b[1;32mif\u001b[0m \u001b[0mself\u001b[0m\u001b[1;33m.\u001b[0m\u001b[0mtext_contains_sentbreak\u001b[0m\u001b[1;33m(\u001b[0m\u001b[0mcontext\u001b[0m\u001b[1;33m)\u001b[0m\u001b[1;33m:\u001b[0m\u001b[1;33m\u001b[0m\u001b[1;33m\u001b[0m\u001b[0m\n\u001b[0m\u001b[0;32m   1338\u001b[0m                 \u001b[1;32myield\u001b[0m \u001b[0mslice\u001b[0m\u001b[1;33m(\u001b[0m\u001b[0mlast_break\u001b[0m\u001b[1;33m,\u001b[0m \u001b[0mmatch\u001b[0m\u001b[1;33m.\u001b[0m\u001b[0mend\u001b[0m\u001b[1;33m(\u001b[0m\u001b[1;33m)\u001b[0m\u001b[1;33m)\u001b[0m\u001b[1;33m\u001b[0m\u001b[1;33m\u001b[0m\u001b[0m\n\u001b[0;32m   1339\u001b[0m                 \u001b[1;32mif\u001b[0m \u001b[0mmatch\u001b[0m\u001b[1;33m.\u001b[0m\u001b[0mgroup\u001b[0m\u001b[1;33m(\u001b[0m\u001b[1;34m'next_tok'\u001b[0m\u001b[1;33m)\u001b[0m\u001b[1;33m:\u001b[0m\u001b[1;33m\u001b[0m\u001b[1;33m\u001b[0m\u001b[0m\n",
      "\u001b[1;32m~\\Anaconda3\\lib\\site-packages\\nltk\\tokenize\\punkt.py\u001b[0m in \u001b[0;36mtext_contains_sentbreak\u001b[1;34m(self, text)\u001b[0m\n\u001b[0;32m   1381\u001b[0m         \"\"\"\n\u001b[0;32m   1382\u001b[0m         \u001b[0mfound\u001b[0m \u001b[1;33m=\u001b[0m \u001b[1;32mFalse\u001b[0m  \u001b[1;31m# used to ignore last token\u001b[0m\u001b[1;33m\u001b[0m\u001b[1;33m\u001b[0m\u001b[0m\n\u001b[1;32m-> 1383\u001b[1;33m         \u001b[1;32mfor\u001b[0m \u001b[0mt\u001b[0m \u001b[1;32min\u001b[0m \u001b[0mself\u001b[0m\u001b[1;33m.\u001b[0m\u001b[0m_annotate_tokens\u001b[0m\u001b[1;33m(\u001b[0m\u001b[0mself\u001b[0m\u001b[1;33m.\u001b[0m\u001b[0m_tokenize_words\u001b[0m\u001b[1;33m(\u001b[0m\u001b[0mtext\u001b[0m\u001b[1;33m)\u001b[0m\u001b[1;33m)\u001b[0m\u001b[1;33m:\u001b[0m\u001b[1;33m\u001b[0m\u001b[1;33m\u001b[0m\u001b[0m\n\u001b[0m\u001b[0;32m   1384\u001b[0m             \u001b[1;32mif\u001b[0m \u001b[0mfound\u001b[0m\u001b[1;33m:\u001b[0m\u001b[1;33m\u001b[0m\u001b[1;33m\u001b[0m\u001b[0m\n\u001b[0;32m   1385\u001b[0m                 \u001b[1;32mreturn\u001b[0m \u001b[1;32mTrue\u001b[0m\u001b[1;33m\u001b[0m\u001b[1;33m\u001b[0m\u001b[0m\n",
      "\u001b[1;32m~\\Anaconda3\\lib\\site-packages\\nltk\\tokenize\\punkt.py\u001b[0m in \u001b[0;36m_annotate_second_pass\u001b[1;34m(self, tokens)\u001b[0m\n\u001b[0;32m   1518\u001b[0m         \"\"\"\n\u001b[0;32m   1519\u001b[0m         \u001b[1;32mfor\u001b[0m \u001b[0mt1\u001b[0m\u001b[1;33m,\u001b[0m \u001b[0mt2\u001b[0m \u001b[1;32min\u001b[0m \u001b[0m_pair_iter\u001b[0m\u001b[1;33m(\u001b[0m\u001b[0mtokens\u001b[0m\u001b[1;33m)\u001b[0m\u001b[1;33m:\u001b[0m\u001b[1;33m\u001b[0m\u001b[1;33m\u001b[0m\u001b[0m\n\u001b[1;32m-> 1520\u001b[1;33m             \u001b[0mself\u001b[0m\u001b[1;33m.\u001b[0m\u001b[0m_second_pass_annotation\u001b[0m\u001b[1;33m(\u001b[0m\u001b[0mt1\u001b[0m\u001b[1;33m,\u001b[0m \u001b[0mt2\u001b[0m\u001b[1;33m)\u001b[0m\u001b[1;33m\u001b[0m\u001b[1;33m\u001b[0m\u001b[0m\n\u001b[0m\u001b[0;32m   1521\u001b[0m             \u001b[1;32myield\u001b[0m \u001b[0mt1\u001b[0m\u001b[1;33m\u001b[0m\u001b[1;33m\u001b[0m\u001b[0m\n\u001b[0;32m   1522\u001b[0m \u001b[1;33m\u001b[0m\u001b[0m\n",
      "\u001b[1;32m~\\Anaconda3\\lib\\site-packages\\nltk\\tokenize\\punkt.py\u001b[0m in \u001b[0;36m_second_pass_annotation\u001b[1;34m(self, aug_tok1, aug_tok2)\u001b[0m\n\u001b[0;32m   1554\u001b[0m         \u001b[1;31m# the token is an abbreviation or an ellipsis, then decide\u001b[0m\u001b[1;33m\u001b[0m\u001b[1;33m\u001b[0m\u001b[1;33m\u001b[0m\u001b[0m\n\u001b[0;32m   1555\u001b[0m         \u001b[1;31m# whether we should *also* classify it as a sentbreak.\u001b[0m\u001b[1;33m\u001b[0m\u001b[1;33m\u001b[0m\u001b[1;33m\u001b[0m\u001b[0m\n\u001b[1;32m-> 1556\u001b[1;33m         \u001b[1;32mif\u001b[0m \u001b[1;33m(\u001b[0m\u001b[0maug_tok1\u001b[0m\u001b[1;33m.\u001b[0m\u001b[0mabbr\u001b[0m \u001b[1;32mor\u001b[0m \u001b[0maug_tok1\u001b[0m\u001b[1;33m.\u001b[0m\u001b[0mellipsis\u001b[0m\u001b[1;33m)\u001b[0m \u001b[1;32mand\u001b[0m \u001b[1;33m(\u001b[0m\u001b[1;32mnot\u001b[0m \u001b[0mtok_is_initial\u001b[0m\u001b[1;33m)\u001b[0m\u001b[1;33m:\u001b[0m\u001b[1;33m\u001b[0m\u001b[1;33m\u001b[0m\u001b[0m\n\u001b[0m\u001b[0;32m   1557\u001b[0m             \u001b[1;31m# [4.1.1. Orthographic Heuristic] Check if there's\u001b[0m\u001b[1;33m\u001b[0m\u001b[1;33m\u001b[0m\u001b[1;33m\u001b[0m\u001b[0m\n\u001b[0;32m   1558\u001b[0m             \u001b[1;31m# orthogrpahic evidence about whether the next word\u001b[0m\u001b[1;33m\u001b[0m\u001b[1;33m\u001b[0m\u001b[1;33m\u001b[0m\u001b[0m\n",
      "\u001b[1;31mKeyboardInterrupt\u001b[0m: "
     ]
    }
   ],
   "source": [
    "n=0\n",
    "words_dist=[]\n",
    "N=[]\n",
    "while (n<10):\n",
    "    N.append(n)\n",
    "    Noise_Removal()\n",
    "    Tokenization()\n",
    "    Normalization()\n",
    "    test = Counter(\" \".join(data[\"Comment\"]).split())\n",
    "    words_dist.append(len(test.keys()))\n",
    "    n+=1"
   ]
  },
  {
   "cell_type": "code",
   "execution_count": 24,
   "metadata": {},
   "outputs": [
    {
     "name": "stdout",
     "output_type": "stream",
     "text": [
      "[8819, 8219, 8122, 8100, 8097, 8097, 8096, 8096, 8096, 8095]\n"
     ]
    },
    {
     "data": {
      "text/plain": [
       "[<matplotlib.lines.Line2D at 0x291ae998ba8>]"
      ]
     },
     "execution_count": 24,
     "metadata": {},
     "output_type": "execute_result"
    },
    {
     "data": {
      "image/png": "[encoded data removed]",
      "text/plain": [
       "<Figure size 432x288 with 1 Axes>"
      ]
     },
     "metadata": {
      "needs_background": "light"
     },
     "output_type": "display_data"
    }
   ],
   "source": [
    "print(words_dist)\n",
    "plt.plot(N,words_dist,color='olive',marker='o', markerfacecolor='olive', markersize=4, linewidth=2,label='loops vs distinct words')"
   ]
  },
  {
   "cell_type": "markdown",
   "metadata": {},
   "source": [
    "# final test set"
   ]
  },
  {
   "cell_type": "code",
   "execution_count": 209,
   "metadata": {},
   "outputs": [],
   "source": [
    "n=0\n",
    "words_dist_test=[]\n",
    "N_test=[]\n",
    "while (n<10):\n",
    "    N_test.append(n)\n",
    "    Noise_Removal()\n",
    "    Tokenization()\n",
    "    Normalization()\n",
    "    test = Counter(\" \".join(data_test[\"Comment\"]).split())\n",
    "    words_dist_test.append(len(test.keys()))\n",
    "    n+=1"
   ]
  },
  {
   "cell_type": "code",
   "execution_count": 266,
   "metadata": {},
   "outputs": [
    {
     "name": "stdout",
     "output_type": "stream",
     "text": [
      "[5474, 5474, 5474, 5474, 5474, 5474, 5474, 5474, 5474, 5474]\n"
     ]
    }
   ],
   "source": [
    "print(words_dist_test)"
   ]
  },
  {
   "cell_type": "code",
   "execution_count": 267,
   "metadata": {},
   "outputs": [
    {
     "data": {
      "text/plain": [
       "[<matplotlib.lines.Line2D at 0x291aec83cf8>]"
      ]
     },
     "execution_count": 267,
     "metadata": {},
     "output_type": "execute_result"
    },
    {
     "data": {
      "image/png": "[encoded data removed]",
      "text/plain": [
       "<Figure size 432x288 with 1 Axes>"
      ]
     },
     "metadata": {
      "needs_background": "light"
     },
     "output_type": "display_data"
    }
   ],
   "source": [
    "plt.plot(N_test,words_dist_test,color='olive',marker='o', markerfacecolor='olive', markersize=4, linewidth=2,label='loops vs distinct words')"
   ]
  },
  {
   "cell_type": "markdown",
   "metadata": {},
   "source": [
    "# 1.7 Deemphasizing common words"
   ]
  },
  {
   "cell_type": "code",
   "execution_count": 31,
   "metadata": {},
   "outputs": [],
   "source": [
    "from sklearn.feature_extraction.text import TfidfVectorizer\n",
    "Y=data['Class']\n",
    "X=data['Comment']\n",
    "Xtrain, Xtest, Ytrain, Ytest = train_test_split(X, Y, test_size=0.2, random_state=0)\n",
    "vectorizer = TfidfVectorizer()\n",
    "X = vectorizer.fit_transform(X)"
   ]
  },
  {
   "cell_type": "code",
   "execution_count": 270,
   "metadata": {},
   "outputs": [],
   "source": [
    "Xfinal=data_test['Comment']\n",
    "Yfinal=data_test['Class']\n"
   ]
  },
  {
   "cell_type": "markdown",
   "metadata": {},
   "source": [
    "# 1.8 Create trainning and test sets\n"
   ]
  },
  {
   "cell_type": "code",
   "execution_count": 32,
   "metadata": {},
   "outputs": [],
   "source": [
    "Xtrain1, Xtest1, Ytrain1, Ytest1 = train_test_split(X, Y, test_size=0.2, random_state=0)"
   ]
  },
  {
   "cell_type": "code",
   "execution_count": 27,
   "metadata": {},
   "outputs": [
    {
     "data": {
      "text/plain": [
       "(8803, 8077)"
      ]
     },
     "execution_count": 27,
     "metadata": {},
     "output_type": "execute_result"
    }
   ],
   "source": [
    "Xtrain.shape"
   ]
  },
  {
   "cell_type": "code",
   "execution_count": null,
   "metadata": {},
   "outputs": [],
   "source": []
  },
  {
   "cell_type": "code",
   "execution_count": 28,
   "metadata": {},
   "outputs": [
    {
     "data": {
      "text/plain": [
       "4479     vot leav escap unit stat europ recess damn eco...\n",
       "8590     thi first piec video tap real ang brit memb eu...\n",
       "5366                                            leav simpl\n",
       "4548     britain leav eu scotland ano referund leav bri...\n",
       "5925                                      deal suit hat eu\n",
       "                               ...                        \n",
       "4859     gre eu lik hav escap al burn build watch selfd...\n",
       "3264     hap uk decid leav eu without plan tak year pre...\n",
       "9845     com lik brexit part liberalm london bubbl vot ...\n",
       "10799    peopl hav spok govt peopl peopl un elect forei...\n",
       "2732     fuck bor johnson fuck trump fuck brexit fuck k...\n",
       "Name: Comment, Length: 8803, dtype: object"
      ]
     },
     "execution_count": 28,
     "metadata": {},
     "output_type": "execute_result"
    }
   ],
   "source": [
    "Xtrain1"
   ]
  },
  {
   "cell_type": "markdown",
   "metadata": {},
   "source": [
    "# 2 Training the classfiers "
   ]
  },
  {
   "cell_type": "markdown",
   "metadata": {},
   "source": [
    "# 2.1 the baseline classifier"
   ]
  },
  {
   "cell_type": "code",
   "execution_count": 40,
   "metadata": {},
   "outputs": [
    {
     "data": {
      "text/plain": [
       "0.5182324092715915"
      ]
     },
     "execution_count": 40,
     "metadata": {},
     "output_type": "execute_result"
    }
   ],
   "source": [
    "from sklearn.model_selection import cross_val_score\n",
    "from sklearn.dummy import DummyClassifier\n",
    "\n",
    "pipeline = make_pipeline(\n",
    "      TfidfVectorizer(),\n",
    "      DummyClassifier(strategy='most_frequent')\n",
    "    )\n",
    "clf=pipeline.fit(Xtrain,Ytrain)\n",
    "\n",
    "\n",
    "cross_val_score(clf, Xtrain, Ytrain, cv=5, scoring='accuracy').mean()"
   ]
  },
  {
   "cell_type": "code",
   "execution_count": 41,
   "metadata": {},
   "outputs": [
    {
     "data": {
      "text/plain": [
       "0.5147660154475239"
      ]
     },
     "execution_count": 41,
     "metadata": {},
     "output_type": "execute_result"
    }
   ],
   "source": [
    "clf.fit(Xtrain, Ytrain)\n",
    "Yguess = clf.predict(Xtest)\n",
    "accuracy_score(Ytest, Yguess)"
   ]
  },
  {
   "cell_type": "markdown",
   "metadata": {},
   "source": [
    "# Evaluate the Models using confusion matrix\n"
   ]
  },
  {
   "cell_type": "code",
   "execution_count": 42,
   "metadata": {},
   "outputs": [
    {
     "data": {
      "image/png": "[encoded data removed]",
      "text/plain": [
       "<Figure size 720x720 with 1 Axes>"
      ]
     },
     "metadata": {
      "needs_background": "light"
     },
     "output_type": "display_data"
    }
   ],
   "source": [
    "cm = confusion_matrix(Ytest, Yguess)\n",
    "fig= plt.figure()\n",
    "ax = fig.add_subplot(221)\n",
    "fig.set_size_inches(10, 10)\n",
    "ax.title.set_text('baseline classifier')\n",
    "ax.imshow(cm)\n",
    "ax.grid(False)\n",
    "ax.xaxis.set(ticks=(0, 1), ticklabels=('Predicted 0s', 'Predicted 1s'))\n",
    "ax.yaxis.set(ticks=(0, 1), ticklabels=('Actual 0s', 'Actual 1s'))\n",
    "ax.set_ylim(1.5, -0.5)\n",
    "for i in range(2):\n",
    "    for j in range(2):\n",
    "        ax.text(j, i, cm[i, j], ha='center', va='center', color='red')\n",
    "plt.show()"
   ]
  },
  {
   "cell_type": "code",
   "execution_count": 43,
   "metadata": {},
   "outputs": [
    {
     "name": "stdout",
     "output_type": "stream",
     "text": [
      "              precision    recall  f1-score   support\n",
      "\n",
      "           0       0.00      0.00      0.00      1068\n",
      "           1       0.51      1.00      0.68      1133\n",
      "\n",
      "    accuracy                           0.51      2201\n",
      "   macro avg       0.26      0.50      0.34      2201\n",
      "weighted avg       0.26      0.51      0.35      2201\n",
      "\n"
     ]
    },
    {
     "name": "stderr",
     "output_type": "stream",
     "text": [
      "C:\\Users\\bishe\\Anaconda3\\lib\\site-packages\\sklearn\\metrics\\_classification.py:1272: UndefinedMetricWarning: Precision and F-score are ill-defined and being set to 0.0 in labels with no predicted samples. Use `zero_division` parameter to control this behavior.\n",
      "  _warn_prf(average, modifier, msg_start, len(result))\n"
     ]
    }
   ],
   "source": [
    "print(classification_report(Ytest, Yguess))"
   ]
  },
  {
   "cell_type": "markdown",
   "metadata": {},
   "source": [
    "# 2.2 Trying out some different classifiers"
   ]
  },
  {
   "cell_type": "markdown",
   "metadata": {},
   "source": [
    "# 2.2.1 Linear classifiers"
   ]
  },
  {
   "cell_type": "code",
   "execution_count": null,
   "metadata": {},
   "outputs": [],
   "source": [
    "from sklearn.linear_model import Perceptron\n",
    "pipeline = make_pipeline(\n",
    "      TfidfVectorizer(),\n",
    "      Perceptron(random_state=10)\n",
    "    )\n",
    " \n",
    "lcp=pipeline.fit(Xtrain,Ytrain)\n",
    "cross_val_score(lcp, Xtrain, Ytrain, cv=5, scoring='accuracy').mean()"
   ]
  },
  {
   "cell_type": "markdown",
   "metadata": {},
   "source": [
    "# Perceptron"
   ]
  },
  {
   "cell_type": "code",
   "execution_count": 44,
   "metadata": {},
   "outputs": [
    {
     "data": {
      "text/plain": [
       "0.7136208120386144"
      ]
     },
     "execution_count": 44,
     "metadata": {},
     "output_type": "execute_result"
    }
   ],
   "source": [
    "from sklearn.linear_model import Perceptron\n",
    "pipeline = make_pipeline(\n",
    "      TfidfVectorizer(),\n",
    "      Perceptron(random_state=10)\n",
    "    )\n",
    " \n",
    "lcp=pipeline.fit(Xtrain,Ytrain)\n",
    "cross_val_score(lcp, Xtrain, Ytrain, cv=5, scoring='accuracy').mean()"
   ]
  },
  {
   "cell_type": "code",
   "execution_count": 47,
   "metadata": {},
   "outputs": [
    {
     "name": "stdout",
     "output_type": "stream",
     "text": [
      "The optimal threshold is 0.49\n",
      "Accuracy : 0.7133\n",
      "AUC Score (Train): 0.788699\n"
     ]
    }
   ],
   "source": [
    "lcp.fit(Xtrain, Ytrain)\n",
    "Yguess_lcp = lcp.predict(Xtest)\n",
    "Ypredprob_lcp = lcp.fit(Xtrain, Ytrain).decision_function(Xtest)\n",
    "Ypredprob_lcp = (Ypredprob_lcp - Ypredprob_lcp.min()) / (Ypredprob_lcp.max() - Ypredprob_lcp.min())\n",
    "Ytest_n=Ytest.astype(int)\n",
    "fpr_lcp, tpr_lcp, threshold_lcp = roc_curve(Ytest_n, Ypredprob_lcp)\n",
    "roc_auc_lcp = auc(fpr_lcp, tpr_lcp)\n",
    "optimal_idx_lcp = np.argmax(tpr_lcp - fpr_lcp)\n",
    "optimal_threshold_lcp = threshold_lcp[optimal_idx_lcp]\n",
    "print('The optimal threshold is %0.2f' %optimal_threshold_lcp)\n",
    "print (\"Accuracy : %.4f\" % accuracy_score(Ytest, Yguess_lcp))\n",
    "print (\"AUC Score (Train): %f\" % roc_auc_score(Ytest, Ypredprob_lcp))"
   ]
  },
  {
   "cell_type": "markdown",
   "metadata": {},
   "source": [
    "# LogisticRegression"
   ]
  },
  {
   "cell_type": "code",
   "execution_count": 49,
   "metadata": {},
   "outputs": [
    {
     "data": {
      "text/plain": [
       "0.7723512596148882"
      ]
     },
     "execution_count": 49,
     "metadata": {},
     "output_type": "execute_result"
    }
   ],
   "source": [
    "from sklearn.linear_model import LogisticRegression\n",
    "lclr = make_pipeline(\n",
    "      TfidfVectorizer(),\n",
    "      LogisticRegression(multi_class='auto',solver='newton-cg', max_iter=5000,random_state=10)\n",
    "    )\n",
    "\n",
    "lclr=lclr.fit(Xtrain,Ytrain)\n",
    "cross_val_score(lclr, Xtrain, Ytrain, cv=5, scoring='accuracy').mean()"
   ]
  },
  {
   "cell_type": "code",
   "execution_count": 51,
   "metadata": {},
   "outputs": [
    {
     "name": "stdout",
     "output_type": "stream",
     "text": [
      "The optimal threshold is 0.55\n",
      "Accuracy : 0.7706\n",
      "AUC Score (Train): 0.852491\n"
     ]
    }
   ],
   "source": [
    "lclr.fit(Xtrain, Ytrain)\n",
    "Yguess_lclr=lclr.predict(Xtest)\n",
    "Ypredprob_lclr = lclr.fit(Xtrain, Ytrain).decision_function(Xtest)\n",
    "Ypredprob_lclr = (Ypredprob_lclr - Ypredprob_lclr.min()) / (Ypredprob_lclr.max() - Ypredprob_lclr.min())\n",
    "Ytest_n=Ytest.astype(int)\n",
    "fpr_lclr, tpr_lclr, threshold_lclr = roc_curve(Ytest_n, Ypredprob_lclr)\n",
    "roc_auc_lclr = auc(fpr_lclr, tpr_lclr)\n",
    "optimal_idx_lclr = np.argmax(tpr_lclr - fpr_lclr)\n",
    "optimal_threshold_lclr = threshold_lcp[optimal_idx_lclr]\n",
    "print('The optimal threshold is %0.2f' %optimal_threshold_lclr)\n",
    "print (\"Accuracy : %.4f\" % accuracy_score(Ytest, Yguess_lclr))\n",
    "print (\"AUC Score (Train): %f\" % roc_auc_score(Ytest, Ypredprob_lclr))"
   ]
  },
  {
   "cell_type": "markdown",
   "metadata": {},
   "source": [
    "# LinearSVC"
   ]
  },
  {
   "cell_type": "code",
   "execution_count": 52,
   "metadata": {},
   "outputs": [
    {
     "data": {
      "text/plain": [
       "0.7639459114139693"
      ]
     },
     "execution_count": 52,
     "metadata": {},
     "output_type": "execute_result"
    }
   ],
   "source": [
    "from sklearn.svm import LinearSVC\n",
    "\n",
    "slSVC = make_pipeline(\n",
    "      TfidfVectorizer(),\n",
    "      LinearSVC(max_iter=10000, random_state=10)\n",
    "    )\n",
    "slSVC=slSVC.fit(Xtrain,Ytrain)\n",
    "cross_val_score(slSVC, Xtrain, Ytrain, cv=5, scoring='accuracy').mean()"
   ]
  },
  {
   "cell_type": "code",
   "execution_count": 53,
   "metadata": {},
   "outputs": [
    {
     "name": "stdout",
     "output_type": "stream",
     "text": [
      "The optimal threshold is 0.54\n",
      "Accuracy : 0.7651\n",
      "AUC Score (Train): 0.847337\n"
     ]
    }
   ],
   "source": [
    "slSVC.fit(Xtrain, Ytrain)\n",
    "Yguess_slSVC=slSVC.predict(Xtest)\n",
    "Ypredprob_slSVC = slSVC.fit(Xtrain, Ytrain).decision_function(Xtest)\n",
    "Ypredprob_slSVC = (Ypredprob_slSVC - Ypredprob_slSVC.min()) / (Ypredprob_slSVC.max() - Ypredprob_slSVC.min())\n",
    "Ytest_n=Ytest.astype(int)\n",
    "fpr_slSVC, tpr_slSVC, threshold_slSVC = roc_curve(Ytest_n, Ypredprob_slSVC)\n",
    "roc_auc_slSVC = auc(fpr_slSVC, tpr_slSVC)\n",
    "optimal_idx_slSVC = np.argmax(tpr_slSVC - fpr_slSVC)\n",
    "optimal_threshold_slSVC = threshold_lcp[optimal_idx_slSVC]\n",
    "print('The optimal threshold is %0.2f' %optimal_threshold_slSVC)\n",
    "print (\"Accuracy : %.4f\" % accuracy_score(Ytest, Yguess_slSVC))\n",
    "print (\"AUC Score (Train): %f\" % roc_auc_score(Ytest, Ypredprob_slSVC))"
   ]
  },
  {
   "cell_type": "markdown",
   "metadata": {},
   "source": [
    "# Evaluate the Models using confusion matrix"
   ]
  },
  {
   "cell_type": "code",
   "execution_count": 54,
   "metadata": {},
   "outputs": [
    {
     "data": {
      "image/png": "[encoded data removed]",
      "text/plain": [
       "<Figure size 720x720 with 3 Axes>"
      ]
     },
     "metadata": {
      "needs_background": "light"
     },
     "output_type": "display_data"
    }
   ],
   "source": [
    "lcp_cm=confusion_matrix(Ytest, Yguess_lcp)\n",
    "lclr_cm = confusion_matrix(Ytest, Yguess_lclr)\n",
    "slSVC_cm = confusion_matrix(Ytest, Yguess_slSVC)\n",
    "\n",
    "fig= plt.figure()\n",
    "fig.set_size_inches(10, 10)\n",
    "ax1 = fig.add_subplot(221)\n",
    "ax1.title.set_text('Perceptron')\n",
    "ax1.imshow(lcp_cm)\n",
    "ax1.grid(False)\n",
    "ax1.xaxis.set(ticks=(0, 1), ticklabels=('Predicted 0s', 'Predicted 1s'))\n",
    "ax1.yaxis.set(ticks=(0, 1), ticklabels=('Actual 0s', 'Actual 1s'))\n",
    "ax1.set_ylim(1.5, -0.5)\n",
    "for i in range(2):\n",
    "    for j in range(2):\n",
    "        ax1.text(j, i, lcp_cm[i, j], ha='center', va='center', color='red')\n",
    "ax2 = fig.add_subplot(222)\n",
    "ax2.title.set_text('LogisticRegression')\n",
    "ax2.imshow(lclr_cm)\n",
    "ax2.grid(False)\n",
    "ax2.xaxis.set(ticks=(0, 1), ticklabels=('Predicted 0s', 'Predicted 1s'))\n",
    "ax2.yaxis.set(ticks=(0, 1), ticklabels=('Actual 0s', 'Actual 1s'))\n",
    "ax2.set_ylim(1.5, -0.5)\n",
    "for i in range(2):\n",
    "    for j in range(2):\n",
    "        ax2.text(j, i, lclr_cm[i, j], ha='center', va='center', color='red')\n",
    "ax3 = fig.add_subplot(223)\n",
    "ax3.title.set_text('LinearSVC')\n",
    "ax3.imshow(slSVC_cm)\n",
    "ax3.grid(False)\n",
    "ax3.xaxis.set(ticks=(0, 1), ticklabels=('Predicted 0s', 'Predicted 1s'))\n",
    "ax3.yaxis.set(ticks=(0, 1), ticklabels=('Actual 0s', 'Actual 1s'))\n",
    "ax3.set_ylim(1.5, -0.5)\n",
    "for i in range(2):\n",
    "    for j in range(2):\n",
    "        ax3.text(j, i, slSVC_cm[i, j], ha='center', va='center', color='red')        \n",
    "        \n",
    "plt.show()"
   ]
  },
  {
   "cell_type": "code",
   "execution_count": 55,
   "metadata": {},
   "outputs": [
    {
     "name": "stdout",
     "output_type": "stream",
     "text": [
      "              precision    recall  f1-score   support\n",
      "\n",
      "           0       0.72      0.66      0.69      1068\n",
      "           1       0.70      0.76      0.73      1133\n",
      "\n",
      "    accuracy                           0.71      2201\n",
      "   macro avg       0.71      0.71      0.71      2201\n",
      "weighted avg       0.71      0.71      0.71      2201\n",
      "\n"
     ]
    }
   ],
   "source": [
    "print(classification_report(Ytest, Yguess_lcp))"
   ]
  },
  {
   "cell_type": "code",
   "execution_count": 56,
   "metadata": {},
   "outputs": [
    {
     "name": "stdout",
     "output_type": "stream",
     "text": [
      "              precision    recall  f1-score   support\n",
      "\n",
      "           0       0.78      0.74      0.76      1068\n",
      "           1       0.77      0.80      0.78      1133\n",
      "\n",
      "    accuracy                           0.77      2201\n",
      "   macro avg       0.77      0.77      0.77      2201\n",
      "weighted avg       0.77      0.77      0.77      2201\n",
      "\n"
     ]
    }
   ],
   "source": [
    "print(classification_report(Ytest, Yguess_lclr))"
   ]
  },
  {
   "cell_type": "code",
   "execution_count": 57,
   "metadata": {},
   "outputs": [
    {
     "name": "stdout",
     "output_type": "stream",
     "text": [
      "              precision    recall  f1-score   support\n",
      "\n",
      "           0       0.77      0.73      0.75      1068\n",
      "           1       0.76      0.80      0.78      1133\n",
      "\n",
      "    accuracy                           0.77      2201\n",
      "   macro avg       0.77      0.76      0.76      2201\n",
      "weighted avg       0.77      0.77      0.76      2201\n",
      "\n"
     ]
    }
   ],
   "source": [
    "print(classification_report(Ytest, Yguess_slSVC))"
   ]
  },
  {
   "cell_type": "markdown",
   "metadata": {},
   "source": [
    "# 2.2.2 Tree-based classifiers"
   ]
  },
  {
   "cell_type": "markdown",
   "metadata": {},
   "source": [
    "# DecisionTreeClassifier"
   ]
  },
  {
   "cell_type": "code",
   "execution_count": 59,
   "metadata": {},
   "outputs": [
    {
     "data": {
      "text/plain": [
       "0.6588642171286975"
      ]
     },
     "execution_count": 59,
     "metadata": {},
     "output_type": "execute_result"
    }
   ],
   "source": [
    "from sklearn import tree\n",
    "dtc = make_pipeline(\n",
    "      TfidfVectorizer(),\n",
    "      tree.DecisionTreeClassifier(random_state=10)\n",
    "    )\n",
    "dtc=dtc.fit(Xtrain,Ytrain)\n",
    "cross_val_score(dtc, Xtrain, Ytrain, cv=5, scoring='accuracy').mean()"
   ]
  },
  {
   "cell_type": "code",
   "execution_count": 61,
   "metadata": {},
   "outputs": [
    {
     "name": "stdout",
     "output_type": "stream",
     "text": [
      "The optimal threshold is 1.00\n",
      "Accuracy : 0.6724\n",
      "AUC Score (Train): 0.670445\n"
     ]
    }
   ],
   "source": [
    "Yguess_dtc = dtc.predict(Xtest)\n",
    "Ypredprob_dtc = dtc.predict_proba(Xtest)[:,1]\n",
    "Ytest_n=Ytest.astype(int)\n",
    "fpr_dtc, tpr_dtc, threshold_dtc = roc_curve(Ytest_n, Ypredprob_dtc)\n",
    "roc_auc_dtc = auc(fpr_dtc, tpr_dtc)\n",
    "optimal_idx_dtc = np.argmax(tpr_dtc - fpr_dtc)\n",
    "optimal_threshold_dtc = threshold_dtc[optimal_idx_dtc]\n",
    "print('The optimal threshold is %0.2f' %optimal_threshold_dtc)\n",
    "print (\"Accuracy : %.4f\" % accuracy_score(Ytest, Yguess_dtc))\n",
    "print (\"AUC Score (Train): %f\" % roc_auc_score(Ytest, Ypredprob_dtc))"
   ]
  },
  {
   "cell_type": "markdown",
   "metadata": {},
   "source": [
    "# RandomForestClassifier"
   ]
  },
  {
   "cell_type": "code",
   "execution_count": 62,
   "metadata": {},
   "outputs": [
    {
     "data": {
      "text/plain": [
       "0.7600813716380157"
      ]
     },
     "execution_count": 62,
     "metadata": {},
     "output_type": "execute_result"
    }
   ],
   "source": [
    "from sklearn.ensemble import RandomForestClassifier\n",
    "dfc = make_pipeline(\n",
    "      TfidfVectorizer(),\n",
    "      RandomForestClassifier(n_estimators=100,random_state=10)\n",
    "    )\n",
    "dfc=dfc.fit(Xtrain,Ytrain)\n",
    "cross_val_score(dfc, Xtrain, Ytrain, cv=5, scoring='accuracy').mean()"
   ]
  },
  {
   "cell_type": "code",
   "execution_count": 238,
   "metadata": {},
   "outputs": [
    {
     "name": "stdout",
     "output_type": "stream",
     "text": [
      "The optimal threshold is 0.56\n",
      "Accuracy : 0.7628\n",
      "AUC Score (Train): 0.843416\n"
     ]
    },
    {
     "data": {
      "text/plain": [
       "Pipeline(memory=None,\n",
       "         steps=[('tfidfvectorizer',\n",
       "                 TfidfVectorizer(analyzer='word', binary=False,\n",
       "                                 decode_error='strict',\n",
       "                                 dtype=<class 'numpy.float64'>,\n",
       "                                 encoding='utf-8', input='content',\n",
       "                                 lowercase=True, max_df=1.0, max_features=None,\n",
       "                                 min_df=1, ngram_range=(1, 1), norm='l2',\n",
       "                                 preprocessor=None, smooth_idf=True,\n",
       "                                 stop_words=None, strip_accents=None,\n",
       "                                 sublinear_tf=False,\n",
       "                                 token...\n",
       "                 RandomForestClassifier(bootstrap=True, ccp_alpha=0.0,\n",
       "                                        class_weight=None, criterion='gini',\n",
       "                                        max_depth=None, max_features='auto',\n",
       "                                        max_leaf_nodes=None, max_samples=None,\n",
       "                                        min_impurity_decrease=0.0,\n",
       "                                        min_impurity_split=None,\n",
       "                                        min_samples_leaf=1, min_samples_split=2,\n",
       "                                        min_weight_fraction_leaf=0.0,\n",
       "                                        n_estimators=100, n_jobs=None,\n",
       "                                        oob_score=False, random_state=10,\n",
       "                                        verbose=0, warm_start=False))],\n",
       "         verbose=False)"
      ]
     },
     "execution_count": 238,
     "metadata": {},
     "output_type": "execute_result"
    }
   ],
   "source": [
    "Yguess_dfc = dfc.predict(Xtest)\n",
    "Yguess_dfc_n=Yguess_dfc.astype(int)\n",
    "Ypredprob_dfc = dfc.predict_proba(Xtest)[:,1]\n",
    "Ytest_n=Ytest.astype(int)\n",
    "fpr_dfc, tpr_dfc, threshold_dfc = roc_curve(Ytest_n, Ypredprob_dfc)\n",
    "roc_auc_dfc = auc(fpr_dfc, tpr_dfc)\n",
    "optimal_idx_dfc = np.argmax(tpr_dfc - fpr_dfc)\n",
    "optimal_threshold_dfc = threshold_dfc[optimal_idx_dfc]\n",
    "print('The optimal threshold is %0.2f' %optimal_threshold_dfc)\n",
    "print (\"Accuracy : %.4f\" % accuracy_score(Ytest, Yguess_dfc))\n",
    "print (\"AUC Score (Train): %f\" % roc_auc_score(Ytest, Ypredprob_dfc))\n",
    "\n",
    "dfc"
   ]
  },
  {
   "cell_type": "code",
   "execution_count": 118,
   "metadata": {},
   "outputs": [
    {
     "name": "stdout",
     "output_type": "stream",
     "text": [
      "              precision    recall  f1-score   support\n",
      "\n",
      "           0       0.79      0.70      0.74      1068\n",
      "           1       0.74      0.82      0.78      1133\n",
      "\n",
      "    accuracy                           0.76      2201\n",
      "   macro avg       0.77      0.76      0.76      2201\n",
      "weighted avg       0.77      0.76      0.76      2201\n",
      "\n"
     ]
    }
   ],
   "source": [
    "print(classification_report(Ytest, Yguess_dfc))\n"
   ]
  },
  {
   "cell_type": "code",
   "execution_count": 119,
   "metadata": {},
   "outputs": [
    {
     "data": {
      "text/plain": [
       "0.7812238055322716"
      ]
     },
     "execution_count": 119,
     "metadata": {},
     "output_type": "execute_result"
    }
   ],
   "source": [
    "f1_score(Ytest_n, Yguess_dfc_n)"
   ]
  },
  {
   "cell_type": "markdown",
   "metadata": {},
   "source": [
    "# GradientBoostingClassifier\n"
   ]
  },
  {
   "cell_type": "code",
   "execution_count": 126,
   "metadata": {},
   "outputs": [
    {
     "data": {
      "text/plain": [
       "GradientBoostingClassifier(ccp_alpha=0.0, criterion='friedman_mse', init=None,\n",
       "                           learning_rate=0.1, loss='deviance', max_depth=3,\n",
       "                           max_features=None, max_leaf_nodes=None,\n",
       "                           min_impurity_decrease=0.0, min_impurity_split=None,\n",
       "                           min_samples_leaf=1, min_samples_split=2,\n",
       "                           min_weight_fraction_leaf=0.0, n_estimators=100,\n",
       "                           n_iter_no_change=None, presort='deprecated',\n",
       "                           random_state=10, subsample=1.0, tol=0.0001,\n",
       "                           validation_fraction=0.1, verbose=0,\n",
       "                           warm_start=False)"
      ]
     },
     "execution_count": 126,
     "metadata": {},
     "output_type": "execute_result"
    }
   ],
   "source": [
    "from sklearn.ensemble import GradientBoostingClassifier\n",
    "gbc = make_pipeline(\n",
    "      TfidfVectorizer(),\n",
    "      GradientBoostingClassifier(random_state=10)\n",
    "    )\n",
    "gbc=gbc.fit(Xtrain,Ytrain)\n",
    "cross_val_score(gbc, Xtrain, Ytrain, cv=5, scoring='accuracy').mean()\n",
    "gbc[1]"
   ]
  },
  {
   "cell_type": "code",
   "execution_count": 120,
   "metadata": {},
   "outputs": [
    {
     "name": "stdout",
     "output_type": "stream",
     "text": [
      "The optimal threshold is 0.52\n",
      "Accuracy : 0.7229\n",
      "AUC Score (Train): 0.801467\n"
     ]
    }
   ],
   "source": [
    "Yguess_gbc = gbc.predict(Xtest)\n",
    "Yguess_gbc_n=Yguess_gbc.astype(int)\n",
    "Ypredprob_gbc = gbc.predict_proba(Xtest)[:,1]\n",
    "Ytest_n=Ytest.astype(int)\n",
    "fpr_gbc, tpr_gbc, threshold_gbc = roc_curve(Ytest_n, Ypredprob_gbc)\n",
    "roc_auc_gbc = auc(fpr_gbc, tpr_gbc)\n",
    "optimal_idx_gbc = np.argmax(tpr_gbc - fpr_gbc)\n",
    "optimal_threshold_gbc = threshold_gbc[optimal_idx_gbc]\n",
    "print('The optimal threshold is %0.2f' %optimal_threshold_gbc)\n",
    "print (\"Accuracy : %.4f\" % accuracy_score(Ytest, Yguess_gbc))\n",
    "print (\"AUC Score (Train): %f\" % roc_auc_score(Ytest, Ypredprob_gbc))"
   ]
  },
  {
   "cell_type": "code",
   "execution_count": 122,
   "metadata": {},
   "outputs": [
    {
     "data": {
      "text/plain": [
       "0.7512234910277326"
      ]
     },
     "execution_count": 122,
     "metadata": {},
     "output_type": "execute_result"
    }
   ],
   "source": [
    "f1_score(Ytest_n, Yguess_gbc_n)"
   ]
  },
  {
   "cell_type": "code",
   "execution_count": 68,
   "metadata": {},
   "outputs": [
    {
     "data": {
      "image/png": "[encoded data removed]",
      "text/plain": [
       "<Figure size 576x576 with 1 Axes>"
      ]
     },
     "metadata": {
      "needs_background": "light"
     },
     "output_type": "display_data"
    }
   ],
   "source": [
    "fig=plt.figure()\n",
    "fig.set_size_inches(8, 8)\n",
    "plt.title('Receiver Operating Characteristic')\n",
    "plt.plot(fpr_gbc, tpr_gbc, label = 'GradientBoostingClassifier AUC = %0.2f' % roc_auc_gbc)\n",
    "plt.plot(fpr_lcp, tpr_lcp, label = 'Perceptron AUC = %0.2f' % roc_auc_lcp)\n",
    "plt.plot(fpr_lclr, tpr_lclr, label = 'LogisticRegression AUC = %0.2f' % roc_auc_lclr)\n",
    "plt.plot(fpr_slSVC, tpr_slSVC, label = 'LinearSVC AUC = %0.2f' % roc_auc_slSVC)\n",
    "plt.plot(fpr_dfc, tpr_dfc, label = 'RandomForestClassifier AUC = %0.2f' % roc_auc_dfc)\n",
    "plt.legend(loc = 'lower right')\n",
    "plt.plot([0, 1], [0, 1],'r--')\n",
    "plt.xlim([0, 1])\n",
    "plt.ylim([0, 1])\n",
    "plt.ylabel('Sensitivity')\n",
    "plt.xlabel('1-Specificity')\n",
    "plt.show()"
   ]
  },
  {
   "cell_type": "code",
   "execution_count": 99,
   "metadata": {},
   "outputs": [
    {
     "data": {
      "image/png": "[encoded data removed]",
      "text/plain": [
       "<Figure size 432x288 with 1 Axes>"
      ]
     },
     "metadata": {
      "needs_background": "light"
     },
     "output_type": "display_data"
    },
    {
     "name": "stdout",
     "output_type": "stream",
     "text": [
      "the most important feature is brexit eu\n"
     ]
    }
   ],
   "source": [
    "pipeline = make_pipeline(\n",
    "      TfidfVectorizer(),\n",
    "      GradientBoostingClassifier(random_state=10)\n",
    "    )\n",
    "\n",
    "pip=pipeline.fit(Xtrain,Ytrain)\n",
    "\n",
    "#print(pip[0].get_feature_names())\n",
    "\n",
    "names= [name for name in pip[0].get_feature_names()]\n",
    "\n",
    "importances= [importance for importance in pip[1].feature_importances_]\n",
    "\n",
    "indices = np.argsort(importances)[::-1]\n",
    "matrix=[importances[i] for i in indices]\n",
    "name_matrix=[names[i] for i in indices]\n",
    "plt.title('Feature Importances')\n",
    "plt.bar(range(len(indices)), matrix,color=\"r\", align=\"center\")\n",
    "plt.ylim([0,0.003])\n",
    "plt.ylabel('Relative Importance')\n",
    "plt.show()\n",
    "\n",
    "print(\"the most important feature is \" + name_matrix[0] + \" \" + name_matrix[1] )\n",
    "#pip[1].feature_importances_"
   ]
  },
  {
   "cell_type": "markdown",
   "metadata": {},
   "source": [
    "# Evaluate the Models using confusion matrix\n"
   ]
  },
  {
   "cell_type": "code",
   "execution_count": 227,
   "metadata": {},
   "outputs": [
    {
     "data": {
      "image/png": "[encoded data removed]",
      "text/plain": [
       "<Figure size 720x720 with 3 Axes>"
      ]
     },
     "metadata": {
      "needs_background": "light"
     },
     "output_type": "display_data"
    }
   ],
   "source": [
    "dtc_cm=confusion_matrix(Ytest, Yguess_dtc)\n",
    "dfc_cm = confusion_matrix(Ytest, Yguess_dfc)\n",
    "gbc_cm = confusion_matrix(Ytest, Yguess_gbc)\n",
    "\n",
    "fig= plt.figure()\n",
    "fig.set_size_inches(10, 10)\n",
    "ax1 = fig.add_subplot(221)\n",
    "ax1.title.set_text('DecisionTreeClassifier')\n",
    "ax1.imshow(dtc_cm)\n",
    "ax1.grid(False)\n",
    "ax1.xaxis.set(ticks=(0, 1), ticklabels=('Predicted 0s', 'Predicted 1s'))\n",
    "ax1.yaxis.set(ticks=(0, 1), ticklabels=('Actual 0s', 'Actual 1s'))\n",
    "ax1.set_ylim(1.5, -0.5)\n",
    "for i in range(2):\n",
    "    for j in range(2):\n",
    "        ax1.text(j, i, dtc_cm[i, j], ha='center', va='center', color='red')\n",
    "ax2 = fig.add_subplot(222)\n",
    "ax2.title.set_text('RandomForestClassifier')\n",
    "ax2.imshow(dfc_cm)\n",
    "ax2.grid(False)\n",
    "ax2.xaxis.set(ticks=(0, 1), ticklabels=('Predicted 0s', 'Predicted 1s'))\n",
    "ax2.yaxis.set(ticks=(0, 1), ticklabels=('Actual 0s', 'Actual 1s'))\n",
    "ax2.set_ylim(1.5, -0.5)\n",
    "for i in range(2):\n",
    "    for j in range(2):\n",
    "        ax2.text(j, i, dfc_cm[i, j], ha='center', va='center', color='red')\n",
    "ax3 = fig.add_subplot(223)\n",
    "ax3.title.set_text('GradientBoostingClassifier')\n",
    "ax3.imshow(gbc_cm)\n",
    "ax3.grid(False)\n",
    "ax3.xaxis.set(ticks=(0, 1), ticklabels=('Predicted 0s', 'Predicted 1s'))\n",
    "ax3.yaxis.set(ticks=(0, 1), ticklabels=('Actual 0s', 'Actual 1s'))\n",
    "ax3.set_ylim(1.5, -0.5)\n",
    "for i in range(2):\n",
    "    for j in range(2):\n",
    "        ax3.text(j, i, gbc_cm[i, j], ha='center', va='center', color='red')        \n",
    "plt.show()"
   ]
  },
  {
   "cell_type": "markdown",
   "metadata": {},
   "source": [
    "# Exhaustive search over specified parameter values for an estimator\n",
    "GradientBoostingClassifier and RandomForestClassifier"
   ]
  },
  {
   "cell_type": "markdown",
   "metadata": {},
   "source": [
    "# GradientBoostingClassifier "
   ]
  },
  {
   "cell_type": "markdown",
   "metadata": {},
   "source": [
    "# n_estimater and learning_rate search"
   ]
  },
  {
   "cell_type": "code",
   "execution_count": 163,
   "metadata": {},
   "outputs": [],
   "source": [
    "from sklearn.model_selection import GridSearchCV\n",
    "param_test1 = {'n_estimators':range(270,300,5)}\n",
    "gsearch1 = GridSearchCV(estimator = GradientBoostingClassifier(learning_rate=0.2, min_samples_split=300,\n",
    "                                  min_samples_leaf=20,max_depth=8,max_features='sqrt', subsample=0.8,random_state=10), \n",
    "                       param_grid = param_test1, scoring='roc_auc',iid=False,cv=5)"
   ]
  },
  {
   "cell_type": "code",
   "execution_count": 164,
   "metadata": {},
   "outputs": [
    {
     "name": "stderr",
     "output_type": "stream",
     "text": [
      "C:\\Users\\bishe\\Anaconda3\\lib\\site-packages\\sklearn\\model_selection\\_search.py:823: FutureWarning: The parameter 'iid' is deprecated in 0.22 and will be removed in 0.24.\n",
      "  \"removed in 0.24.\", FutureWarning\n"
     ]
    },
    {
     "data": {
      "text/plain": [
       "GridSearchCV(cv=5, error_score=nan,\n",
       "             estimator=GradientBoostingClassifier(ccp_alpha=0.0,\n",
       "                                                  criterion='friedman_mse',\n",
       "                                                  init=None, learning_rate=0.2,\n",
       "                                                  loss='deviance', max_depth=8,\n",
       "                                                  max_features='sqrt',\n",
       "                                                  max_leaf_nodes=None,\n",
       "                                                  min_impurity_decrease=0.0,\n",
       "                                                  min_impurity_split=None,\n",
       "                                                  min_samples_leaf=20,\n",
       "                                                  min_samples_split=300,\n",
       "                                                  min_weight_fraction_leaf=0.0,\n",
       "                                                  n_estimators=100,\n",
       "                                                  n_iter_no_change=None,\n",
       "                                                  presort='deprecated',\n",
       "                                                  random_state=10,\n",
       "                                                  subsample=0.8, tol=0.0001,\n",
       "                                                  validation_fraction=0.1,\n",
       "                                                  verbose=0, warm_start=False),\n",
       "             iid=False, n_jobs=None,\n",
       "             param_grid={'n_estimators': range(270, 300, 5)},\n",
       "             pre_dispatch='2*n_jobs', refit=True, return_train_score=False,\n",
       "             scoring='roc_auc', verbose=0)"
      ]
     },
     "execution_count": 164,
     "metadata": {},
     "output_type": "execute_result"
    }
   ],
   "source": [
    "gsearch1.fit(Xtrain1,Ytrain1)"
   ]
  },
  {
   "cell_type": "code",
   "execution_count": 166,
   "metadata": {},
   "outputs": [
    {
     "name": "stdout",
     "output_type": "stream",
     "text": [
      "0.8361736223596165 0.008333860443370304 {'n_estimators': 270}\n",
      "0.8365465922319769 0.00817701081322274 {'n_estimators': 275}\n",
      "0.8368022023293534 0.008786875429722186 {'n_estimators': 280}\n",
      "0.8365800311842756 0.008546681940070796 {'n_estimators': 285}\n",
      "0.8365107184129261 0.008477442808513083 {'n_estimators': 290}\n",
      "0.8362787094777063 0.008312671214524689 {'n_estimators': 295}\n"
     ]
    },
    {
     "data": {
      "text/plain": [
       "({'n_estimators': 280}, 0.8368022023293534)"
      ]
     },
     "execution_count": 166,
     "metadata": {},
     "output_type": "execute_result"
    }
   ],
   "source": [
    "N=[]\n",
    "M=[]\n",
    "i=[]\n",
    "c=20\n",
    "#for n, m,v  in zip(gsearch1.cv_results_['mean_test_score'], gsearch1.cv_results_['std_test_score'], gsearch1.cv_results_['params']):\n",
    " #   N.append(n)\n",
    "    #M.append(M)\n",
    "    #i.append(c)\n",
    "    #c+=20    \n",
    "   # print(n,m,v)\n",
    "#gsearch1.best_params_, gsearch1.best_score_\n",
    "\n",
    "for n, m,v  in zip(gsearch1.cv_results_['mean_test_score'], gsearch1.cv_results_['std_test_score'], gsearch1.cv_results_['params']):\n",
    "    print(n,m,v)\n",
    "    \n",
    "gsearch1.best_params_, gsearch1.best_score_"
   ]
  },
  {
   "cell_type": "markdown",
   "metadata": {},
   "source": [
    "# max_depth and min_samples_split"
   ]
  },
  {
   "cell_type": "code",
   "execution_count": 157,
   "metadata": {},
   "outputs": [],
   "source": [
    "param_test2 = {'max_depth':range(3,14,2), 'min_samples_split':range(100,801,200)}\n",
    "gsearch2 = GridSearchCV(estimator = GradientBoostingClassifier(learning_rate=0.2, n_estimators=280, min_samples_leaf=20, \n",
    "      max_features='sqrt', subsample=0.8, random_state=10), \n",
    "   param_grid = param_test2, scoring='roc_auc',iid=False, cv=5)"
   ]
  },
  {
   "cell_type": "code",
   "execution_count": 158,
   "metadata": {},
   "outputs": [
    {
     "name": "stderr",
     "output_type": "stream",
     "text": [
      "C:\\Users\\bishe\\Anaconda3\\lib\\site-packages\\sklearn\\model_selection\\_search.py:823: FutureWarning: The parameter 'iid' is deprecated in 0.22 and will be removed in 0.24.\n",
      "  \"removed in 0.24.\", FutureWarning\n"
     ]
    },
    {
     "data": {
      "text/plain": [
       "GridSearchCV(cv=5, error_score=nan,\n",
       "             estimator=GradientBoostingClassifier(ccp_alpha=0.0,\n",
       "                                                  criterion='friedman_mse',\n",
       "                                                  init=None, learning_rate=0.2,\n",
       "                                                  loss='deviance', max_depth=3,\n",
       "                                                  max_features='sqrt',\n",
       "                                                  max_leaf_nodes=None,\n",
       "                                                  min_impurity_decrease=0.0,\n",
       "                                                  min_impurity_split=None,\n",
       "                                                  min_samples_leaf=20,\n",
       "                                                  min_samples_split=2,\n",
       "                                                  min_weight_fraction_leaf=0.0,\n",
       "                                                  n_estimators=280,\n",
       "                                                  n_iter_no_change=None,\n",
       "                                                  presort='deprecated',\n",
       "                                                  random_state=10,\n",
       "                                                  subsample=0.8, tol=0.0001,\n",
       "                                                  validation_fraction=0.1,\n",
       "                                                  verbose=0, warm_start=False),\n",
       "             iid=False, n_jobs=None,\n",
       "             param_grid={'max_depth': range(3, 14, 2),\n",
       "                         'min_samples_split': range(100, 801, 200)},\n",
       "             pre_dispatch='2*n_jobs', refit=True, return_train_score=False,\n",
       "             scoring='roc_auc', verbose=0)"
      ]
     },
     "execution_count": 158,
     "metadata": {},
     "output_type": "execute_result"
    }
   ],
   "source": [
    "gsearch2.fit(Xtrain1,Ytrain1)"
   ]
  },
  {
   "cell_type": "code",
   "execution_count": 167,
   "metadata": {},
   "outputs": [
    {
     "name": "stdout",
     "output_type": "stream",
     "text": [
      "0.8298178203900441 0.012882322443907971 {'max_depth': 3, 'min_samples_split': 100}\n",
      "0.8299957429760534 0.012964756438274787 {'max_depth': 3, 'min_samples_split': 300}\n",
      "0.8295867884773636 0.01255053748924744 {'max_depth': 3, 'min_samples_split': 500}\n",
      "0.8293533761619937 0.013038193856472046 {'max_depth': 3, 'min_samples_split': 700}\n",
      "0.8352553592102095 0.011336817164773822 {'max_depth': 5, 'min_samples_split': 100}\n",
      "0.8362334041202762 0.010536505019159917 {'max_depth': 5, 'min_samples_split': 300}\n",
      "0.8357961576225827 0.01109195425453496 {'max_depth': 5, 'min_samples_split': 500}\n",
      "0.8362108715883865 0.012060580789129083 {'max_depth': 5, 'min_samples_split': 700}\n",
      "0.8355111715819685 0.010353013344742663 {'max_depth': 7, 'min_samples_split': 100}\n",
      "0.836928007320666 0.009835610407832332 {'max_depth': 7, 'min_samples_split': 300}\n",
      "0.836162145230319 0.010530293970798956 {'max_depth': 7, 'min_samples_split': 500}\n",
      "0.8359130147750543 0.0107207731470157 {'max_depth': 7, 'min_samples_split': 700}\n",
      "0.8352629124579632 0.010776280566220906 {'max_depth': 9, 'min_samples_split': 100}\n",
      "0.8349696485762126 0.01085901142189902 {'max_depth': 9, 'min_samples_split': 300}\n",
      "0.8356276348120198 0.010130560594954522 {'max_depth': 9, 'min_samples_split': 500}\n",
      "0.8359172392292585 0.011490905830142574 {'max_depth': 9, 'min_samples_split': 700}\n",
      "0.8359989182081055 0.008865702181415325 {'max_depth': 11, 'min_samples_split': 100}\n",
      "0.8362142908434889 0.010699822578164842 {'max_depth': 11, 'min_samples_split': 300}\n",
      "0.8370139525276201 0.010180716451877776 {'max_depth': 11, 'min_samples_split': 500}\n",
      "0.835340954125613 0.009680234230251893 {'max_depth': 11, 'min_samples_split': 700}\n",
      "0.8324396075238696 0.010518929265522505 {'max_depth': 13, 'min_samples_split': 100}\n",
      "0.8340570245732748 0.011015392987223985 {'max_depth': 13, 'min_samples_split': 300}\n",
      "0.8348088169817345 0.00972510926104185 {'max_depth': 13, 'min_samples_split': 500}\n",
      "0.8332392072942199 0.01077401086773539 {'max_depth': 13, 'min_samples_split': 700}\n"
     ]
    },
    {
     "data": {
      "text/plain": [
       "({'max_depth': 11, 'min_samples_split': 500}, 0.8370139525276201)"
      ]
     },
     "execution_count": 167,
     "metadata": {},
     "output_type": "execute_result"
    }
   ],
   "source": [
    "for n, m, v  in zip(gsearch2.cv_results_['mean_test_score'], gsearch2.cv_results_['std_test_score'], gsearch2.cv_results_['params']):\n",
    "    print(n,m,v)\n",
    "gsearch2.best_params_, gsearch2.best_score_"
   ]
  },
  {
   "cell_type": "code",
   "execution_count": 168,
   "metadata": {},
   "outputs": [],
   "source": [
    "param_test2 = {'max_depth':range(14,25,2), 'min_samples_split':range(100,801,200)}\n",
    "gsearch2 = GridSearchCV(estimator = GradientBoostingClassifier(learning_rate=0.2, n_estimators=280, min_samples_leaf=20, \n",
    "      max_features='sqrt', subsample=0.8, random_state=10), \n",
    "   param_grid = param_test2, scoring='roc_auc',iid=False, cv=5)"
   ]
  },
  {
   "cell_type": "code",
   "execution_count": 169,
   "metadata": {},
   "outputs": [
    {
     "name": "stderr",
     "output_type": "stream",
     "text": [
      "C:\\Users\\bishe\\Anaconda3\\lib\\site-packages\\sklearn\\model_selection\\_search.py:823: FutureWarning: The parameter 'iid' is deprecated in 0.22 and will be removed in 0.24.\n",
      "  \"removed in 0.24.\", FutureWarning\n"
     ]
    },
    {
     "data": {
      "text/plain": [
       "GridSearchCV(cv=5, error_score=nan,\n",
       "             estimator=GradientBoostingClassifier(ccp_alpha=0.0,\n",
       "                                                  criterion='friedman_mse',\n",
       "                                                  init=None, learning_rate=0.2,\n",
       "                                                  loss='deviance', max_depth=3,\n",
       "                                                  max_features='sqrt',\n",
       "                                                  max_leaf_nodes=None,\n",
       "                                                  min_impurity_decrease=0.0,\n",
       "                                                  min_impurity_split=None,\n",
       "                                                  min_samples_leaf=20,\n",
       "                                                  min_samples_split=2,\n",
       "                                                  min_weight_fraction_leaf=0.0,\n",
       "                                                  n_estimators=280,\n",
       "                                                  n_iter_no_change=None,\n",
       "                                                  presort='deprecated',\n",
       "                                                  random_state=10,\n",
       "                                                  subsample=0.8, tol=0.0001,\n",
       "                                                  validation_fraction=0.1,\n",
       "                                                  verbose=0, warm_start=False),\n",
       "             iid=False, n_jobs=None,\n",
       "             param_grid={'max_depth': range(14, 25, 2),\n",
       "                         'min_samples_split': range(100, 801, 200)},\n",
       "             pre_dispatch='2*n_jobs', refit=True, return_train_score=False,\n",
       "             scoring='roc_auc', verbose=0)"
      ]
     },
     "execution_count": 169,
     "metadata": {},
     "output_type": "execute_result"
    }
   ],
   "source": [
    "gsearch2.fit(Xtrain1,Ytrain1)"
   ]
  },
  {
   "cell_type": "code",
   "execution_count": 170,
   "metadata": {},
   "outputs": [
    {
     "name": "stdout",
     "output_type": "stream",
     "text": [
      "0.8329417094282171 0.01025304242949655 {'max_depth': 14, 'min_samples_split': 100}\n",
      "0.8328678661151526 0.010998657482634261 {'max_depth': 14, 'min_samples_split': 300}\n",
      "0.8327011082482034 0.010534673301630972 {'max_depth': 14, 'min_samples_split': 500}\n",
      "0.8341431516024592 0.010547766169775732 {'max_depth': 14, 'min_samples_split': 700}\n",
      "0.833563330399457 0.010517713634961548 {'max_depth': 16, 'min_samples_split': 100}\n",
      "0.8329096366183212 0.009767742300450796 {'max_depth': 16, 'min_samples_split': 300}\n",
      "0.8317070513011183 0.010572784196555007 {'max_depth': 16, 'min_samples_split': 500}\n",
      "0.8321613539945766 0.010465025280305252 {'max_depth': 16, 'min_samples_split': 700}\n",
      "0.8311846784298961 0.009377387574345765 {'max_depth': 18, 'min_samples_split': 100}\n",
      "0.8325746724483162 0.008609103359964248 {'max_depth': 18, 'min_samples_split': 300}\n",
      "0.833741739502482 0.00916956526965414 {'max_depth': 18, 'min_samples_split': 500}\n",
      "0.8338885157778704 0.011003579707231387 {'max_depth': 18, 'min_samples_split': 700}\n",
      "0.8324323945410157 0.009984762106373522 {'max_depth': 20, 'min_samples_split': 100}\n",
      "0.8318916170742291 0.007675756171634228 {'max_depth': 20, 'min_samples_split': 300}\n",
      "0.8320783933416097 0.009938129216716217 {'max_depth': 20, 'min_samples_split': 500}\n",
      "0.8307448395914656 0.009426302026594764 {'max_depth': 20, 'min_samples_split': 700}\n",
      "0.832749858107438 0.009636874787863502 {'max_depth': 22, 'min_samples_split': 100}\n",
      "0.8310710304017352 0.009639923812753538 {'max_depth': 22, 'min_samples_split': 300}\n",
      "0.8299203300483169 0.009395277980918609 {'max_depth': 22, 'min_samples_split': 500}\n",
      "0.8303519175362399 0.0089319798963897 {'max_depth': 22, 'min_samples_split': 700}\n",
      "0.8307872930855982 0.00950767730885235 {'max_depth': 24, 'min_samples_split': 100}\n",
      "0.8288708965614114 0.009878279063900673 {'max_depth': 24, 'min_samples_split': 300}\n",
      "0.8298421441341481 0.010537646513223583 {'max_depth': 24, 'min_samples_split': 500}\n",
      "0.8288980084758008 0.010121223785407857 {'max_depth': 24, 'min_samples_split': 700}\n"
     ]
    },
    {
     "data": {
      "text/plain": [
       "({'max_depth': 14, 'min_samples_split': 700}, 0.8341431516024592)"
      ]
     },
     "execution_count": 170,
     "metadata": {},
     "output_type": "execute_result"
    }
   ],
   "source": [
    "for n, m, v  in zip(gsearch2.cv_results_['mean_test_score'], gsearch2.cv_results_['std_test_score'], gsearch2.cv_results_['params']):\n",
    "    print(n,m,v)\n",
    "gsearch2.best_params_, gsearch2.best_score_"
   ]
  },
  {
   "cell_type": "code",
   "execution_count": 173,
   "metadata": {},
   "outputs": [],
   "source": [
    "param_test2 = {'max_depth':range(11,101,20), 'min_samples_split':range(400,1000,200)}\n",
    "gsearch2 = GridSearchCV(estimator = GradientBoostingClassifier(learning_rate=0.2, n_estimators=280, min_samples_leaf=20, \n",
    "      max_features='sqrt', subsample=0.8, random_state=10), \n",
    "   param_grid = param_test2, scoring='roc_auc',iid=False, cv=5)"
   ]
  },
  {
   "cell_type": "code",
   "execution_count": 174,
   "metadata": {},
   "outputs": [
    {
     "name": "stderr",
     "output_type": "stream",
     "text": [
      "C:\\Users\\bishe\\Anaconda3\\lib\\site-packages\\sklearn\\model_selection\\_search.py:823: FutureWarning: The parameter 'iid' is deprecated in 0.22 and will be removed in 0.24.\n",
      "  \"removed in 0.24.\", FutureWarning\n"
     ]
    },
    {
     "data": {
      "text/plain": [
       "GridSearchCV(cv=5, error_score=nan,\n",
       "             estimator=GradientBoostingClassifier(ccp_alpha=0.0,\n",
       "                                                  criterion='friedman_mse',\n",
       "                                                  init=None, learning_rate=0.2,\n",
       "                                                  loss='deviance', max_depth=3,\n",
       "                                                  max_features='sqrt',\n",
       "                                                  max_leaf_nodes=None,\n",
       "                                                  min_impurity_decrease=0.0,\n",
       "                                                  min_impurity_split=None,\n",
       "                                                  min_samples_leaf=20,\n",
       "                                                  min_samples_split=2,\n",
       "                                                  min_weight_fraction_leaf=0.0,\n",
       "                                                  n_estimators=280,\n",
       "                                                  n_iter_no_change=None,\n",
       "                                                  presort='deprecated',\n",
       "                                                  random_state=10,\n",
       "                                                  subsample=0.8, tol=0.0001,\n",
       "                                                  validation_fraction=0.1,\n",
       "                                                  verbose=0, warm_start=False),\n",
       "             iid=False, n_jobs=None,\n",
       "             param_grid={'max_depth': range(11, 101, 20),\n",
       "                         'min_samples_split': range(400, 1000, 200)},\n",
       "             pre_dispatch='2*n_jobs', refit=True, return_train_score=False,\n",
       "             scoring='roc_auc', verbose=0)"
      ]
     },
     "execution_count": 174,
     "metadata": {},
     "output_type": "execute_result"
    }
   ],
   "source": [
    "gsearch2.fit(Xtrain1,Ytrain1)"
   ]
  },
  {
   "cell_type": "code",
   "execution_count": 175,
   "metadata": {},
   "outputs": [
    {
     "name": "stdout",
     "output_type": "stream",
     "text": [
      "0.8357211607872632 0.008693794573073732 {'max_depth': 11, 'min_samples_split': 400}\n",
      "0.8363423430592054 0.010659349164060491 {'max_depth': 11, 'min_samples_split': 600}\n",
      "0.8347008751948799 0.009766959144593843 {'max_depth': 11, 'min_samples_split': 800}\n",
      "0.8277421711793908 0.01042133534189667 {'max_depth': 31, 'min_samples_split': 400}\n",
      "0.8278314336102198 0.010453991773522202 {'max_depth': 31, 'min_samples_split': 600}\n",
      "0.8269388313019436 0.009692846118510672 {'max_depth': 31, 'min_samples_split': 800}\n",
      "0.8250285928754316 0.00860520112879452 {'max_depth': 51, 'min_samples_split': 400}\n",
      "0.8234664218477338 0.009316493062686539 {'max_depth': 51, 'min_samples_split': 600}\n",
      "0.8246798097251764 0.009364535373539234 {'max_depth': 51, 'min_samples_split': 800}\n",
      "0.8255130254064449 0.007183844096235977 {'max_depth': 71, 'min_samples_split': 400}\n",
      "0.8264332390084375 0.007616435877475918 {'max_depth': 71, 'min_samples_split': 600}\n",
      "0.8223756499356348 0.008138934666489671 {'max_depth': 71, 'min_samples_split': 800}\n",
      "0.8245994163218808 0.008618817712604924 {'max_depth': 91, 'min_samples_split': 400}\n",
      "0.8246609830324145 0.009444364010205203 {'max_depth': 91, 'min_samples_split': 600}\n",
      "0.8263247686282315 0.007187519205785682 {'max_depth': 91, 'min_samples_split': 800}\n"
     ]
    },
    {
     "data": {
      "text/plain": [
       "({'max_depth': 11, 'min_samples_split': 600}, 0.8363423430592054)"
      ]
     },
     "execution_count": 175,
     "metadata": {},
     "output_type": "execute_result"
    }
   ],
   "source": [
    "for n, m, v  in zip(gsearch2.cv_results_['mean_test_score'], gsearch2.cv_results_['std_test_score'], gsearch2.cv_results_['params']):\n",
    "    print(n,m,v)\n",
    "gsearch2.best_params_, gsearch2.best_score_"
   ]
  },
  {
   "cell_type": "code",
   "execution_count": 179,
   "metadata": {},
   "outputs": [],
   "source": [
    "param_test2 = {'max_depth':range(10,14,1), 'min_samples_split':range(400,800,100)}\n",
    "gsearch2 = GridSearchCV(estimator = GradientBoostingClassifier(learning_rate=0.2, n_estimators=280, min_samples_leaf=20, \n",
    "      max_features='sqrt', subsample=0.8, random_state=10), \n",
    "   param_grid = param_test2, scoring='roc_auc',iid=False, cv=5)"
   ]
  },
  {
   "cell_type": "code",
   "execution_count": 181,
   "metadata": {},
   "outputs": [
    {
     "name": "stderr",
     "output_type": "stream",
     "text": [
      "C:\\Users\\bishe\\Anaconda3\\lib\\site-packages\\sklearn\\model_selection\\_search.py:823: FutureWarning: The parameter 'iid' is deprecated in 0.22 and will be removed in 0.24.\n",
      "  \"removed in 0.24.\", FutureWarning\n"
     ]
    },
    {
     "data": {
      "text/plain": [
       "GridSearchCV(cv=5, error_score=nan,\n",
       "             estimator=GradientBoostingClassifier(ccp_alpha=0.0,\n",
       "                                                  criterion='friedman_mse',\n",
       "                                                  init=None, learning_rate=0.2,\n",
       "                                                  loss='deviance', max_depth=3,\n",
       "                                                  max_features='sqrt',\n",
       "                                                  max_leaf_nodes=None,\n",
       "                                                  min_impurity_decrease=0.0,\n",
       "                                                  min_impurity_split=None,\n",
       "                                                  min_samples_leaf=20,\n",
       "                                                  min_samples_split=2,\n",
       "                                                  min_weight_fraction_leaf=0.0,\n",
       "                                                  n_estimators=280,\n",
       "                                                  n_iter_no_change=None,\n",
       "                                                  presort='deprecated',\n",
       "                                                  random_state=10,\n",
       "                                                  subsample=0.8, tol=0.0001,\n",
       "                                                  validation_fraction=0.1,\n",
       "                                                  verbose=0, warm_start=False),\n",
       "             iid=False, n_jobs=None,\n",
       "             param_grid={'max_depth': range(10, 14),\n",
       "                         'min_samples_split': range(400, 800, 100)},\n",
       "             pre_dispatch='2*n_jobs', refit=True, return_train_score=False,\n",
       "             scoring='roc_auc', verbose=0)"
      ]
     },
     "execution_count": 181,
     "metadata": {},
     "output_type": "execute_result"
    }
   ],
   "source": [
    "gsearch2.fit(Xtrain1,Ytrain1)"
   ]
  },
  {
   "cell_type": "code",
   "execution_count": 182,
   "metadata": {},
   "outputs": [
    {
     "name": "stdout",
     "output_type": "stream",
     "text": [
      "0.8361798123743593 0.008721760743405327 {'max_depth': 10, 'min_samples_split': 400}\n",
      "0.8334824118673568 0.010433864180031364 {'max_depth': 10, 'min_samples_split': 500}\n",
      "0.8352967479269637 0.010135133515818363 {'max_depth': 10, 'min_samples_split': 600}\n",
      "0.8352088641675557 0.010953753693713132 {'max_depth': 10, 'min_samples_split': 700}\n",
      "0.8357211607872632 0.008693794573073732 {'max_depth': 11, 'min_samples_split': 400}\n",
      "0.8370139525276201 0.010180716451877776 {'max_depth': 11, 'min_samples_split': 500}\n",
      "0.8363423430592054 0.010659349164060491 {'max_depth': 11, 'min_samples_split': 600}\n",
      "0.835340954125613 0.009680234230251893 {'max_depth': 11, 'min_samples_split': 700}\n",
      "0.833419269197238 0.012195237839148759 {'max_depth': 12, 'min_samples_split': 400}\n",
      "0.8350047080994948 0.010825752504304656 {'max_depth': 12, 'min_samples_split': 500}\n",
      "0.834805671935775 0.009845194000153672 {'max_depth': 12, 'min_samples_split': 600}\n",
      "0.8347695836579601 0.01010771633808595 {'max_depth': 12, 'min_samples_split': 700}\n",
      "0.83537776818519 0.01078761608412659 {'max_depth': 13, 'min_samples_split': 400}\n",
      "0.8348088169817345 0.00972510926104185 {'max_depth': 13, 'min_samples_split': 500}\n",
      "0.8335130328713497 0.010231926979030232 {'max_depth': 13, 'min_samples_split': 600}\n",
      "0.8332392072942199 0.01077401086773539 {'max_depth': 13, 'min_samples_split': 700}\n"
     ]
    },
    {
     "data": {
      "text/plain": [
       "({'max_depth': 11, 'min_samples_split': 500}, 0.8370139525276201)"
      ]
     },
     "execution_count": 182,
     "metadata": {},
     "output_type": "execute_result"
    }
   ],
   "source": [
    "for n, m, v  in zip(gsearch2.cv_results_['mean_test_score'], gsearch2.cv_results_['std_test_score'], gsearch2.cv_results_['params']):\n",
    "    print(n,m,v)\n",
    "gsearch2.best_params_, gsearch2.best_score_"
   ]
  },
  {
   "cell_type": "code",
   "execution_count": 188,
   "metadata": {},
   "outputs": [
    {
     "name": "stdout",
     "output_type": "stream",
     "text": [
      "The optimal threshold is 0.49\n",
      "Accuracy : 0.7669\n",
      "AUC Score (Train): 0.842174\n"
     ]
    }
   ],
   "source": [
    "gbc_test=GradientBoostingClassifier(learning_rate=0.2, n_estimators=280, min_samples_leaf=20, \n",
    "      max_features='sqrt', subsample=0.8, random_state=10,max_depth=11,min_samples_split=500)\n",
    "gbc_test.fit(Xtrain1,Ytrain1)\n",
    "\n",
    "gbc_guess=gbc_test.predict(Xtest1)\n",
    "gbc_guess_n=gbc_guess.astype(int)\n",
    "Ypredprob_gbc_test = gbc_test.predict_proba(Xtest1)[:,1]\n",
    "Ytest1_n=Ytest1.astype(int)\n",
    "fpr_gbc_test, tpr_gbc_test, threshold_gbc_test = roc_curve(Ytest1_n, Ypredprob_gbc_test)\n",
    "roc_auc_gbc_test = auc(fpr_gbc_test, tpr_gbc_test)\n",
    "optimal_idx_gbc_test = np.argmax(tpr_gbc_test - fpr_gbc_test)\n",
    "optimal_threshold_gbc_test = threshold_gbc_test[optimal_idx_gbc_test]\n",
    "print('The optimal threshold is %0.2f' %optimal_threshold_gbc_test)\n",
    "print (\"Accuracy : %.4f\" % accuracy_score(Ytest1, gbc_guess))\n",
    "print (\"AUC Score (Train): %f\" % roc_auc_score(Ytest1, Ypredprob_gbc_test))\n"
   ]
  },
  {
   "cell_type": "markdown",
   "metadata": {},
   "source": [
    "# min_samples_split and min_samples_leaf"
   ]
  },
  {
   "cell_type": "code",
   "execution_count": 211,
   "metadata": {},
   "outputs": [
    {
     "ename": "KeyboardInterrupt",
     "evalue": "",
     "output_type": "error",
     "traceback": [
      "\u001b[1;31m---------------------------------------------------------------------------\u001b[0m",
      "\u001b[1;31mKeyboardInterrupt\u001b[0m                         Traceback (most recent call last)",
      "\u001b[1;32m<ipython-input-211-9f243919e5ad>\u001b[0m in \u001b[0;36m<module>\u001b[1;34m\u001b[0m\n\u001b[0;32m      3\u001b[0m                                      max_features='sqrt', subsample=0.8, random_state=10), \n\u001b[0;32m      4\u001b[0m                        param_grid = param_test3, scoring='roc_auc',iid=False, cv=5)\n\u001b[1;32m----> 5\u001b[1;33m \u001b[0mgsearch3\u001b[0m\u001b[1;33m.\u001b[0m\u001b[0mfit\u001b[0m\u001b[1;33m(\u001b[0m\u001b[0mXtrain1\u001b[0m\u001b[1;33m,\u001b[0m\u001b[0mYtrain1\u001b[0m\u001b[1;33m)\u001b[0m\u001b[1;33m\u001b[0m\u001b[1;33m\u001b[0m\u001b[0m\n\u001b[0m",
      "\u001b[1;32m~\\Anaconda3\\lib\\site-packages\\sklearn\\model_selection\\_search.py\u001b[0m in \u001b[0;36mfit\u001b[1;34m(self, X, y, groups, **fit_params)\u001b[0m\n\u001b[0;32m    708\u001b[0m                 \u001b[1;32mreturn\u001b[0m \u001b[0mresults\u001b[0m\u001b[1;33m\u001b[0m\u001b[1;33m\u001b[0m\u001b[0m\n\u001b[0;32m    709\u001b[0m \u001b[1;33m\u001b[0m\u001b[0m\n\u001b[1;32m--> 710\u001b[1;33m             \u001b[0mself\u001b[0m\u001b[1;33m.\u001b[0m\u001b[0m_run_search\u001b[0m\u001b[1;33m(\u001b[0m\u001b[0mevaluate_candidates\u001b[0m\u001b[1;33m)\u001b[0m\u001b[1;33m\u001b[0m\u001b[1;33m\u001b[0m\u001b[0m\n\u001b[0m\u001b[0;32m    711\u001b[0m \u001b[1;33m\u001b[0m\u001b[0m\n\u001b[0;32m    712\u001b[0m         \u001b[1;31m# For multi-metric evaluation, store the best_index_, best_params_ and\u001b[0m\u001b[1;33m\u001b[0m\u001b[1;33m\u001b[0m\u001b[1;33m\u001b[0m\u001b[0m\n",
      "\u001b[1;32m~\\Anaconda3\\lib\\site-packages\\sklearn\\model_selection\\_search.py\u001b[0m in \u001b[0;36m_run_search\u001b[1;34m(self, evaluate_candidates)\u001b[0m\n\u001b[0;32m   1149\u001b[0m     \u001b[1;32mdef\u001b[0m \u001b[0m_run_search\u001b[0m\u001b[1;33m(\u001b[0m\u001b[0mself\u001b[0m\u001b[1;33m,\u001b[0m \u001b[0mevaluate_candidates\u001b[0m\u001b[1;33m)\u001b[0m\u001b[1;33m:\u001b[0m\u001b[1;33m\u001b[0m\u001b[1;33m\u001b[0m\u001b[0m\n\u001b[0;32m   1150\u001b[0m         \u001b[1;34m\"\"\"Search all candidates in param_grid\"\"\"\u001b[0m\u001b[1;33m\u001b[0m\u001b[1;33m\u001b[0m\u001b[0m\n\u001b[1;32m-> 1151\u001b[1;33m         \u001b[0mevaluate_candidates\u001b[0m\u001b[1;33m(\u001b[0m\u001b[0mParameterGrid\u001b[0m\u001b[1;33m(\u001b[0m\u001b[0mself\u001b[0m\u001b[1;33m.\u001b[0m\u001b[0mparam_grid\u001b[0m\u001b[1;33m)\u001b[0m\u001b[1;33m)\u001b[0m\u001b[1;33m\u001b[0m\u001b[1;33m\u001b[0m\u001b[0m\n\u001b[0m\u001b[0;32m   1152\u001b[0m \u001b[1;33m\u001b[0m\u001b[0m\n\u001b[0;32m   1153\u001b[0m \u001b[1;33m\u001b[0m\u001b[0m\n",
      "\u001b[1;32m~\\Anaconda3\\lib\\site-packages\\sklearn\\model_selection\\_search.py\u001b[0m in \u001b[0;36mevaluate_candidates\u001b[1;34m(candidate_params)\u001b[0m\n\u001b[0;32m    687\u001b[0m                                \u001b[1;32mfor\u001b[0m \u001b[0mparameters\u001b[0m\u001b[1;33m,\u001b[0m \u001b[1;33m(\u001b[0m\u001b[0mtrain\u001b[0m\u001b[1;33m,\u001b[0m \u001b[0mtest\u001b[0m\u001b[1;33m)\u001b[0m\u001b[1;33m\u001b[0m\u001b[1;33m\u001b[0m\u001b[0m\n\u001b[0;32m    688\u001b[0m                                in product(candidate_params,\n\u001b[1;32m--> 689\u001b[1;33m                                           cv.split(X, y, groups)))\n\u001b[0m\u001b[0;32m    690\u001b[0m \u001b[1;33m\u001b[0m\u001b[0m\n\u001b[0;32m    691\u001b[0m                 \u001b[1;32mif\u001b[0m \u001b[0mlen\u001b[0m\u001b[1;33m(\u001b[0m\u001b[0mout\u001b[0m\u001b[1;33m)\u001b[0m \u001b[1;33m<\u001b[0m \u001b[1;36m1\u001b[0m\u001b[1;33m:\u001b[0m\u001b[1;33m\u001b[0m\u001b[1;33m\u001b[0m\u001b[0m\n",
      "\u001b[1;32m~\\Anaconda3\\lib\\site-packages\\joblib\\parallel.py\u001b[0m in \u001b[0;36m__call__\u001b[1;34m(self, iterable)\u001b[0m\n\u001b[0;32m   1005\u001b[0m                 \u001b[0mself\u001b[0m\u001b[1;33m.\u001b[0m\u001b[0m_iterating\u001b[0m \u001b[1;33m=\u001b[0m \u001b[0mself\u001b[0m\u001b[1;33m.\u001b[0m\u001b[0m_original_iterator\u001b[0m \u001b[1;32mis\u001b[0m \u001b[1;32mnot\u001b[0m \u001b[1;32mNone\u001b[0m\u001b[1;33m\u001b[0m\u001b[1;33m\u001b[0m\u001b[0m\n\u001b[0;32m   1006\u001b[0m \u001b[1;33m\u001b[0m\u001b[0m\n\u001b[1;32m-> 1007\u001b[1;33m             \u001b[1;32mwhile\u001b[0m \u001b[0mself\u001b[0m\u001b[1;33m.\u001b[0m\u001b[0mdispatch_one_batch\u001b[0m\u001b[1;33m(\u001b[0m\u001b[0miterator\u001b[0m\u001b[1;33m)\u001b[0m\u001b[1;33m:\u001b[0m\u001b[1;33m\u001b[0m\u001b[1;33m\u001b[0m\u001b[0m\n\u001b[0m\u001b[0;32m   1008\u001b[0m                 \u001b[1;32mpass\u001b[0m\u001b[1;33m\u001b[0m\u001b[1;33m\u001b[0m\u001b[0m\n\u001b[0;32m   1009\u001b[0m \u001b[1;33m\u001b[0m\u001b[0m\n",
      "\u001b[1;32m~\\Anaconda3\\lib\\site-packages\\joblib\\parallel.py\u001b[0m in \u001b[0;36mdispatch_one_batch\u001b[1;34m(self, iterator)\u001b[0m\n\u001b[0;32m    833\u001b[0m                 \u001b[1;32mreturn\u001b[0m \u001b[1;32mFalse\u001b[0m\u001b[1;33m\u001b[0m\u001b[1;33m\u001b[0m\u001b[0m\n\u001b[0;32m    834\u001b[0m             \u001b[1;32melse\u001b[0m\u001b[1;33m:\u001b[0m\u001b[1;33m\u001b[0m\u001b[1;33m\u001b[0m\u001b[0m\n\u001b[1;32m--> 835\u001b[1;33m                 \u001b[0mself\u001b[0m\u001b[1;33m.\u001b[0m\u001b[0m_dispatch\u001b[0m\u001b[1;33m(\u001b[0m\u001b[0mtasks\u001b[0m\u001b[1;33m)\u001b[0m\u001b[1;33m\u001b[0m\u001b[1;33m\u001b[0m\u001b[0m\n\u001b[0m\u001b[0;32m    836\u001b[0m                 \u001b[1;32mreturn\u001b[0m \u001b[1;32mTrue\u001b[0m\u001b[1;33m\u001b[0m\u001b[1;33m\u001b[0m\u001b[0m\n\u001b[0;32m    837\u001b[0m \u001b[1;33m\u001b[0m\u001b[0m\n",
      "\u001b[1;32m~\\Anaconda3\\lib\\site-packages\\joblib\\parallel.py\u001b[0m in \u001b[0;36m_dispatch\u001b[1;34m(self, batch)\u001b[0m\n\u001b[0;32m    752\u001b[0m         \u001b[1;32mwith\u001b[0m \u001b[0mself\u001b[0m\u001b[1;33m.\u001b[0m\u001b[0m_lock\u001b[0m\u001b[1;33m:\u001b[0m\u001b[1;33m\u001b[0m\u001b[1;33m\u001b[0m\u001b[0m\n\u001b[0;32m    753\u001b[0m             \u001b[0mjob_idx\u001b[0m \u001b[1;33m=\u001b[0m \u001b[0mlen\u001b[0m\u001b[1;33m(\u001b[0m\u001b[0mself\u001b[0m\u001b[1;33m.\u001b[0m\u001b[0m_jobs\u001b[0m\u001b[1;33m)\u001b[0m\u001b[1;33m\u001b[0m\u001b[1;33m\u001b[0m\u001b[0m\n\u001b[1;32m--> 754\u001b[1;33m             \u001b[0mjob\u001b[0m \u001b[1;33m=\u001b[0m \u001b[0mself\u001b[0m\u001b[1;33m.\u001b[0m\u001b[0m_backend\u001b[0m\u001b[1;33m.\u001b[0m\u001b[0mapply_async\u001b[0m\u001b[1;33m(\u001b[0m\u001b[0mbatch\u001b[0m\u001b[1;33m,\u001b[0m \u001b[0mcallback\u001b[0m\u001b[1;33m=\u001b[0m\u001b[0mcb\u001b[0m\u001b[1;33m)\u001b[0m\u001b[1;33m\u001b[0m\u001b[1;33m\u001b[0m\u001b[0m\n\u001b[0m\u001b[0;32m    755\u001b[0m             \u001b[1;31m# A job can complete so quickly than its callback is\u001b[0m\u001b[1;33m\u001b[0m\u001b[1;33m\u001b[0m\u001b[1;33m\u001b[0m\u001b[0m\n\u001b[0;32m    756\u001b[0m             \u001b[1;31m# called before we get here, causing self._jobs to\u001b[0m\u001b[1;33m\u001b[0m\u001b[1;33m\u001b[0m\u001b[1;33m\u001b[0m\u001b[0m\n",
      "\u001b[1;32m~\\Anaconda3\\lib\\site-packages\\joblib\\_parallel_backends.py\u001b[0m in \u001b[0;36mapply_async\u001b[1;34m(self, func, callback)\u001b[0m\n\u001b[0;32m    207\u001b[0m     \u001b[1;32mdef\u001b[0m \u001b[0mapply_async\u001b[0m\u001b[1;33m(\u001b[0m\u001b[0mself\u001b[0m\u001b[1;33m,\u001b[0m \u001b[0mfunc\u001b[0m\u001b[1;33m,\u001b[0m \u001b[0mcallback\u001b[0m\u001b[1;33m=\u001b[0m\u001b[1;32mNone\u001b[0m\u001b[1;33m)\u001b[0m\u001b[1;33m:\u001b[0m\u001b[1;33m\u001b[0m\u001b[1;33m\u001b[0m\u001b[0m\n\u001b[0;32m    208\u001b[0m         \u001b[1;34m\"\"\"Schedule a func to be run\"\"\"\u001b[0m\u001b[1;33m\u001b[0m\u001b[1;33m\u001b[0m\u001b[0m\n\u001b[1;32m--> 209\u001b[1;33m         \u001b[0mresult\u001b[0m \u001b[1;33m=\u001b[0m \u001b[0mImmediateResult\u001b[0m\u001b[1;33m(\u001b[0m\u001b[0mfunc\u001b[0m\u001b[1;33m)\u001b[0m\u001b[1;33m\u001b[0m\u001b[1;33m\u001b[0m\u001b[0m\n\u001b[0m\u001b[0;32m    210\u001b[0m         \u001b[1;32mif\u001b[0m \u001b[0mcallback\u001b[0m\u001b[1;33m:\u001b[0m\u001b[1;33m\u001b[0m\u001b[1;33m\u001b[0m\u001b[0m\n\u001b[0;32m    211\u001b[0m             \u001b[0mcallback\u001b[0m\u001b[1;33m(\u001b[0m\u001b[0mresult\u001b[0m\u001b[1;33m)\u001b[0m\u001b[1;33m\u001b[0m\u001b[1;33m\u001b[0m\u001b[0m\n",
      "\u001b[1;32m~\\Anaconda3\\lib\\site-packages\\joblib\\_parallel_backends.py\u001b[0m in \u001b[0;36m__init__\u001b[1;34m(self, batch)\u001b[0m\n\u001b[0;32m    588\u001b[0m         \u001b[1;31m# Don't delay the application, to avoid keeping the input\u001b[0m\u001b[1;33m\u001b[0m\u001b[1;33m\u001b[0m\u001b[1;33m\u001b[0m\u001b[0m\n\u001b[0;32m    589\u001b[0m         \u001b[1;31m# arguments in memory\u001b[0m\u001b[1;33m\u001b[0m\u001b[1;33m\u001b[0m\u001b[1;33m\u001b[0m\u001b[0m\n\u001b[1;32m--> 590\u001b[1;33m         \u001b[0mself\u001b[0m\u001b[1;33m.\u001b[0m\u001b[0mresults\u001b[0m \u001b[1;33m=\u001b[0m \u001b[0mbatch\u001b[0m\u001b[1;33m(\u001b[0m\u001b[1;33m)\u001b[0m\u001b[1;33m\u001b[0m\u001b[1;33m\u001b[0m\u001b[0m\n\u001b[0m\u001b[0;32m    591\u001b[0m \u001b[1;33m\u001b[0m\u001b[0m\n\u001b[0;32m    592\u001b[0m     \u001b[1;32mdef\u001b[0m \u001b[0mget\u001b[0m\u001b[1;33m(\u001b[0m\u001b[0mself\u001b[0m\u001b[1;33m)\u001b[0m\u001b[1;33m:\u001b[0m\u001b[1;33m\u001b[0m\u001b[1;33m\u001b[0m\u001b[0m\n",
      "\u001b[1;32m~\\Anaconda3\\lib\\site-packages\\joblib\\parallel.py\u001b[0m in \u001b[0;36m__call__\u001b[1;34m(self)\u001b[0m\n\u001b[0;32m    254\u001b[0m         \u001b[1;32mwith\u001b[0m \u001b[0mparallel_backend\u001b[0m\u001b[1;33m(\u001b[0m\u001b[0mself\u001b[0m\u001b[1;33m.\u001b[0m\u001b[0m_backend\u001b[0m\u001b[1;33m,\u001b[0m \u001b[0mn_jobs\u001b[0m\u001b[1;33m=\u001b[0m\u001b[0mself\u001b[0m\u001b[1;33m.\u001b[0m\u001b[0m_n_jobs\u001b[0m\u001b[1;33m)\u001b[0m\u001b[1;33m:\u001b[0m\u001b[1;33m\u001b[0m\u001b[1;33m\u001b[0m\u001b[0m\n\u001b[0;32m    255\u001b[0m             return [func(*args, **kwargs)\n\u001b[1;32m--> 256\u001b[1;33m                     for func, args, kwargs in self.items]\n\u001b[0m\u001b[0;32m    257\u001b[0m \u001b[1;33m\u001b[0m\u001b[0m\n\u001b[0;32m    258\u001b[0m     \u001b[1;32mdef\u001b[0m \u001b[0m__len__\u001b[0m\u001b[1;33m(\u001b[0m\u001b[0mself\u001b[0m\u001b[1;33m)\u001b[0m\u001b[1;33m:\u001b[0m\u001b[1;33m\u001b[0m\u001b[1;33m\u001b[0m\u001b[0m\n",
      "\u001b[1;32m~\\Anaconda3\\lib\\site-packages\\joblib\\parallel.py\u001b[0m in \u001b[0;36m<listcomp>\u001b[1;34m(.0)\u001b[0m\n\u001b[0;32m    254\u001b[0m         \u001b[1;32mwith\u001b[0m \u001b[0mparallel_backend\u001b[0m\u001b[1;33m(\u001b[0m\u001b[0mself\u001b[0m\u001b[1;33m.\u001b[0m\u001b[0m_backend\u001b[0m\u001b[1;33m,\u001b[0m \u001b[0mn_jobs\u001b[0m\u001b[1;33m=\u001b[0m\u001b[0mself\u001b[0m\u001b[1;33m.\u001b[0m\u001b[0m_n_jobs\u001b[0m\u001b[1;33m)\u001b[0m\u001b[1;33m:\u001b[0m\u001b[1;33m\u001b[0m\u001b[1;33m\u001b[0m\u001b[0m\n\u001b[0;32m    255\u001b[0m             return [func(*args, **kwargs)\n\u001b[1;32m--> 256\u001b[1;33m                     for func, args, kwargs in self.items]\n\u001b[0m\u001b[0;32m    257\u001b[0m \u001b[1;33m\u001b[0m\u001b[0m\n\u001b[0;32m    258\u001b[0m     \u001b[1;32mdef\u001b[0m \u001b[0m__len__\u001b[0m\u001b[1;33m(\u001b[0m\u001b[0mself\u001b[0m\u001b[1;33m)\u001b[0m\u001b[1;33m:\u001b[0m\u001b[1;33m\u001b[0m\u001b[1;33m\u001b[0m\u001b[0m\n",
      "\u001b[1;32m~\\Anaconda3\\lib\\site-packages\\sklearn\\model_selection\\_validation.py\u001b[0m in \u001b[0;36m_fit_and_score\u001b[1;34m(estimator, X, y, scorer, train, test, verbose, parameters, fit_params, return_train_score, return_parameters, return_n_test_samples, return_times, return_estimator, error_score)\u001b[0m\n\u001b[0;32m    513\u001b[0m             \u001b[0mestimator\u001b[0m\u001b[1;33m.\u001b[0m\u001b[0mfit\u001b[0m\u001b[1;33m(\u001b[0m\u001b[0mX_train\u001b[0m\u001b[1;33m,\u001b[0m \u001b[1;33m**\u001b[0m\u001b[0mfit_params\u001b[0m\u001b[1;33m)\u001b[0m\u001b[1;33m\u001b[0m\u001b[1;33m\u001b[0m\u001b[0m\n\u001b[0;32m    514\u001b[0m         \u001b[1;32melse\u001b[0m\u001b[1;33m:\u001b[0m\u001b[1;33m\u001b[0m\u001b[1;33m\u001b[0m\u001b[0m\n\u001b[1;32m--> 515\u001b[1;33m             \u001b[0mestimator\u001b[0m\u001b[1;33m.\u001b[0m\u001b[0mfit\u001b[0m\u001b[1;33m(\u001b[0m\u001b[0mX_train\u001b[0m\u001b[1;33m,\u001b[0m \u001b[0my_train\u001b[0m\u001b[1;33m,\u001b[0m \u001b[1;33m**\u001b[0m\u001b[0mfit_params\u001b[0m\u001b[1;33m)\u001b[0m\u001b[1;33m\u001b[0m\u001b[1;33m\u001b[0m\u001b[0m\n\u001b[0m\u001b[0;32m    516\u001b[0m \u001b[1;33m\u001b[0m\u001b[0m\n\u001b[0;32m    517\u001b[0m     \u001b[1;32mexcept\u001b[0m \u001b[0mException\u001b[0m \u001b[1;32mas\u001b[0m \u001b[0me\u001b[0m\u001b[1;33m:\u001b[0m\u001b[1;33m\u001b[0m\u001b[1;33m\u001b[0m\u001b[0m\n",
      "\u001b[1;32m~\\Anaconda3\\lib\\site-packages\\sklearn\\ensemble\\_gb.py\u001b[0m in \u001b[0;36mfit\u001b[1;34m(self, X, y, sample_weight, monitor)\u001b[0m\n\u001b[0;32m   1535\u001b[0m         n_stages = self._fit_stages(\n\u001b[0;32m   1536\u001b[0m             \u001b[0mX\u001b[0m\u001b[1;33m,\u001b[0m \u001b[0my\u001b[0m\u001b[1;33m,\u001b[0m \u001b[0mraw_predictions\u001b[0m\u001b[1;33m,\u001b[0m \u001b[0msample_weight\u001b[0m\u001b[1;33m,\u001b[0m \u001b[0mself\u001b[0m\u001b[1;33m.\u001b[0m\u001b[0m_rng\u001b[0m\u001b[1;33m,\u001b[0m \u001b[0mX_val\u001b[0m\u001b[1;33m,\u001b[0m \u001b[0my_val\u001b[0m\u001b[1;33m,\u001b[0m\u001b[1;33m\u001b[0m\u001b[1;33m\u001b[0m\u001b[0m\n\u001b[1;32m-> 1537\u001b[1;33m             sample_weight_val, begin_at_stage, monitor, X_idx_sorted)\n\u001b[0m\u001b[0;32m   1538\u001b[0m \u001b[1;33m\u001b[0m\u001b[0m\n\u001b[0;32m   1539\u001b[0m         \u001b[1;31m# change shape of arrays after fit (early-stopping or additional ests)\u001b[0m\u001b[1;33m\u001b[0m\u001b[1;33m\u001b[0m\u001b[1;33m\u001b[0m\u001b[0m\n",
      "\u001b[1;32m~\\Anaconda3\\lib\\site-packages\\sklearn\\ensemble\\_gb.py\u001b[0m in \u001b[0;36m_fit_stages\u001b[1;34m(self, X, y, raw_predictions, sample_weight, random_state, X_val, y_val, sample_weight_val, begin_at_stage, monitor, X_idx_sorted)\u001b[0m\n\u001b[0;32m   1592\u001b[0m             raw_predictions = self._fit_stage(\n\u001b[0;32m   1593\u001b[0m                 \u001b[0mi\u001b[0m\u001b[1;33m,\u001b[0m \u001b[0mX\u001b[0m\u001b[1;33m,\u001b[0m \u001b[0my\u001b[0m\u001b[1;33m,\u001b[0m \u001b[0mraw_predictions\u001b[0m\u001b[1;33m,\u001b[0m \u001b[0msample_weight\u001b[0m\u001b[1;33m,\u001b[0m \u001b[0msample_mask\u001b[0m\u001b[1;33m,\u001b[0m\u001b[1;33m\u001b[0m\u001b[1;33m\u001b[0m\u001b[0m\n\u001b[1;32m-> 1594\u001b[1;33m                 random_state, X_idx_sorted, X_csc, X_csr)\n\u001b[0m\u001b[0;32m   1595\u001b[0m \u001b[1;33m\u001b[0m\u001b[0m\n\u001b[0;32m   1596\u001b[0m             \u001b[1;31m# track deviance (= loss)\u001b[0m\u001b[1;33m\u001b[0m\u001b[1;33m\u001b[0m\u001b[1;33m\u001b[0m\u001b[0m\n",
      "\u001b[1;32m~\\Anaconda3\\lib\\site-packages\\sklearn\\ensemble\\_gb.py\u001b[0m in \u001b[0;36m_fit_stage\u001b[1;34m(self, i, X, y, raw_predictions, sample_weight, sample_mask, random_state, X_idx_sorted, X_csc, X_csr)\u001b[0m\n\u001b[0;32m   1243\u001b[0m             \u001b[0mX\u001b[0m \u001b[1;33m=\u001b[0m \u001b[0mX_csr\u001b[0m \u001b[1;32mif\u001b[0m \u001b[0mX_csr\u001b[0m \u001b[1;32mis\u001b[0m \u001b[1;32mnot\u001b[0m \u001b[1;32mNone\u001b[0m \u001b[1;32melse\u001b[0m \u001b[0mX\u001b[0m\u001b[1;33m\u001b[0m\u001b[1;33m\u001b[0m\u001b[0m\n\u001b[0;32m   1244\u001b[0m             tree.fit(X, residual, sample_weight=sample_weight,\n\u001b[1;32m-> 1245\u001b[1;33m                      check_input=False, X_idx_sorted=X_idx_sorted)\n\u001b[0m\u001b[0;32m   1246\u001b[0m \u001b[1;33m\u001b[0m\u001b[0m\n\u001b[0;32m   1247\u001b[0m             \u001b[1;31m# update tree leaves\u001b[0m\u001b[1;33m\u001b[0m\u001b[1;33m\u001b[0m\u001b[1;33m\u001b[0m\u001b[0m\n",
      "\u001b[1;32m~\\Anaconda3\\lib\\site-packages\\sklearn\\tree\\_classes.py\u001b[0m in \u001b[0;36mfit\u001b[1;34m(self, X, y, sample_weight, check_input, X_idx_sorted)\u001b[0m\n\u001b[0;32m   1223\u001b[0m             \u001b[0msample_weight\u001b[0m\u001b[1;33m=\u001b[0m\u001b[0msample_weight\u001b[0m\u001b[1;33m,\u001b[0m\u001b[1;33m\u001b[0m\u001b[1;33m\u001b[0m\u001b[0m\n\u001b[0;32m   1224\u001b[0m             \u001b[0mcheck_input\u001b[0m\u001b[1;33m=\u001b[0m\u001b[0mcheck_input\u001b[0m\u001b[1;33m,\u001b[0m\u001b[1;33m\u001b[0m\u001b[1;33m\u001b[0m\u001b[0m\n\u001b[1;32m-> 1225\u001b[1;33m             X_idx_sorted=X_idx_sorted)\n\u001b[0m\u001b[0;32m   1226\u001b[0m         \u001b[1;32mreturn\u001b[0m \u001b[0mself\u001b[0m\u001b[1;33m\u001b[0m\u001b[1;33m\u001b[0m\u001b[0m\n\u001b[0;32m   1227\u001b[0m \u001b[1;33m\u001b[0m\u001b[0m\n",
      "\u001b[1;32m~\\Anaconda3\\lib\\site-packages\\sklearn\\tree\\_classes.py\u001b[0m in \u001b[0;36mfit\u001b[1;34m(self, X, y, sample_weight, check_input, X_idx_sorted)\u001b[0m\n\u001b[0;32m    365\u001b[0m                                            min_impurity_split)\n\u001b[0;32m    366\u001b[0m \u001b[1;33m\u001b[0m\u001b[0m\n\u001b[1;32m--> 367\u001b[1;33m         \u001b[0mbuilder\u001b[0m\u001b[1;33m.\u001b[0m\u001b[0mbuild\u001b[0m\u001b[1;33m(\u001b[0m\u001b[0mself\u001b[0m\u001b[1;33m.\u001b[0m\u001b[0mtree_\u001b[0m\u001b[1;33m,\u001b[0m \u001b[0mX\u001b[0m\u001b[1;33m,\u001b[0m \u001b[0my\u001b[0m\u001b[1;33m,\u001b[0m \u001b[0msample_weight\u001b[0m\u001b[1;33m,\u001b[0m \u001b[0mX_idx_sorted\u001b[0m\u001b[1;33m)\u001b[0m\u001b[1;33m\u001b[0m\u001b[1;33m\u001b[0m\u001b[0m\n\u001b[0m\u001b[0;32m    368\u001b[0m \u001b[1;33m\u001b[0m\u001b[0m\n\u001b[0;32m    369\u001b[0m         \u001b[1;32mif\u001b[0m \u001b[0mself\u001b[0m\u001b[1;33m.\u001b[0m\u001b[0mn_outputs_\u001b[0m \u001b[1;33m==\u001b[0m \u001b[1;36m1\u001b[0m \u001b[1;32mand\u001b[0m \u001b[0mis_classifier\u001b[0m\u001b[1;33m(\u001b[0m\u001b[0mself\u001b[0m\u001b[1;33m)\u001b[0m\u001b[1;33m:\u001b[0m\u001b[1;33m\u001b[0m\u001b[1;33m\u001b[0m\u001b[0m\n",
      "\u001b[1;31mKeyboardInterrupt\u001b[0m: "
     ]
    }
   ],
   "source": [
    "param_test3 = {'min_samples_split':range(300,1700,200), 'min_samples_leaf':range(10,60,10)}\n",
    "gsearch3 = GridSearchCV(estimator = GradientBoostingClassifier(learning_rate=0.2, n_estimators=280,max_depth=11,\n",
    "                                     max_features='sqrt', subsample=0.8, random_state=10), \n",
    "                       param_grid = param_test3, scoring='roc_auc',iid=False, cv=5)\n",
    "gsearch3.fit(Xtrain1,Ytrain1)"
   ]
  },
  {
   "cell_type": "code",
   "execution_count": 210,
   "metadata": {},
   "outputs": [
    {
     "name": "stdout",
     "output_type": "stream",
     "text": [
      "0.8029413465635425 0.008025644138416879 {'min_samples_leaf': 60, 'min_samples_split': 300}\n",
      "0.802473411133619 0.008582747146131749 {'min_samples_leaf': 60, 'min_samples_split': 500}\n",
      "0.8029016687572179 0.007235132491877502 {'min_samples_leaf': 60, 'min_samples_split': 700}\n",
      "0.8024327889935021 0.008205770073486591 {'min_samples_leaf': 60, 'min_samples_split': 900}\n",
      "0.8029870596421944 0.007388140484305886 {'min_samples_leaf': 60, 'min_samples_split': 1100}\n",
      "0.8026328476374036 0.008564690146895254 {'min_samples_leaf': 60, 'min_samples_split': 1300}\n",
      "0.8017490317848794 0.00900892888492466 {'min_samples_leaf': 60, 'min_samples_split': 1500}\n",
      "0.7981112193809183 0.009617168603045682 {'min_samples_leaf': 70, 'min_samples_split': 300}\n",
      "0.7986058675632031 0.009679396080368654 {'min_samples_leaf': 70, 'min_samples_split': 500}\n",
      "0.7978975617313815 0.009889261883505682 {'min_samples_leaf': 70, 'min_samples_split': 700}\n",
      "0.7985373558553187 0.008609116221990652 {'min_samples_leaf': 70, 'min_samples_split': 900}\n",
      "0.7984515464906592 0.008934613945998487 {'min_samples_leaf': 70, 'min_samples_split': 1100}\n",
      "0.7979038548017527 0.009231352940519397 {'min_samples_leaf': 70, 'min_samples_split': 1300}\n",
      "0.7981568418437147 0.009281897218247228 {'min_samples_leaf': 70, 'min_samples_split': 1500}\n",
      "0.7866671841651947 0.01136505802170388 {'min_samples_leaf': 80, 'min_samples_split': 300}\n",
      "0.7862029176964681 0.011001585057031409 {'min_samples_leaf': 80, 'min_samples_split': 500}\n",
      "0.7856791235021499 0.011594856792069345 {'min_samples_leaf': 80, 'min_samples_split': 700}\n",
      "0.7856079075903215 0.011173850852644869 {'min_samples_leaf': 80, 'min_samples_split': 900}\n",
      "0.7860716808593222 0.00981217705105229 {'min_samples_leaf': 80, 'min_samples_split': 1100}\n",
      "0.7859701169579265 0.010457991990775352 {'min_samples_leaf': 80, 'min_samples_split': 1300}\n",
      "0.7857074391177556 0.010490638963568359 {'min_samples_leaf': 80, 'min_samples_split': 1500}\n",
      "0.7730190000524232 0.012120889019174965 {'min_samples_leaf': 90, 'min_samples_split': 300}\n",
      "0.7727378844184931 0.012168066566310722 {'min_samples_leaf': 90, 'min_samples_split': 500}\n",
      "0.771940210157126 0.011861459892929088 {'min_samples_leaf': 90, 'min_samples_split': 700}\n",
      "0.7723838560119942 0.011832038603161057 {'min_samples_leaf': 90, 'min_samples_split': 900}\n",
      "0.7721260401496739 0.01178933705208494 {'min_samples_leaf': 90, 'min_samples_split': 1100}\n",
      "0.7722508485198789 0.011484443853517093 {'min_samples_leaf': 90, 'min_samples_split': 1300}\n",
      "0.7720796547284223 0.011431609740931426 {'min_samples_leaf': 90, 'min_samples_split': 1500}\n",
      "0.762800688302379 0.012832071628343171 {'min_samples_leaf': 100, 'min_samples_split': 300}\n",
      "0.7635873370157417 0.012560730476762321 {'min_samples_leaf': 100, 'min_samples_split': 500}\n",
      "0.7633433355754966 0.012992612006197361 {'min_samples_leaf': 100, 'min_samples_split': 700}\n",
      "0.7632932810552602 0.012767902714629221 {'min_samples_leaf': 100, 'min_samples_split': 900}\n",
      "0.7631982507480888 0.01307872865662659 {'min_samples_leaf': 100, 'min_samples_split': 1100}\n",
      "0.7630412237899554 0.013213427175967145 {'min_samples_leaf': 100, 'min_samples_split': 1300}\n",
      "0.7626660156734217 0.012825020388380634 {'min_samples_leaf': 100, 'min_samples_split': 1500}\n"
     ]
    },
    {
     "data": {
      "text/plain": [
       "({'min_samples_leaf': 60, 'min_samples_split': 1100}, 0.8029870596421944)"
      ]
     },
     "execution_count": 210,
     "metadata": {},
     "output_type": "execute_result"
    }
   ],
   "source": [
    "for n, m, v  in zip(gsearch3.cv_results_['mean_test_score'], gsearch3.cv_results_['std_test_score'], gsearch3.cv_results_['params']):\n",
    "    print(n,m,v)\n",
    "gsearch3.best_params_, gsearch3.best_score_"
   ]
  },
  {
   "cell_type": "code",
   "execution_count": 193,
   "metadata": {},
   "outputs": [
    {
     "data": {
      "text/plain": [
       "0.7705588368923216"
      ]
     },
     "execution_count": 193,
     "metadata": {},
     "output_type": "execute_result"
    }
   ],
   "source": [
    "gb = GradientBoostingClassifier(learning_rate=0.1, subsample=1, n_estimators=280,max_depth=50, min_samples_split=500, min_samples_leaf=1,max_features='sqrt' , random_state=10)\n",
    "gb.fit(Xtrain1, Ytrain1)\n",
    "Y_pred = gb.predict(Xtest1)\n",
    "accuracy_score(Y_pred, Ytest1)"
   ]
  },
  {
   "cell_type": "markdown",
   "metadata": {},
   "source": [
    "# RandomForestClassifier"
   ]
  },
  {
   "cell_type": "markdown",
   "metadata": {},
   "source": [
    "# n_estimater\n"
   ]
  },
  {
   "cell_type": "code",
   "execution_count": 225,
   "metadata": {},
   "outputs": [
    {
     "data": {
      "text/plain": [
       "GridSearchCV(cv=5, error_score=nan,\n",
       "             estimator=RandomForestClassifier(bootstrap=True, ccp_alpha=0.0,\n",
       "                                              class_weight=None,\n",
       "                                              criterion='gini', max_depth=8,\n",
       "                                              max_features='sqrt',\n",
       "                                              max_leaf_nodes=None,\n",
       "                                              max_samples=None,\n",
       "                                              min_impurity_decrease=0.0,\n",
       "                                              min_impurity_split=None,\n",
       "                                              min_samples_leaf=20,\n",
       "                                              min_samples_split=100,\n",
       "                                              min_weight_fraction_leaf=0.0,\n",
       "                                              n_estimators=100, n_jobs=None,\n",
       "                                              oob_score=False, random_state=10,\n",
       "                                              verbose=0, warm_start=False),\n",
       "             iid='deprecated', n_jobs=None,\n",
       "             param_grid={'n_estimators': range(420, 500, 10)},\n",
       "             pre_dispatch='2*n_jobs', refit=True, return_train_score=False,\n",
       "             scoring='roc_auc', verbose=0)"
      ]
     },
     "execution_count": 225,
     "metadata": {},
     "output_type": "execute_result"
    }
   ],
   "source": [
    "param_test1 = {'n_estimators':range(420,500,10)}\n",
    "gsearch1_RF = GridSearchCV(estimator = RandomForestClassifier(min_samples_split=100,\n",
    "                                  min_samples_leaf=20,max_depth=8,max_features='sqrt' ,random_state=10), \n",
    "                       param_grid = param_test1, scoring='roc_auc',cv=5)\n",
    "gsearch1_RF.fit(Xtrain1,Ytrain1)\n"
   ]
  },
  {
   "cell_type": "code",
   "execution_count": 226,
   "metadata": {},
   "outputs": [
    {
     "name": "stdout",
     "output_type": "stream",
     "text": [
      "0.8037915411527748 0.012889161296327462 {'n_estimators': 420}\n",
      "0.804105603338147 0.012467521231083002 {'n_estimators': 430}\n",
      "0.8040569161857241 0.01292610999388733 {'n_estimators': 440}\n",
      "0.8039589682664348 0.01280337861608391 {'n_estimators': 450}\n",
      "0.8037965122826151 0.013012518219383332 {'n_estimators': 460}\n",
      "0.8037558910951693 0.013033929131265935 {'n_estimators': 470}\n",
      "0.8036832380044678 0.012968174825929534 {'n_estimators': 480}\n",
      "0.8037124267644277 0.013208278462861116 {'n_estimators': 490}\n"
     ]
    },
    {
     "data": {
      "text/plain": [
       "({'n_estimators': 430}, 0.804105603338147)"
      ]
     },
     "execution_count": 226,
     "metadata": {},
     "output_type": "execute_result"
    }
   ],
   "source": [
    "\n",
    "for n, m,v  in zip(gsearch1_RF.cv_results_['mean_test_score'], gsearch1_RF.cv_results_['std_test_score'], gsearch1_RF.cv_results_['params']):\n",
    "    print(n,m,v)\n",
    "    \n",
    "gsearch1_RF.best_params_, gsearch1_RF.best_score_"
   ]
  },
  {
   "cell_type": "code",
   "execution_count": 301,
   "metadata": {},
   "outputs": [
    {
     "data": {
      "text/plain": [
       "0.7655611085870059"
      ]
     },
     "execution_count": 301,
     "metadata": {},
     "output_type": "execute_result"
    }
   ],
   "source": [
    "RF_optimal=RandomForestClassifier(bootstrap=True, ccp_alpha=0.0,\n",
    "                                        class_weight=None, criterion='gini',\n",
    "                                        max_depth=None, max_features='sqrt',\n",
    "                                        max_leaf_nodes=None, max_samples=None,\n",
    "                                        min_impurity_decrease=0.0,\n",
    "                                        min_impurity_split=None,\n",
    "                                        min_samples_leaf=1, min_samples_split=2,\n",
    "                                        min_weight_fraction_leaf=0.0,\n",
    "                                        n_estimators=100, n_jobs=-1,\n",
    "                                        oob_score=True, random_state=10,\n",
    "                                        verbose=0, warm_start=False)\n",
    "rf_o=RF_optimal.fit(Xtrain1,Ytrain1)\n",
    "fr_o_guess=RF_optimal.predict(Xtest1)\n",
    "accuracy_score(Ytest1, fr_o_guess)"
   ]
  },
  {
   "cell_type": "code",
   "execution_count": 303,
   "metadata": {},
   "outputs": [
    {
     "data": {
      "text/plain": [
       "0.7705588368923216"
      ]
     },
     "execution_count": 303,
     "metadata": {},
     "output_type": "execute_result"
    }
   ],
   "source": [
    "RF_optimal=RandomForestClassifier(bootstrap=True, ccp_alpha=0.0,\n",
    "                                        class_weight=None, criterion='gini',\n",
    "                                        max_depth=None, max_features='sqrt',\n",
    "                                        max_leaf_nodes=None, max_samples=None,\n",
    "                                        min_impurity_decrease=0.0,\n",
    "                                        min_impurity_split=None,\n",
    "                                        min_samples_leaf=1, min_samples_split=2,\n",
    "                                        min_weight_fraction_leaf=0.0,\n",
    "                                        n_estimators=430, n_jobs=-1,\n",
    "                                        oob_score=True, random_state=10,\n",
    "                                        verbose=0, warm_start=False)\n",
    "rf_o=RF_optimal.fit(Xtrain1,Ytrain1)\n",
    "fr_o_guess=RF_optimal.predict(Xtest1)\n",
    "accuracy_score(Ytest1, fr_o_guess)"
   ]
  },
  {
   "cell_type": "markdown",
   "metadata": {},
   "source": [
    "# max_depth and min_samples_split\n"
   ]
  },
  {
   "cell_type": "code",
   "execution_count": 307,
   "metadata": {},
   "outputs": [
    {
     "name": "stderr",
     "output_type": "stream",
     "text": [
      "C:\\Users\\bishe\\Anaconda3\\lib\\site-packages\\sklearn\\model_selection\\_search.py:823: FutureWarning: The parameter 'iid' is deprecated in 0.22 and will be removed in 0.24.\n",
      "  \"removed in 0.24.\", FutureWarning\n"
     ]
    },
    {
     "data": {
      "text/plain": [
       "GridSearchCV(cv=5, error_score=nan,\n",
       "             estimator=RandomForestClassifier(bootstrap=True, ccp_alpha=0.0,\n",
       "                                              class_weight=None,\n",
       "                                              criterion='gini', max_depth=None,\n",
       "                                              max_features='sqrt',\n",
       "                                              max_leaf_nodes=None,\n",
       "                                              max_samples=None,\n",
       "                                              min_impurity_decrease=0.0,\n",
       "                                              min_impurity_split=None,\n",
       "                                              min_samples_leaf=20,\n",
       "                                              min_samples_split=2,\n",
       "                                              min_weight_fraction_leaf=0.0,\n",
       "                                              n_estimators=430, n_jobs=None,\n",
       "                                              oob_score=True, random_state=10,\n",
       "                                              verbose=0, warm_start=False),\n",
       "             iid=False, n_jobs=None,\n",
       "             param_grid={'max_depth': range(29, 200, 10),\n",
       "                         'min_samples_split': range(100, 801, 200)},\n",
       "             pre_dispatch='2*n_jobs', refit=True, return_train_score=False,\n",
       "             scoring='roc_auc', verbose=0)"
      ]
     },
     "execution_count": 307,
     "metadata": {},
     "output_type": "execute_result"
    }
   ],
   "source": [
    "param_test2 = {'max_depth':range(29,200,10), 'min_samples_split':range(100,801,200)}\n",
    "gsearch2 = GridSearchCV(estimator = RandomForestClassifier(n_estimators= 430, \n",
    "                                  min_samples_leaf=20,max_features='sqrt' ,oob_score=True, random_state=10),\n",
    "   param_grid = param_test2, scoring='roc_auc',iid=False, cv=5)\n",
    "gsearch2.fit(Xtrain1,Ytrain1)"
   ]
  },
  {
   "cell_type": "code",
   "execution_count": 308,
   "metadata": {
    "scrolled": true
   },
   "outputs": [
    {
     "name": "stdout",
     "output_type": "stream",
     "text": [
      "0.808945520637155 0.011973781200242737 {'max_depth': 29, 'min_samples_split': 100}\n",
      "0.8090353952671931 0.011988599324726961 {'max_depth': 29, 'min_samples_split': 300}\n",
      "0.8090531420656157 0.012024721847645248 {'max_depth': 29, 'min_samples_split': 500}\n",
      "0.8089477710438574 0.01198321692728063 {'max_depth': 29, 'min_samples_split': 700}\n",
      "0.8089047995548604 0.012033512573650759 {'max_depth': 39, 'min_samples_split': 100}\n",
      "0.8090042163887649 0.012067840888462845 {'max_depth': 39, 'min_samples_split': 300}\n",
      "0.8089329239973461 0.012061634893367422 {'max_depth': 39, 'min_samples_split': 500}\n",
      "0.8088619070906921 0.012021768376357066 {'max_depth': 39, 'min_samples_split': 700}\n",
      "0.8087778864288737 0.012360213433315535 {'max_depth': 49, 'min_samples_split': 100}\n",
      "0.8088982210915111 0.01233805926912896 {'max_depth': 49, 'min_samples_split': 300}\n",
      "0.8088311960106516 0.012358233279612848 {'max_depth': 49, 'min_samples_split': 500}\n",
      "0.8088041182119309 0.012297970441462316 {'max_depth': 49, 'min_samples_split': 700}\n",
      "0.8086760559462096 0.012396589785835735 {'max_depth': 59, 'min_samples_split': 100}\n",
      "0.8087857405540559 0.012326241139570999 {'max_depth': 59, 'min_samples_split': 300}\n",
      "0.808709967569848 0.012353889131950135 {'max_depth': 59, 'min_samples_split': 500}\n",
      "0.8086802904852828 0.012308746000025624 {'max_depth': 59, 'min_samples_split': 700}\n",
      "0.808682254185018 0.012404938941212999 {'max_depth': 69, 'min_samples_split': 100}\n",
      "0.8087852166770186 0.01232813107118302 {'max_depth': 69, 'min_samples_split': 300}\n",
      "0.8087086684186916 0.012349217464263517 {'max_depth': 69, 'min_samples_split': 500}\n",
      "0.8086774414591471 0.01231213015487936 {'max_depth': 69, 'min_samples_split': 700}\n",
      "0.808682254185018 0.012404938941212999 {'max_depth': 79, 'min_samples_split': 100}\n",
      "0.8087852166770186 0.01232813107118302 {'max_depth': 79, 'min_samples_split': 300}\n",
      "0.8087086684186916 0.012349217464263517 {'max_depth': 79, 'min_samples_split': 500}\n",
      "0.8086774414591471 0.01231213015487936 {'max_depth': 79, 'min_samples_split': 700}\n",
      "0.808682254185018 0.012404938941212999 {'max_depth': 89, 'min_samples_split': 100}\n",
      "0.8087852166770186 0.01232813107118302 {'max_depth': 89, 'min_samples_split': 300}\n",
      "0.8087086684186916 0.012349217464263517 {'max_depth': 89, 'min_samples_split': 500}\n",
      "0.8086774414591471 0.01231213015487936 {'max_depth': 89, 'min_samples_split': 700}\n",
      "0.808682254185018 0.012404938941212999 {'max_depth': 99, 'min_samples_split': 100}\n",
      "0.8087852166770186 0.01232813107118302 {'max_depth': 99, 'min_samples_split': 300}\n",
      "0.8087086684186916 0.012349217464263517 {'max_depth': 99, 'min_samples_split': 500}\n",
      "0.8086774414591471 0.01231213015487936 {'max_depth': 99, 'min_samples_split': 700}\n",
      "0.808682254185018 0.012404938941212999 {'max_depth': 109, 'min_samples_split': 100}\n",
      "0.8087852166770186 0.01232813107118302 {'max_depth': 109, 'min_samples_split': 300}\n",
      "0.8087086684186916 0.012349217464263517 {'max_depth': 109, 'min_samples_split': 500}\n",
      "0.8086774414591471 0.01231213015487936 {'max_depth': 109, 'min_samples_split': 700}\n",
      "0.808682254185018 0.012404938941212999 {'max_depth': 119, 'min_samples_split': 100}\n",
      "0.8087852166770186 0.01232813107118302 {'max_depth': 119, 'min_samples_split': 300}\n",
      "0.8087086684186916 0.012349217464263517 {'max_depth': 119, 'min_samples_split': 500}\n",
      "0.8086774414591471 0.01231213015487936 {'max_depth': 119, 'min_samples_split': 700}\n",
      "0.808682254185018 0.012404938941212999 {'max_depth': 129, 'min_samples_split': 100}\n",
      "0.8087852166770186 0.01232813107118302 {'max_depth': 129, 'min_samples_split': 300}\n",
      "0.8087086684186916 0.012349217464263517 {'max_depth': 129, 'min_samples_split': 500}\n",
      "0.8086774414591471 0.01231213015487936 {'max_depth': 129, 'min_samples_split': 700}\n",
      "0.808682254185018 0.012404938941212999 {'max_depth': 139, 'min_samples_split': 100}\n",
      "0.8087852166770186 0.01232813107118302 {'max_depth': 139, 'min_samples_split': 300}\n",
      "0.8087086684186916 0.012349217464263517 {'max_depth': 139, 'min_samples_split': 500}\n",
      "0.8086774414591471 0.01231213015487936 {'max_depth': 139, 'min_samples_split': 700}\n",
      "0.808682254185018 0.012404938941212999 {'max_depth': 149, 'min_samples_split': 100}\n",
      "0.8087852166770186 0.01232813107118302 {'max_depth': 149, 'min_samples_split': 300}\n",
      "0.8087086684186916 0.012349217464263517 {'max_depth': 149, 'min_samples_split': 500}\n",
      "0.8086774414591471 0.01231213015487936 {'max_depth': 149, 'min_samples_split': 700}\n",
      "0.808682254185018 0.012404938941212999 {'max_depth': 159, 'min_samples_split': 100}\n",
      "0.8087852166770186 0.01232813107118302 {'max_depth': 159, 'min_samples_split': 300}\n",
      "0.8087086684186916 0.012349217464263517 {'max_depth': 159, 'min_samples_split': 500}\n",
      "0.8086774414591471 0.01231213015487936 {'max_depth': 159, 'min_samples_split': 700}\n",
      "0.808682254185018 0.012404938941212999 {'max_depth': 169, 'min_samples_split': 100}\n",
      "0.8087852166770186 0.01232813107118302 {'max_depth': 169, 'min_samples_split': 300}\n",
      "0.8087086684186916 0.012349217464263517 {'max_depth': 169, 'min_samples_split': 500}\n",
      "0.8086774414591471 0.01231213015487936 {'max_depth': 169, 'min_samples_split': 700}\n",
      "0.808682254185018 0.012404938941212999 {'max_depth': 179, 'min_samples_split': 100}\n",
      "0.8087852166770186 0.01232813107118302 {'max_depth': 179, 'min_samples_split': 300}\n",
      "0.8087086684186916 0.012349217464263517 {'max_depth': 179, 'min_samples_split': 500}\n",
      "0.8086774414591471 0.01231213015487936 {'max_depth': 179, 'min_samples_split': 700}\n",
      "0.808682254185018 0.012404938941212999 {'max_depth': 189, 'min_samples_split': 100}\n",
      "0.8087852166770186 0.01232813107118302 {'max_depth': 189, 'min_samples_split': 300}\n",
      "0.8087086684186916 0.012349217464263517 {'max_depth': 189, 'min_samples_split': 500}\n",
      "0.8086774414591471 0.01231213015487936 {'max_depth': 189, 'min_samples_split': 700}\n",
      "0.808682254185018 0.012404938941212999 {'max_depth': 199, 'min_samples_split': 100}\n",
      "0.8087852166770186 0.01232813107118302 {'max_depth': 199, 'min_samples_split': 300}\n",
      "0.8087086684186916 0.012349217464263517 {'max_depth': 199, 'min_samples_split': 500}\n",
      "0.8086774414591471 0.01231213015487936 {'max_depth': 199, 'min_samples_split': 700}\n"
     ]
    },
    {
     "data": {
      "text/plain": [
       "({'max_depth': 29, 'min_samples_split': 500}, 0.8090531420656157)"
      ]
     },
     "execution_count": 308,
     "metadata": {},
     "output_type": "execute_result"
    }
   ],
   "source": [
    "for n, m,v  in zip(gsearch2.cv_results_['mean_test_score'], gsearch2.cv_results_['std_test_score'], gsearch2.cv_results_['params']):\n",
    "    print(n,m,v)\n",
    "    \n",
    "gsearch2.best_params_, gsearch2.best_score_"
   ]
  },
  {
   "cell_type": "code",
   "execution_count": 230,
   "metadata": {},
   "outputs": [
    {
     "name": "stdout",
     "output_type": "stream",
     "text": [
      "0.8065969281189174 0.011473674361585442 {'max_depth': 12, 'min_samples_split': 100}\n",
      "0.8068198138614209 0.011554587849932279 {'max_depth': 12, 'min_samples_split': 300}\n",
      "0.8067986089275376 0.011646125424368362 {'max_depth': 12, 'min_samples_split': 500}\n",
      "0.8066508924212984 0.011646823584297708 {'max_depth': 12, 'min_samples_split': 700}\n",
      "0.8071698660316681 0.011592523697737138 {'max_depth': 14, 'min_samples_split': 100}\n",
      "0.807365974791826 0.011741324776665408 {'max_depth': 14, 'min_samples_split': 300}\n",
      "0.8073490096064301 0.011860024739403828 {'max_depth': 14, 'min_samples_split': 500}\n",
      "0.8072889364018042 0.011809608559045358 {'max_depth': 14, 'min_samples_split': 700}\n",
      "0.807925578723841 0.012012490259368994 {'max_depth': 16, 'min_samples_split': 100}\n",
      "0.8078932434431249 0.01207344637955553 {'max_depth': 16, 'min_samples_split': 300}\n",
      "0.8078969163998355 0.012110636746428136 {'max_depth': 16, 'min_samples_split': 500}\n",
      "0.8078175100045272 0.012057592814795254 {'max_depth': 16, 'min_samples_split': 700}\n",
      "0.8080651593561242 0.012358280515837079 {'max_depth': 18, 'min_samples_split': 100}\n",
      "0.8082557706338941 0.012433575657896233 {'max_depth': 18, 'min_samples_split': 300}\n",
      "0.8081754140079411 0.012455698195452813 {'max_depth': 18, 'min_samples_split': 500}\n",
      "0.8081137775415634 0.01243154620177962 {'max_depth': 18, 'min_samples_split': 700}\n",
      "0.8085128579054827 0.01207799878010638 {'max_depth': 20, 'min_samples_split': 100}\n",
      "0.8086677600925656 0.012239425672869206 {'max_depth': 20, 'min_samples_split': 300}\n",
      "0.8086179112955783 0.012233160635642825 {'max_depth': 20, 'min_samples_split': 500}\n",
      "0.8084947354223446 0.012116234815330201 {'max_depth': 20, 'min_samples_split': 700}\n",
      "0.8086725798959943 0.011900251594191018 {'max_depth': 22, 'min_samples_split': 100}\n",
      "0.8086763662786198 0.012115065410343193 {'max_depth': 22, 'min_samples_split': 300}\n",
      "0.8086706729771928 0.012275488917251595 {'max_depth': 22, 'min_samples_split': 500}\n",
      "0.8086052712811252 0.012135404215309505 {'max_depth': 22, 'min_samples_split': 700}\n",
      "0.8088059879643812 0.011921814785886605 {'max_depth': 24, 'min_samples_split': 100}\n",
      "0.808826096184968 0.011911954612113185 {'max_depth': 24, 'min_samples_split': 300}\n",
      "0.8089161893825505 0.011958750150719072 {'max_depth': 24, 'min_samples_split': 500}\n",
      "0.8088405916067563 0.011960555749412282 {'max_depth': 24, 'min_samples_split': 700}\n"
     ]
    },
    {
     "data": {
      "text/plain": [
       "({'max_depth': 24, 'min_samples_split': 500}, 0.8089161893825505)"
      ]
     },
     "execution_count": 230,
     "metadata": {},
     "output_type": "execute_result"
    }
   ],
   "source": [
    "for n, m,v  in zip(gsearch2.cv_results_['mean_test_score'], gsearch2.cv_results_['std_test_score'], gsearch2.cv_results_['params']):\n",
    "    print(n,m,v)\n",
    "    \n",
    "gsearch2.best_params_, gsearch2.best_score_"
   ]
  },
  {
   "cell_type": "code",
   "execution_count": 233,
   "metadata": {},
   "outputs": [
    {
     "name": "stdout",
     "output_type": "stream",
     "text": [
      "0.8086637460457295 0.01198610747640979 {'max_depth': 25, 'min_samples_split': 100}\n",
      "0.8087124431597459 0.012009484952214919 {'max_depth': 25, 'min_samples_split': 300}\n",
      "0.8086513065085785 0.012045774938674628 {'max_depth': 25, 'min_samples_split': 500}\n",
      "0.8085675555462706 0.01200796237063235 {'max_depth': 25, 'min_samples_split': 700}\n",
      "0.8088688241000966 0.011928695389326026 {'max_depth': 27, 'min_samples_split': 100}\n",
      "0.8089693033204435 0.011983542086091344 {'max_depth': 27, 'min_samples_split': 300}\n",
      "0.8089940377723961 0.012000520417618104 {'max_depth': 27, 'min_samples_split': 500}\n",
      "0.8089006514424586 0.01203224661552907 {'max_depth': 27, 'min_samples_split': 700}\n",
      "0.808945520637155 0.011973781200242737 {'max_depth': 29, 'min_samples_split': 100}\n",
      "0.8090353952671931 0.011988599324726961 {'max_depth': 29, 'min_samples_split': 300}\n",
      "0.8090531420656157 0.012024721847645248 {'max_depth': 29, 'min_samples_split': 500}\n",
      "0.8089477710438574 0.01198321692728063 {'max_depth': 29, 'min_samples_split': 700}\n",
      "0.8088761106786713 0.012019343584938169 {'max_depth': 31, 'min_samples_split': 100}\n",
      "0.8087985928972337 0.012088775825308845 {'max_depth': 31, 'min_samples_split': 300}\n",
      "0.8088792609550637 0.012138301725421767 {'max_depth': 31, 'min_samples_split': 500}\n",
      "0.808823654593135 0.012097400596559987 {'max_depth': 31, 'min_samples_split': 700}\n",
      "0.8088947532700322 0.012147031594905782 {'max_depth': 33, 'min_samples_split': 100}\n",
      "0.8088818907025299 0.01206764607001679 {'max_depth': 33, 'min_samples_split': 300}\n",
      "0.808864617868584 0.012085479869075629 {'max_depth': 33, 'min_samples_split': 500}\n",
      "0.8087855145938437 0.012129600184730038 {'max_depth': 33, 'min_samples_split': 700}\n"
     ]
    },
    {
     "data": {
      "text/plain": [
       "({'max_depth': 29, 'min_samples_split': 500}, 0.8090531420656157)"
      ]
     },
     "execution_count": 233,
     "metadata": {},
     "output_type": "execute_result"
    }
   ],
   "source": [
    "for n, m,v  in zip(gsearch2.cv_results_['mean_test_score'], gsearch2.cv_results_['std_test_score'], gsearch2.cv_results_['params']):\n",
    "    print(n,m,v)\n",
    "    \n",
    "gsearch2.best_params_, gsearch2.best_score_"
   ]
  },
  {
   "cell_type": "code",
   "execution_count": 310,
   "metadata": {},
   "outputs": [
    {
     "ename": "ValueError",
     "evalue": "could not convert string to float: 'i had to trigger article 50. it would have been too embarrassing otherwise. \"so you\\'re going to leave the eu... out of embarrassment?\"'",
     "output_type": "error",
     "traceback": [
      "\u001b[1;31m---------------------------------------------------------------------------\u001b[0m",
      "\u001b[1;31mValueError\u001b[0m                                Traceback (most recent call last)",
      "\u001b[1;32m<ipython-input-310-4c9afb44873a>\u001b[0m in \u001b[0;36m<module>\u001b[1;34m\u001b[0m\n\u001b[0;32m     11\u001b[0m                                         verbose=0, warm_start=False)\n\u001b[0;32m     12\u001b[0m \u001b[0mrf_o\u001b[0m\u001b[1;33m=\u001b[0m\u001b[0mRF_optimal\u001b[0m\u001b[1;33m.\u001b[0m\u001b[0mfit\u001b[0m\u001b[1;33m(\u001b[0m\u001b[0mXtrain1\u001b[0m\u001b[1;33m,\u001b[0m\u001b[0mYtrain1\u001b[0m\u001b[1;33m)\u001b[0m\u001b[1;33m\u001b[0m\u001b[1;33m\u001b[0m\u001b[0m\n\u001b[1;32m---> 13\u001b[1;33m \u001b[0mfr_o_guess\u001b[0m\u001b[1;33m=\u001b[0m\u001b[0mRF_optimal\u001b[0m\u001b[1;33m.\u001b[0m\u001b[0mpredict\u001b[0m\u001b[1;33m(\u001b[0m\u001b[0mXfinal\u001b[0m\u001b[1;33m)\u001b[0m\u001b[1;33m\u001b[0m\u001b[1;33m\u001b[0m\u001b[0m\n\u001b[0m\u001b[0;32m     14\u001b[0m \u001b[0maccuracy_score\u001b[0m\u001b[1;33m(\u001b[0m\u001b[0mYtest1\u001b[0m\u001b[1;33m,\u001b[0m \u001b[0mfr_o_guess\u001b[0m\u001b[1;33m)\u001b[0m\u001b[1;33m\u001b[0m\u001b[1;33m\u001b[0m\u001b[0m\n",
      "\u001b[1;32m~\\Anaconda3\\lib\\site-packages\\sklearn\\ensemble\\_forest.py\u001b[0m in \u001b[0;36mpredict\u001b[1;34m(self, X)\u001b[0m\n\u001b[0;32m    610\u001b[0m             \u001b[0mThe\u001b[0m \u001b[0mpredicted\u001b[0m \u001b[0mclasses\u001b[0m\u001b[1;33m.\u001b[0m\u001b[1;33m\u001b[0m\u001b[1;33m\u001b[0m\u001b[0m\n\u001b[0;32m    611\u001b[0m         \"\"\"\n\u001b[1;32m--> 612\u001b[1;33m         \u001b[0mproba\u001b[0m \u001b[1;33m=\u001b[0m \u001b[0mself\u001b[0m\u001b[1;33m.\u001b[0m\u001b[0mpredict_proba\u001b[0m\u001b[1;33m(\u001b[0m\u001b[0mX\u001b[0m\u001b[1;33m)\u001b[0m\u001b[1;33m\u001b[0m\u001b[1;33m\u001b[0m\u001b[0m\n\u001b[0m\u001b[0;32m    613\u001b[0m \u001b[1;33m\u001b[0m\u001b[0m\n\u001b[0;32m    614\u001b[0m         \u001b[1;32mif\u001b[0m \u001b[0mself\u001b[0m\u001b[1;33m.\u001b[0m\u001b[0mn_outputs_\u001b[0m \u001b[1;33m==\u001b[0m \u001b[1;36m1\u001b[0m\u001b[1;33m:\u001b[0m\u001b[1;33m\u001b[0m\u001b[1;33m\u001b[0m\u001b[0m\n",
      "\u001b[1;32m~\\Anaconda3\\lib\\site-packages\\sklearn\\ensemble\\_forest.py\u001b[0m in \u001b[0;36mpredict_proba\u001b[1;34m(self, X)\u001b[0m\n\u001b[0;32m    654\u001b[0m         \u001b[0mcheck_is_fitted\u001b[0m\u001b[1;33m(\u001b[0m\u001b[0mself\u001b[0m\u001b[1;33m)\u001b[0m\u001b[1;33m\u001b[0m\u001b[1;33m\u001b[0m\u001b[0m\n\u001b[0;32m    655\u001b[0m         \u001b[1;31m# Check data\u001b[0m\u001b[1;33m\u001b[0m\u001b[1;33m\u001b[0m\u001b[1;33m\u001b[0m\u001b[0m\n\u001b[1;32m--> 656\u001b[1;33m         \u001b[0mX\u001b[0m \u001b[1;33m=\u001b[0m \u001b[0mself\u001b[0m\u001b[1;33m.\u001b[0m\u001b[0m_validate_X_predict\u001b[0m\u001b[1;33m(\u001b[0m\u001b[0mX\u001b[0m\u001b[1;33m)\u001b[0m\u001b[1;33m\u001b[0m\u001b[1;33m\u001b[0m\u001b[0m\n\u001b[0m\u001b[0;32m    657\u001b[0m \u001b[1;33m\u001b[0m\u001b[0m\n\u001b[0;32m    658\u001b[0m         \u001b[1;31m# Assign chunk of trees to jobs\u001b[0m\u001b[1;33m\u001b[0m\u001b[1;33m\u001b[0m\u001b[1;33m\u001b[0m\u001b[0m\n",
      "\u001b[1;32m~\\Anaconda3\\lib\\site-packages\\sklearn\\ensemble\\_forest.py\u001b[0m in \u001b[0;36m_validate_X_predict\u001b[1;34m(self, X)\u001b[0m\n\u001b[0;32m    410\u001b[0m         \u001b[0mcheck_is_fitted\u001b[0m\u001b[1;33m(\u001b[0m\u001b[0mself\u001b[0m\u001b[1;33m)\u001b[0m\u001b[1;33m\u001b[0m\u001b[1;33m\u001b[0m\u001b[0m\n\u001b[0;32m    411\u001b[0m \u001b[1;33m\u001b[0m\u001b[0m\n\u001b[1;32m--> 412\u001b[1;33m         \u001b[1;32mreturn\u001b[0m \u001b[0mself\u001b[0m\u001b[1;33m.\u001b[0m\u001b[0mestimators_\u001b[0m\u001b[1;33m[\u001b[0m\u001b[1;36m0\u001b[0m\u001b[1;33m]\u001b[0m\u001b[1;33m.\u001b[0m\u001b[0m_validate_X_predict\u001b[0m\u001b[1;33m(\u001b[0m\u001b[0mX\u001b[0m\u001b[1;33m,\u001b[0m \u001b[0mcheck_input\u001b[0m\u001b[1;33m=\u001b[0m\u001b[1;32mTrue\u001b[0m\u001b[1;33m)\u001b[0m\u001b[1;33m\u001b[0m\u001b[1;33m\u001b[0m\u001b[0m\n\u001b[0m\u001b[0;32m    413\u001b[0m \u001b[1;33m\u001b[0m\u001b[0m\n\u001b[0;32m    414\u001b[0m     \u001b[1;33m@\u001b[0m\u001b[0mproperty\u001b[0m\u001b[1;33m\u001b[0m\u001b[1;33m\u001b[0m\u001b[0m\n",
      "\u001b[1;32m~\\Anaconda3\\lib\\site-packages\\sklearn\\tree\\_classes.py\u001b[0m in \u001b[0;36m_validate_X_predict\u001b[1;34m(self, X, check_input)\u001b[0m\n\u001b[0;32m    378\u001b[0m         \u001b[1;34m\"\"\"Validate X whenever one tries to predict, apply, predict_proba\"\"\"\u001b[0m\u001b[1;33m\u001b[0m\u001b[1;33m\u001b[0m\u001b[0m\n\u001b[0;32m    379\u001b[0m         \u001b[1;32mif\u001b[0m \u001b[0mcheck_input\u001b[0m\u001b[1;33m:\u001b[0m\u001b[1;33m\u001b[0m\u001b[1;33m\u001b[0m\u001b[0m\n\u001b[1;32m--> 380\u001b[1;33m             \u001b[0mX\u001b[0m \u001b[1;33m=\u001b[0m \u001b[0mcheck_array\u001b[0m\u001b[1;33m(\u001b[0m\u001b[0mX\u001b[0m\u001b[1;33m,\u001b[0m \u001b[0mdtype\u001b[0m\u001b[1;33m=\u001b[0m\u001b[0mDTYPE\u001b[0m\u001b[1;33m,\u001b[0m \u001b[0maccept_sparse\u001b[0m\u001b[1;33m=\u001b[0m\u001b[1;34m\"csr\"\u001b[0m\u001b[1;33m)\u001b[0m\u001b[1;33m\u001b[0m\u001b[1;33m\u001b[0m\u001b[0m\n\u001b[0m\u001b[0;32m    381\u001b[0m             if issparse(X) and (X.indices.dtype != np.intc or\n\u001b[0;32m    382\u001b[0m                                 X.indptr.dtype != np.intc):\n",
      "\u001b[1;32m~\\Anaconda3\\lib\\site-packages\\sklearn\\utils\\validation.py\u001b[0m in \u001b[0;36mcheck_array\u001b[1;34m(array, accept_sparse, accept_large_sparse, dtype, order, copy, force_all_finite, ensure_2d, allow_nd, ensure_min_samples, ensure_min_features, warn_on_dtype, estimator)\u001b[0m\n\u001b[0;32m    529\u001b[0m                     \u001b[0marray\u001b[0m \u001b[1;33m=\u001b[0m \u001b[0marray\u001b[0m\u001b[1;33m.\u001b[0m\u001b[0mastype\u001b[0m\u001b[1;33m(\u001b[0m\u001b[0mdtype\u001b[0m\u001b[1;33m,\u001b[0m \u001b[0mcasting\u001b[0m\u001b[1;33m=\u001b[0m\u001b[1;34m\"unsafe\"\u001b[0m\u001b[1;33m,\u001b[0m \u001b[0mcopy\u001b[0m\u001b[1;33m=\u001b[0m\u001b[1;32mFalse\u001b[0m\u001b[1;33m)\u001b[0m\u001b[1;33m\u001b[0m\u001b[1;33m\u001b[0m\u001b[0m\n\u001b[0;32m    530\u001b[0m                 \u001b[1;32melse\u001b[0m\u001b[1;33m:\u001b[0m\u001b[1;33m\u001b[0m\u001b[1;33m\u001b[0m\u001b[0m\n\u001b[1;32m--> 531\u001b[1;33m                     \u001b[0marray\u001b[0m \u001b[1;33m=\u001b[0m \u001b[0mnp\u001b[0m\u001b[1;33m.\u001b[0m\u001b[0masarray\u001b[0m\u001b[1;33m(\u001b[0m\u001b[0marray\u001b[0m\u001b[1;33m,\u001b[0m \u001b[0morder\u001b[0m\u001b[1;33m=\u001b[0m\u001b[0morder\u001b[0m\u001b[1;33m,\u001b[0m \u001b[0mdtype\u001b[0m\u001b[1;33m=\u001b[0m\u001b[0mdtype\u001b[0m\u001b[1;33m)\u001b[0m\u001b[1;33m\u001b[0m\u001b[1;33m\u001b[0m\u001b[0m\n\u001b[0m\u001b[0;32m    532\u001b[0m             \u001b[1;32mexcept\u001b[0m \u001b[0mComplexWarning\u001b[0m\u001b[1;33m:\u001b[0m\u001b[1;33m\u001b[0m\u001b[1;33m\u001b[0m\u001b[0m\n\u001b[0;32m    533\u001b[0m                 raise ValueError(\"Complex data not supported\\n\"\n",
      "\u001b[1;32m~\\Anaconda3\\lib\\site-packages\\numpy\\core\\_asarray.py\u001b[0m in \u001b[0;36masarray\u001b[1;34m(a, dtype, order)\u001b[0m\n\u001b[0;32m     83\u001b[0m \u001b[1;33m\u001b[0m\u001b[0m\n\u001b[0;32m     84\u001b[0m     \"\"\"\n\u001b[1;32m---> 85\u001b[1;33m     \u001b[1;32mreturn\u001b[0m \u001b[0marray\u001b[0m\u001b[1;33m(\u001b[0m\u001b[0ma\u001b[0m\u001b[1;33m,\u001b[0m \u001b[0mdtype\u001b[0m\u001b[1;33m,\u001b[0m \u001b[0mcopy\u001b[0m\u001b[1;33m=\u001b[0m\u001b[1;32mFalse\u001b[0m\u001b[1;33m,\u001b[0m \u001b[0morder\u001b[0m\u001b[1;33m=\u001b[0m\u001b[0morder\u001b[0m\u001b[1;33m)\u001b[0m\u001b[1;33m\u001b[0m\u001b[1;33m\u001b[0m\u001b[0m\n\u001b[0m\u001b[0;32m     86\u001b[0m \u001b[1;33m\u001b[0m\u001b[0m\n\u001b[0;32m     87\u001b[0m \u001b[1;33m\u001b[0m\u001b[0m\n",
      "\u001b[1;32m~\\Anaconda3\\lib\\site-packages\\pandas\\core\\series.py\u001b[0m in \u001b[0;36m__array__\u001b[1;34m(self, dtype)\u001b[0m\n\u001b[0;32m    752\u001b[0m               dtype='datetime64[ns]')\n\u001b[0;32m    753\u001b[0m         \"\"\"\n\u001b[1;32m--> 754\u001b[1;33m         \u001b[1;32mreturn\u001b[0m \u001b[0mnp\u001b[0m\u001b[1;33m.\u001b[0m\u001b[0masarray\u001b[0m\u001b[1;33m(\u001b[0m\u001b[0mself\u001b[0m\u001b[1;33m.\u001b[0m\u001b[0marray\u001b[0m\u001b[1;33m,\u001b[0m \u001b[0mdtype\u001b[0m\u001b[1;33m)\u001b[0m\u001b[1;33m\u001b[0m\u001b[1;33m\u001b[0m\u001b[0m\n\u001b[0m\u001b[0;32m    755\u001b[0m \u001b[1;33m\u001b[0m\u001b[0m\n\u001b[0;32m    756\u001b[0m     \u001b[1;31m# ----------------------------------------------------------------------\u001b[0m\u001b[1;33m\u001b[0m\u001b[1;33m\u001b[0m\u001b[1;33m\u001b[0m\u001b[0m\n",
      "\u001b[1;32m~\\Anaconda3\\lib\\site-packages\\numpy\\core\\_asarray.py\u001b[0m in \u001b[0;36masarray\u001b[1;34m(a, dtype, order)\u001b[0m\n\u001b[0;32m     83\u001b[0m \u001b[1;33m\u001b[0m\u001b[0m\n\u001b[0;32m     84\u001b[0m     \"\"\"\n\u001b[1;32m---> 85\u001b[1;33m     \u001b[1;32mreturn\u001b[0m \u001b[0marray\u001b[0m\u001b[1;33m(\u001b[0m\u001b[0ma\u001b[0m\u001b[1;33m,\u001b[0m \u001b[0mdtype\u001b[0m\u001b[1;33m,\u001b[0m \u001b[0mcopy\u001b[0m\u001b[1;33m=\u001b[0m\u001b[1;32mFalse\u001b[0m\u001b[1;33m,\u001b[0m \u001b[0morder\u001b[0m\u001b[1;33m=\u001b[0m\u001b[0morder\u001b[0m\u001b[1;33m)\u001b[0m\u001b[1;33m\u001b[0m\u001b[1;33m\u001b[0m\u001b[0m\n\u001b[0m\u001b[0;32m     86\u001b[0m \u001b[1;33m\u001b[0m\u001b[0m\n\u001b[0;32m     87\u001b[0m \u001b[1;33m\u001b[0m\u001b[0m\n",
      "\u001b[1;32m~\\Anaconda3\\lib\\site-packages\\pandas\\core\\arrays\\numpy_.py\u001b[0m in \u001b[0;36m__array__\u001b[1;34m(self, dtype)\u001b[0m\n\u001b[0;32m    182\u001b[0m \u001b[1;33m\u001b[0m\u001b[0m\n\u001b[0;32m    183\u001b[0m     \u001b[1;32mdef\u001b[0m \u001b[0m__array__\u001b[0m\u001b[1;33m(\u001b[0m\u001b[0mself\u001b[0m\u001b[1;33m,\u001b[0m \u001b[0mdtype\u001b[0m\u001b[1;33m=\u001b[0m\u001b[1;32mNone\u001b[0m\u001b[1;33m)\u001b[0m \u001b[1;33m->\u001b[0m \u001b[0mnp\u001b[0m\u001b[1;33m.\u001b[0m\u001b[0mndarray\u001b[0m\u001b[1;33m:\u001b[0m\u001b[1;33m\u001b[0m\u001b[1;33m\u001b[0m\u001b[0m\n\u001b[1;32m--> 184\u001b[1;33m         \u001b[1;32mreturn\u001b[0m \u001b[0mnp\u001b[0m\u001b[1;33m.\u001b[0m\u001b[0masarray\u001b[0m\u001b[1;33m(\u001b[0m\u001b[0mself\u001b[0m\u001b[1;33m.\u001b[0m\u001b[0m_ndarray\u001b[0m\u001b[1;33m,\u001b[0m \u001b[0mdtype\u001b[0m\u001b[1;33m=\u001b[0m\u001b[0mdtype\u001b[0m\u001b[1;33m)\u001b[0m\u001b[1;33m\u001b[0m\u001b[1;33m\u001b[0m\u001b[0m\n\u001b[0m\u001b[0;32m    185\u001b[0m \u001b[1;33m\u001b[0m\u001b[0m\n\u001b[0;32m    186\u001b[0m     \u001b[0m_HANDLED_TYPES\u001b[0m \u001b[1;33m=\u001b[0m \u001b[1;33m(\u001b[0m\u001b[0mnp\u001b[0m\u001b[1;33m.\u001b[0m\u001b[0mndarray\u001b[0m\u001b[1;33m,\u001b[0m \u001b[0mnumbers\u001b[0m\u001b[1;33m.\u001b[0m\u001b[0mNumber\u001b[0m\u001b[1;33m)\u001b[0m\u001b[1;33m\u001b[0m\u001b[1;33m\u001b[0m\u001b[0m\n",
      "\u001b[1;32m~\\Anaconda3\\lib\\site-packages\\numpy\\core\\_asarray.py\u001b[0m in \u001b[0;36masarray\u001b[1;34m(a, dtype, order)\u001b[0m\n\u001b[0;32m     83\u001b[0m \u001b[1;33m\u001b[0m\u001b[0m\n\u001b[0;32m     84\u001b[0m     \"\"\"\n\u001b[1;32m---> 85\u001b[1;33m     \u001b[1;32mreturn\u001b[0m \u001b[0marray\u001b[0m\u001b[1;33m(\u001b[0m\u001b[0ma\u001b[0m\u001b[1;33m,\u001b[0m \u001b[0mdtype\u001b[0m\u001b[1;33m,\u001b[0m \u001b[0mcopy\u001b[0m\u001b[1;33m=\u001b[0m\u001b[1;32mFalse\u001b[0m\u001b[1;33m,\u001b[0m \u001b[0morder\u001b[0m\u001b[1;33m=\u001b[0m\u001b[0morder\u001b[0m\u001b[1;33m)\u001b[0m\u001b[1;33m\u001b[0m\u001b[1;33m\u001b[0m\u001b[0m\n\u001b[0m\u001b[0;32m     86\u001b[0m \u001b[1;33m\u001b[0m\u001b[0m\n\u001b[0;32m     87\u001b[0m \u001b[1;33m\u001b[0m\u001b[0m\n",
      "\u001b[1;31mValueError\u001b[0m: could not convert string to float: 'i had to trigger article 50. it would have been too embarrassing otherwise. \"so you\\'re going to leave the eu... out of embarrassment?\"'"
     ]
    }
   ],
   "source": [
    "RF_optimal=RandomForestClassifier(bootstrap=True, ccp_alpha=0.0,\n",
    "                                        class_weight=None, criterion='gini',\n",
    "                                        max_depth=None, max_features='sqrt',\n",
    "                                        max_leaf_nodes=None, max_samples=None,\n",
    "                                        min_impurity_decrease=0.0,\n",
    "                                        min_impurity_split=None,\n",
    "                                        min_samples_leaf=1, min_samples_split=500,\n",
    "                                        min_weight_fraction_leaf=0.0,\n",
    "                                        n_estimators=430, n_jobs=-1,\n",
    "                                        oob_score=True, random_state=10,\n",
    "                                        verbose=0, warm_start=False)\n",
    "rf_o=RF_optimal.fit(Xtrain1,Ytrain1)\n",
    "fr_o_guess=RF_optimal.predict(Xfinal)\n",
    "accuracy_score(Ytest1, fr_o_guess)"
   ]
  },
  {
   "cell_type": "markdown",
   "metadata": {},
   "source": [
    "# min_samples_split and min_samples_leaf\n"
   ]
  },
  {
   "cell_type": "code",
   "execution_count": 255,
   "metadata": {},
   "outputs": [
    {
     "name": "stderr",
     "output_type": "stream",
     "text": [
      "C:\\Users\\bishe\\Anaconda3\\lib\\site-packages\\sklearn\\model_selection\\_search.py:823: FutureWarning: The parameter 'iid' is deprecated in 0.22 and will be removed in 0.24.\n",
      "  \"removed in 0.24.\", FutureWarning\n"
     ]
    },
    {
     "data": {
      "text/plain": [
       "GridSearchCV(cv=5, error_score=nan,\n",
       "             estimator=RandomForestClassifier(bootstrap=True, ccp_alpha=0.0,\n",
       "                                              class_weight=None,\n",
       "                                              criterion='gini', max_depth=29,\n",
       "                                              max_features='sqrt',\n",
       "                                              max_leaf_nodes=None,\n",
       "                                              max_samples=None,\n",
       "                                              min_impurity_decrease=0.0,\n",
       "                                              min_impurity_split=None,\n",
       "                                              min_samples_leaf=1,\n",
       "                                              min_samples_split=2,\n",
       "                                              min_weight_fraction_leaf=0.0,\n",
       "                                              n_estimators=430, n_jobs=None,\n",
       "                                              oob_score=True, random_state=10,\n",
       "                                              verbose=0, warm_start=False),\n",
       "             iid=False, n_jobs=None,\n",
       "             param_grid={'min_samples_leaf': range(1, 10, 2),\n",
       "                         'min_samples_split': range(300, 1700, 200)},\n",
       "             pre_dispatch='2*n_jobs', refit=True, return_train_score=False,\n",
       "             scoring='roc_auc', verbose=0)"
      ]
     },
     "execution_count": 255,
     "metadata": {},
     "output_type": "execute_result"
    }
   ],
   "source": [
    "param_test3 = {'min_samples_split':range(300,1700,200), 'min_samples_leaf':range(1,10,2)}\n",
    "gsearch3 = GridSearchCV(estimator = RandomForestClassifier(n_estimators= 430, max_depth=29,\n",
    "                                  max_features='sqrt' ,oob_score=True, random_state=10),\n",
    "   param_grid = param_test3, scoring='roc_auc',iid=False, cv=5)\n",
    "gsearch3.fit(Xtrain1,Ytrain1)"
   ]
  },
  {
   "cell_type": "code",
   "execution_count": 256,
   "metadata": {},
   "outputs": [
    {
     "name": "stdout",
     "output_type": "stream",
     "text": [
      "0.8284334902141444 0.01193354076737259 {'min_samples_leaf': 1, 'min_samples_split': 300}\n",
      "0.827793902509735 0.012071216855663189 {'min_samples_leaf': 1, 'min_samples_split': 500}\n",
      "0.8266025114352221 0.01235941363311659 {'min_samples_leaf': 1, 'min_samples_split': 700}\n",
      "0.8251499917135847 0.012286108894710893 {'min_samples_leaf': 1, 'min_samples_split': 900}\n",
      "0.8233589083565279 0.012581894275001422 {'min_samples_leaf': 1, 'min_samples_split': 1100}\n",
      "0.8225697892920412 0.012773668888614972 {'min_samples_leaf': 1, 'min_samples_split': 1300}\n",
      "0.8224434187271893 0.012905268881591239 {'min_samples_leaf': 1, 'min_samples_split': 1500}\n",
      "0.8292123728319055 0.01196732225268243 {'min_samples_leaf': 3, 'min_samples_split': 300}\n",
      "0.8285148861283936 0.012057371425139143 {'min_samples_leaf': 3, 'min_samples_split': 500}\n",
      "0.8270353372706636 0.012325838514813791 {'min_samples_leaf': 3, 'min_samples_split': 700}\n",
      "0.8252633793550919 0.012327913129094403 {'min_samples_leaf': 3, 'min_samples_split': 900}\n",
      "0.823363184124525 0.012627246900617884 {'min_samples_leaf': 3, 'min_samples_split': 1100}\n",
      "0.8226359435522564 0.012745816921471151 {'min_samples_leaf': 3, 'min_samples_split': 1300}\n",
      "0.8224845156723557 0.012918470805964121 {'min_samples_leaf': 3, 'min_samples_split': 1500}\n",
      "0.828811041862776 0.011899433244160488 {'min_samples_leaf': 5, 'min_samples_split': 300}\n",
      "0.8281952632150148 0.011929294278665634 {'min_samples_leaf': 5, 'min_samples_split': 500}\n",
      "0.827035827814554 0.0122366513008802 {'min_samples_leaf': 5, 'min_samples_split': 700}\n",
      "0.8251495940725609 0.012721142513956387 {'min_samples_leaf': 5, 'min_samples_split': 900}\n",
      "0.8234278985635436 0.012820068747163288 {'min_samples_leaf': 5, 'min_samples_split': 1100}\n",
      "0.8227767708093372 0.012934996071256873 {'min_samples_leaf': 5, 'min_samples_split': 1300}\n",
      "0.8226473384755943 0.013075143713859474 {'min_samples_leaf': 5, 'min_samples_split': 1500}\n",
      "0.8270903445045447 0.011396926560496262 {'min_samples_leaf': 7, 'min_samples_split': 300}\n",
      "0.8268797782055802 0.011412167629105656 {'min_samples_leaf': 7, 'min_samples_split': 500}\n",
      "0.8258573609530886 0.012100869234232271 {'min_samples_leaf': 7, 'min_samples_split': 700}\n",
      "0.8242865257820352 0.012310673975085815 {'min_samples_leaf': 7, 'min_samples_split': 900}\n",
      "0.8229677915039867 0.012488547268816156 {'min_samples_leaf': 7, 'min_samples_split': 1100}\n",
      "0.8223944408167367 0.01268043775153383 {'min_samples_leaf': 7, 'min_samples_split': 1300}\n",
      "0.8221746878712543 0.012780662969017005 {'min_samples_leaf': 7, 'min_samples_split': 1500}\n",
      "0.8250707566205886 0.011734992219679628 {'min_samples_leaf': 9, 'min_samples_split': 300}\n",
      "0.824906597115004 0.011755427439173646 {'min_samples_leaf': 9, 'min_samples_split': 500}\n",
      "0.8243498917460215 0.011770799670572473 {'min_samples_leaf': 9, 'min_samples_split': 700}\n",
      "0.8228632107688831 0.012026445062458537 {'min_samples_leaf': 9, 'min_samples_split': 900}\n",
      "0.8217085964626525 0.012211888014834782 {'min_samples_leaf': 9, 'min_samples_split': 1100}\n",
      "0.8211236447579899 0.012282745604578238 {'min_samples_leaf': 9, 'min_samples_split': 1300}\n",
      "0.821019778927082 0.012242851502923069 {'min_samples_leaf': 9, 'min_samples_split': 1500}\n"
     ]
    },
    {
     "data": {
      "text/plain": [
       "({'min_samples_leaf': 3, 'min_samples_split': 300}, 0.8292123728319055)"
      ]
     },
     "execution_count": 256,
     "metadata": {},
     "output_type": "execute_result"
    }
   ],
   "source": [
    "for n, m,v  in zip(gsearch3.cv_results_['mean_test_score'], gsearch3.cv_results_['std_test_score'], gsearch3.cv_results_['params']):\n",
    "    print(n,m,v)\n",
    "    \n",
    "gsearch3.best_params_, gsearch3.best_score_"
   ]
  },
  {
   "cell_type": "code",
   "execution_count": 318,
   "metadata": {},
   "outputs": [
    {
     "data": {
      "text/plain": [
       "0.7705588368923216"
      ]
     },
     "execution_count": 318,
     "metadata": {},
     "output_type": "execute_result"
    }
   ],
   "source": [
    "RF_optimal=RandomForestClassifier(bootstrap=True, ccp_alpha=0.0,\n",
    "                                        class_weight=None, criterion='gini',\n",
    "                                        max_depth=None, max_features='sqrt',\n",
    "                                        max_leaf_nodes=None, max_samples=None,\n",
    "                                        min_impurity_decrease=0.0,\n",
    "                                        min_impurity_split=None,\n",
    "                                        min_samples_leaf=1, min_samples_split=2,\n",
    "                                        min_weight_fraction_leaf=0.0,\n",
    "                                        n_estimators=430, n_jobs=-1,\n",
    "                                        oob_score=True, random_state=10,\n",
    "                                        verbose=0, warm_start=False)\n",
    "rf_o=RF_optimal.fit(Xtrain1,Ytrain1)\n",
    "fr_o_guess=RF_optimal.predict(Xtest1)\n",
    "accuracy_score(Ytest1, fr_o_guess)"
   ]
  },
  {
   "cell_type": "markdown",
   "metadata": {},
   "source": [
    "# max_features"
   ]
  },
  {
   "cell_type": "code",
   "execution_count": 263,
   "metadata": {},
   "outputs": [
    {
     "name": "stderr",
     "output_type": "stream",
     "text": [
      "C:\\Users\\bishe\\Anaconda3\\lib\\site-packages\\sklearn\\model_selection\\_search.py:823: FutureWarning: The parameter 'iid' is deprecated in 0.22 and will be removed in 0.24.\n",
      "  \"removed in 0.24.\", FutureWarning\n"
     ]
    },
    {
     "data": {
      "text/plain": [
       "GridSearchCV(cv=5, error_score=nan,\n",
       "             estimator=RandomForestClassifier(bootstrap=True, ccp_alpha=0.0,\n",
       "                                              class_weight=None,\n",
       "                                              criterion='gini', max_depth=29,\n",
       "                                              max_features='auto',\n",
       "                                              max_leaf_nodes=None,\n",
       "                                              max_samples=None,\n",
       "                                              min_impurity_decrease=0.0,\n",
       "                                              min_impurity_split=None,\n",
       "                                              min_samples_leaf=3,\n",
       "                                              min_samples_split=300,\n",
       "                                              min_weight_fraction_leaf=0.0,\n",
       "                                              n_estimators=430, n_jobs=None,\n",
       "                                              oob_score=True, random_state=10,\n",
       "                                              verbose=0, warm_start=False),\n",
       "             iid=False, n_jobs=None, param_grid={'max_features': range(14, 40)},\n",
       "             pre_dispatch='2*n_jobs', refit=True, return_train_score=False,\n",
       "             scoring='roc_auc', verbose=0)"
      ]
     },
     "execution_count": 263,
     "metadata": {},
     "output_type": "execute_result"
    }
   ],
   "source": [
    "param_test4 = {'max_features':range(14,40,1)}\n",
    "gsearch4 = GridSearchCV(estimator = RandomForestClassifier(n_estimators= 430, max_depth=29, min_samples_split=300,\n",
    "                                  min_samples_leaf=3 ,oob_score=True, random_state=10),\n",
    "   param_grid = param_test4, scoring='roc_auc',iid=False, cv=5)\n",
    "gsearch4.fit(Xtrain1,Ytrain1)\n"
   ]
  },
  {
   "cell_type": "code",
   "execution_count": 264,
   "metadata": {},
   "outputs": [
    {
     "name": "stdout",
     "output_type": "stream",
     "text": [
      "0.8347356251599329 0.010849483825690388 {'max_features': 14}\n",
      "0.8358561445573416 0.008605086865618847 {'max_features': 15}\n",
      "0.8349613094406726 0.008703155882316743 {'max_features': 16}\n",
      "0.8369899697537029 0.009067425201861665 {'max_features': 17}\n",
      "0.8356535440891284 0.008209585080890168 {'max_features': 18}\n",
      "0.8377783831502832 0.008874655108768677 {'max_features': 19}\n",
      "0.8361873558835489 0.008944136516329467 {'max_features': 20}\n",
      "0.8391069775611225 0.0079147898199969 {'max_features': 21}\n",
      "0.8387974284602798 0.008579664462111152 {'max_features': 22}\n",
      "0.8368039047988596 0.00806685507538284 {'max_features': 23}\n",
      "0.8361928493564108 0.010470616478130896 {'max_features': 24}\n",
      "0.838586848327483 0.010029035591312277 {'max_features': 25}\n",
      "0.838952193720281 0.009153440725853711 {'max_features': 26}\n",
      "0.8388656021403984 0.008391125022995211 {'max_features': 27}\n",
      "0.8376900900138639 0.008324597875653471 {'max_features': 28}\n",
      "0.8381623277586302 0.009146923483818778 {'max_features': 29}\n",
      "0.838089458730197 0.010159873629897804 {'max_features': 30}\n",
      "0.8385342612724372 0.00826328789266037 {'max_features': 31}\n",
      "0.8364064764839394 0.009539442576596373 {'max_features': 32}\n",
      "0.8366385484113887 0.010363622992950483 {'max_features': 33}\n",
      "0.835413794759242 0.01062867227506448 {'max_features': 34}\n",
      "0.8369174476945658 0.009659418521696292 {'max_features': 35}\n",
      "0.8372673284133697 0.009428211939810425 {'max_features': 36}\n",
      "0.8375079030445359 0.010073131465565687 {'max_features': 37}\n",
      "0.8348188936372711 0.010106014165074966 {'max_features': 38}\n",
      "0.8361777777917887 0.011202791929768864 {'max_features': 39}\n"
     ]
    },
    {
     "data": {
      "text/plain": [
       "({'max_features': 21}, 0.8391069775611225)"
      ]
     },
     "execution_count": 264,
     "metadata": {},
     "output_type": "execute_result"
    }
   ],
   "source": [
    "for n, m,v  in zip(gsearch4.cv_results_['mean_test_score'], gsearch4.cv_results_['std_test_score'], gsearch4.cv_results_['params']):\n",
    "    print(n,m,v)\n",
    "    \n",
    "gsearch4.best_params_, gsearch4.best_score_"
   ]
  },
  {
   "cell_type": "code",
   "execution_count": 319,
   "metadata": {},
   "outputs": [
    {
     "data": {
      "text/plain": [
       "0.7760109041344844"
      ]
     },
     "execution_count": 319,
     "metadata": {},
     "output_type": "execute_result"
    }
   ],
   "source": [
    "RF_optimal=RandomForestClassifier(bootstrap=True, ccp_alpha=0.0,\n",
    "                                        class_weight=None, criterion='gini',\n",
    "                                        max_depth=None, max_features=21,\n",
    "                                        max_leaf_nodes=None, max_samples=None,\n",
    "                                        min_impurity_decrease=0.0,\n",
    "                                        min_impurity_split=None,\n",
    "                                        min_samples_leaf=1, min_samples_split=2,\n",
    "                                        min_weight_fraction_leaf=0.0,\n",
    "                                        n_estimators=430, n_jobs=-1,\n",
    "                                        oob_score=True, random_state=10,\n",
    "                                        verbose=0, warm_start=False)\n",
    "rf_o=RF_optimal.fit(Xtrain1,Ytrain1)\n",
    "fr_o_guess=RF_optimal.predict(Xtest1)\n",
    "accuracy_score(Ytest1, fr_o_guess)\n",
    "\n"
   ]
  },
  {
   "cell_type": "code",
   "execution_count": 299,
   "metadata": {},
   "outputs": [
    {
     "data": {
      "text/plain": [
       "False"
      ]
     },
     "execution_count": 299,
     "metadata": {},
     "output_type": "execute_result"
    }
   ],
   "source": [
    "RF_optimal.oob_score"
   ]
  },
  {
   "cell_type": "markdown",
   "metadata": {},
   "source": [
    "# Prediction"
   ]
  },
  {
   "cell_type": "code",
   "execution_count": null,
   "metadata": {
    "collapsed": true
   },
   "outputs": [],
   "source": []
  },
  {
   "cell_type": "code",
   "execution_count": 322,
   "metadata": {},
   "outputs": [
    {
     "data": {
      "text/plain": [
       "Pipeline(memory=None,\n",
       "         steps=[('tfidfvectorizer',\n",
       "                 TfidfVectorizer(analyzer='word', binary=False,\n",
       "                                 decode_error='strict',\n",
       "                                 dtype=<class 'numpy.float64'>,\n",
       "                                 encoding='utf-8', input='content',\n",
       "                                 lowercase=True, max_df=1.0, max_features=None,\n",
       "                                 min_df=1, ngram_range=(1, 1), norm='l2',\n",
       "                                 preprocessor=None, smooth_idf=True,\n",
       "                                 stop_words=None, strip_accents=None,\n",
       "                                 sublinear_tf=False,\n",
       "                                 token...\n",
       "                 RandomForestClassifier(bootstrap=True, ccp_alpha=0.0,\n",
       "                                        class_weight=None, criterion='gini',\n",
       "                                        max_depth=None, max_features=21,\n",
       "                                        max_leaf_nodes=None, max_samples=None,\n",
       "                                        min_impurity_decrease=0.0,\n",
       "                                        min_impurity_split=None,\n",
       "                                        min_samples_leaf=1, min_samples_split=2,\n",
       "                                        min_weight_fraction_leaf=0.0,\n",
       "                                        n_estimators=430, n_jobs=-1,\n",
       "                                        oob_score=True, random_state=10,\n",
       "                                        verbose=0, warm_start=False))],\n",
       "         verbose=False)"
      ]
     },
     "execution_count": 322,
     "metadata": {},
     "output_type": "execute_result"
    }
   ],
   "source": [
    "rf_o = make_pipeline(\n",
    "      TfidfVectorizer(),\n",
    "      RandomForestClassifier(bootstrap=True, ccp_alpha=0.0,\n",
    "                                        class_weight=None, criterion='gini',\n",
    "                                        max_depth=None, max_features=21,\n",
    "                                        max_leaf_nodes=None, max_samples=None,\n",
    "                                        min_impurity_decrease=0.0,\n",
    "                                        min_impurity_split=None,\n",
    "                                        min_samples_leaf=1, min_samples_split=2,\n",
    "                                        min_weight_fraction_leaf=0.0,\n",
    "                                        n_estimators=430, n_jobs=-1,\n",
    "                                        oob_score=True, random_state=10,\n",
    "                                        verbose=0, warm_start=False)\n",
    "    )\n",
    "\n",
    "rf_o.fit(Xtrain,Ytrain)"
   ]
  },
  {
   "cell_type": "code",
   "execution_count": 323,
   "metadata": {},
   "outputs": [
    {
     "data": {
      "text/plain": [
       "0.6988783433994823"
      ]
     },
     "execution_count": 323,
     "metadata": {},
     "output_type": "execute_result"
    }
   ],
   "source": [
    "Yguess_rf_o=rf_o.predict(Xfinal)\n",
    "Yguess_rf_o_n=Yguess_rf_o.astype(int)\n",
    "accuracy_score(Yfinal_n, Yguess_rf_o_n)\n",
    "\n"
   ]
  },
  {
   "cell_type": "code",
   "execution_count": 324,
   "metadata": {},
   "outputs": [
    {
     "data": {
      "text/plain": [
       "0.7454412837345004"
      ]
     },
     "execution_count": 324,
     "metadata": {},
     "output_type": "execute_result"
    }
   ],
   "source": [
    "f1_score(Yfinal_n, Yguess_rf_o_n)"
   ]
  },
  {
   "cell_type": "markdown",
   "metadata": {},
   "source": [
    "# Exhaustive search over specified parameter values for an estimator"
   ]
  },
  {
   "cell_type": "code",
   "execution_count": null,
   "metadata": {},
   "outputs": [],
   "source": []
  },
  {
   "cell_type": "code",
   "execution_count": null,
   "metadata": {},
   "outputs": [],
   "source": []
  },
  {
   "cell_type": "code",
   "execution_count": null,
   "metadata": {},
   "outputs": [],
   "source": []
  },
  {
   "cell_type": "code",
   "execution_count": null,
   "metadata": {},
   "outputs": [],
   "source": [
    "from sklearn import svm, datasets\n",
    "from sklearn.model_selection import GridSearchCV\n",
    ">>> iris = datasets.load_iris()\n",
    ">>> parameters = {'kernel':('linear', 'rbf'), 'C':[1, 10]}\n",
    ">>> svc = svm.SVC()\n",
    ">>> clf = GridSearchCV(svc, parameters)\n",
    ">>> clf.fit(iris.data, iris.target)\n",
    "GridSearchCV(estimator=SVC(),\n",
    "             param_grid={'C': [1, 10], 'kernel': ('linear', 'rbf')})\n",
    ">>> sorted(clf.cv_results_.keys())\n",
    "['mean_fit_time', 'mean_score_time', 'mean_test_score',...\n",
    " 'param_C', 'param_kernel', 'params',...\n",
    " 'rank_test_score', 'split0_test_score',...\n",
    " 'split2_test_score', ...\n",
    " 'std_fit_time', 'std_score_time', 'std_test_score']"
   ]
  },
  {
   "cell_type": "markdown",
   "metadata": {},
   "source": [
    "# 2.2.3 Neural network"
   ]
  },
  {
   "cell_type": "code",
   "execution_count": 230,
   "metadata": {},
   "outputs": [
    {
     "data": {
      "text/plain": [
       "0.7364834166288051"
      ]
     },
     "execution_count": 230,
     "metadata": {},
     "output_type": "execute_result"
    }
   ],
   "source": [
    "from sklearn.neural_network import MLPClassifier\n",
    "mlpc = MLPClassifier(max_iter=1000,random_state=10)\n",
    "mlpc= mlpc.fit(Xtrain,Ytrain)\n",
    "Yguess_mlpc = mlpc.predict(Xtest)\n",
    "accuracy_score(Ytest, Yguess_mlpc)"
   ]
  },
  {
   "cell_type": "code",
   "execution_count": 233,
   "metadata": {},
   "outputs": [
    {
     "name": "stdout",
     "output_type": "stream",
     "text": [
      "The optimal threshold is 0.57\n",
      "Accuracy : 0.7365\n",
      "AUC Score (Train): 0.804708\n"
     ]
    }
   ],
   "source": [
    "Yguess_mlpc = mlpc.predict(Xtest)\n",
    "Ypredprob_mlpc = mlpc.predict_proba(Xtest)[:,1]\n",
    "Ytest_n=Ytest.astype(int)\n",
    "fpr_mlpc, tpr_mlpc, threshold_mlpc = roc_curve(Ytest_n, Ypredprob_mlpc)\n",
    "roc_auc_mlpc = auc(fpr_mlpc, tpr_mlpc)\n",
    "optimal_idx_mlpc = np.argmax(tpr_mlpc - fpr_mlpc)\n",
    "optimal_threshold_mlpc = threshold_mlpc[optimal_idx_mlpc]\n",
    "print('The optimal threshold is %0.2f' %optimal_threshold_mlpc)\n",
    "print (\"Accuracy : %.4f\" % accuracy_score(Ytest, Yguess_mlpc))\n",
    "print (\"AUC Score (Train): %f\" % roc_auc_score(Ytest, Ypredprob_mlpc))"
   ]
  },
  {
   "cell_type": "code",
   "execution_count": 81,
   "metadata": {},
   "outputs": [
    {
     "data": {
      "text/plain": [
       "0.749204906860518"
      ]
     },
     "execution_count": 81,
     "metadata": {},
     "output_type": "execute_result"
    }
   ],
   "source": [
    "Yguess_mlpc = mlpc.predict(Xtest)\n",
    "accuracy_score(Ytest, Yguess_mlpc)"
   ]
  },
  {
   "cell_type": "code",
   "execution_count": null,
   "metadata": {},
   "outputs": [],
   "source": [
    "Ytrain"
   ]
  },
  {
   "cell_type": "code",
   "execution_count": 55,
   "metadata": {},
   "outputs": [],
   "source": [
    "#test2"
   ]
  },
  {
   "cell_type": "code",
   "execution_count": 56,
   "metadata": {},
   "outputs": [
    {
     "ename": "ValueError",
     "evalue": "too many values to unpack (expected 2)",
     "output_type": "error",
     "traceback": [
      "\u001b[1;31m---------------------------------------------------------------------------\u001b[0m",
      "\u001b[1;31mValueError\u001b[0m                                Traceback (most recent call last)",
      "\u001b[1;32m<ipython-input-56-0976a054f4c2>\u001b[0m in \u001b[0;36m<module>\u001b[1;34m\u001b[0m\n\u001b[0;32m      1\u001b[0m \u001b[0mstop_words\u001b[0m \u001b[1;33m=\u001b[0m \u001b[1;33m[\u001b[0m\u001b[1;33m]\u001b[0m\u001b[1;33m\u001b[0m\u001b[1;33m\u001b[0m\u001b[0m\n\u001b[1;32m----> 2\u001b[1;33m \u001b[1;32mfor\u001b[0m \u001b[0mx\u001b[0m\u001b[1;33m,\u001b[0m\u001b[0my\u001b[0m \u001b[1;32min\u001b[0m \u001b[0mtest\u001b[0m\u001b[1;33m:\u001b[0m\u001b[1;33m\u001b[0m\u001b[1;33m\u001b[0m\u001b[0m\n\u001b[0m\u001b[0;32m      3\u001b[0m     \u001b[0mstop_words\u001b[0m\u001b[1;33m.\u001b[0m\u001b[0mappend\u001b[0m\u001b[1;33m(\u001b[0m\u001b[0mx\u001b[0m\u001b[1;33m)\u001b[0m\u001b[1;33m\u001b[0m\u001b[1;33m\u001b[0m\u001b[0m\n",
      "\u001b[1;31mValueError\u001b[0m: too many values to unpack (expected 2)"
     ]
    }
   ],
   "source": [
    "stop_words = []\n",
    "for x,y in test:\n",
    "    stop_words.append(x)"
   ]
  },
  {
   "cell_type": "code",
   "execution_count": 49,
   "metadata": {},
   "outputs": [
    {
     "ename": "NameError",
     "evalue": "name 'stop_words' is not defined",
     "output_type": "error",
     "traceback": [
      "\u001b[1;31m---------------------------------------------------------------------------\u001b[0m",
      "\u001b[1;31mNameError\u001b[0m                                 Traceback (most recent call last)",
      "\u001b[1;32m<ipython-input-49-07be5ff4bce8>\u001b[0m in \u001b[0;36m<module>\u001b[1;34m\u001b[0m\n\u001b[1;32m----> 1\u001b[1;33m \u001b[0mstop_words\u001b[0m\u001b[1;33m\u001b[0m\u001b[1;33m\u001b[0m\u001b[0m\n\u001b[0m",
      "\u001b[1;31mNameError\u001b[0m: name 'stop_words' is not defined"
     ]
    }
   ],
   "source": [
    "stop_words"
   ]
  },
  {
   "cell_type": "code",
   "execution_count": 54,
   "metadata": {},
   "outputs": [],
   "source": [
    "custom_stop_words = frozenset(stop_words)"
   ]
  },
  {
   "cell_type": "code",
   "execution_count": 307,
   "metadata": {},
   "outputs": [
    {
     "data": {
      "text/plain": [
       "5000"
      ]
     },
     "execution_count": 307,
     "metadata": {},
     "output_type": "execute_result"
    }
   ],
   "source": [
    "#top_words\n",
    "len(top_words)"
   ]
  },
  {
   "cell_type": "code",
   "execution_count": 52,
   "metadata": {},
   "outputs": [
    {
     "ename": "NameError",
     "evalue": "name 'top_words' is not defined",
     "output_type": "error",
     "traceback": [
      "\u001b[1;31m---------------------------------------------------------------------------\u001b[0m",
      "\u001b[1;31mNameError\u001b[0m                                 Traceback (most recent call last)",
      "\u001b[1;32m<ipython-input-52-40978219c500>\u001b[0m in \u001b[0;36m<module>\u001b[1;34m\u001b[0m\n\u001b[0;32m      2\u001b[0m \u001b[1;32mfrom\u001b[0m \u001b[0msklearn\u001b[0m\u001b[1;33m.\u001b[0m\u001b[0mfeature_extraction\u001b[0m \u001b[1;32mimport\u001b[0m \u001b[0mtext\u001b[0m\u001b[1;33m\u001b[0m\u001b[1;33m\u001b[0m\u001b[0m\n\u001b[0;32m      3\u001b[0m \u001b[1;31m#stop_words = text.ENGLISH_STOP_WORDS.union(custom_stop_words)\u001b[0m\u001b[1;33m\u001b[0m\u001b[1;33m\u001b[0m\u001b[1;33m\u001b[0m\u001b[0m\n\u001b[1;32m----> 4\u001b[1;33m \u001b[0mstop_words\u001b[0m \u001b[1;33m=\u001b[0m \u001b[0mtext\u001b[0m\u001b[1;33m.\u001b[0m\u001b[0mENGLISH_STOP_WORDS\u001b[0m\u001b[1;33m.\u001b[0m\u001b[0munion\u001b[0m\u001b[1;33m(\u001b[0m\u001b[0mtop_words\u001b[0m\u001b[1;33m)\u001b[0m\u001b[1;33m\u001b[0m\u001b[1;33m\u001b[0m\u001b[0m\n\u001b[0m\u001b[0;32m      5\u001b[0m \u001b[1;33m\u001b[0m\u001b[0m\n\u001b[0;32m      6\u001b[0m \u001b[0mcount\u001b[0m \u001b[1;33m=\u001b[0m \u001b[0mCountVectorizer\u001b[0m\u001b[1;33m(\u001b[0m\u001b[1;33m)\u001b[0m\u001b[1;33m\u001b[0m\u001b[1;33m\u001b[0m\u001b[0m\n",
      "\u001b[1;31mNameError\u001b[0m: name 'top_words' is not defined"
     ]
    }
   ],
   "source": [
    "from sklearn.feature_extraction.text import CountVectorizer\n",
    "from sklearn.feature_extraction import text \n",
    "#stop_words = text.ENGLISH_STOP_WORDS.union(custom_stop_words)\n",
    "stop_words = text.ENGLISH_STOP_WORDS.union(top_words)\n",
    "\n",
    "count = CountVectorizer()\n",
    "bag = count.fit_transform(list(data[\"Comment\"]))"
   ]
  },
  {
   "cell_type": "code",
   "execution_count": 239,
   "metadata": {},
   "outputs": [],
   "source": [
    "d = count.vocabulary_\n",
    "#sorted(d.items(), key=lambda x: x[1], reverse=True)[:50]"
   ]
  },
  {
   "cell_type": "code",
   "execution_count": 539,
   "metadata": {},
   "outputs": [
    {
     "ename": "AttributeError",
     "evalue": "'list' object has no attribute 'split'",
     "output_type": "error",
     "traceback": [
      "\u001b[0;31m---------------------------------------------------------------------------\u001b[0m",
      "\u001b[0;31mAttributeError\u001b[0m                            Traceback (most recent call last)",
      "\u001b[0;32m<ipython-input-539-272ffbcda085>\u001b[0m in \u001b[0;36m<module>\u001b[0;34m\u001b[0m\n\u001b[1;32m      2\u001b[0m \u001b[0;34m\u001b[0m\u001b[0m\n\u001b[1;32m      3\u001b[0m \u001b[0mmyStr\u001b[0m \u001b[0;34m=\u001b[0m \u001b[0;34m\"This this this is really really good.\"\u001b[0m\u001b[0;34m\u001b[0m\u001b[0;34m\u001b[0m\u001b[0m\n\u001b[0;32m----> 4\u001b[0;31m \u001b[0mmyDict\u001b[0m \u001b[0;34m=\u001b[0m \u001b[0mCounter\u001b[0m\u001b[0;34m(\u001b[0m\u001b[0mlist\u001b[0m\u001b[0;34m(\u001b[0m\u001b[0mdata\u001b[0m\u001b[0;34m[\u001b[0m\u001b[0;34m\"Comment\"\u001b[0m\u001b[0;34m]\u001b[0m\u001b[0;34m)\u001b[0m\u001b[0;34m.\u001b[0m\u001b[0msplit\u001b[0m\u001b[0;34m(\u001b[0m\u001b[0;34m)\u001b[0m\u001b[0;34m)\u001b[0m\u001b[0;34m\u001b[0m\u001b[0;34m\u001b[0m\u001b[0m\n\u001b[0m",
      "\u001b[0;31mAttributeError\u001b[0m: 'list' object has no attribute 'split'"
     ]
    }
   ],
   "source": []
  },
  {
   "cell_type": "code",
   "execution_count": 335,
   "metadata": {},
   "outputs": [
    {
     "data": {
      "text/plain": [
       "Class      5695\n",
       "Comment    5695\n",
       "dtype: int64"
      ]
     },
     "execution_count": 335,
     "metadata": {},
     "output_type": "execute_result"
    }
   ],
   "source": [
    "(data[data[\"Class\"] == '1']).count()"
   ]
  },
  {
   "cell_type": "code",
   "execution_count": null,
   "metadata": {},
   "outputs": [],
   "source": []
  },
  {
   "cell_type": "code",
   "execution_count": 9,
   "metadata": {},
   "outputs": [],
   "source": [
    "data[\"Comment\"] = data[\"Comment\"].str.replace('[^\\w\\s]','')"
   ]
  },
  {
   "cell_type": "code",
   "execution_count": 95,
   "metadata": {},
   "outputs": [
    {
     "data": {
      "text/html": [
       "<div>\n",
       "<style scoped>\n",
       "    .dataframe tbody tr th:only-of-type {\n",
       "        vertical-align: middle;\n",
       "    }\n",
       "\n",
       "    .dataframe tbody tr th {\n",
       "        vertical-align: top;\n",
       "    }\n",
       "\n",
       "    .dataframe thead th {\n",
       "        text-align: right;\n",
       "    }\n",
       "</style>\n",
       "<table border=\"1\" class=\"dataframe\">\n",
       "  <thead>\n",
       "    <tr style=\"text-align: right;\">\n",
       "      <th></th>\n",
       "      <th>Class</th>\n",
       "      <th>Comment</th>\n",
       "    </tr>\n",
       "  </thead>\n",
       "  <tbody>\n",
       "    <tr>\n",
       "      <td>0</td>\n",
       "      <td>0</td>\n",
       "      <td>Being a member of the European Union is a bit ...</td>\n",
       "    </tr>\n",
       "    <tr>\n",
       "      <td>1</td>\n",
       "      <td>0</td>\n",
       "      <td>Brexit is bad. Immigrants make Britain great. ...</td>\n",
       "    </tr>\n",
       "    <tr>\n",
       "      <td>2</td>\n",
       "      <td>0</td>\n",
       "      <td>Britain is basically Pompeii if the Pompeii ha...</td>\n",
       "    </tr>\n",
       "    <tr>\n",
       "      <td>3</td>\n",
       "      <td>1</td>\n",
       "      <td>Britain's exit is a huge blow to the dream of ...</td>\n",
       "    </tr>\n",
       "    <tr>\n",
       "      <td>6</td>\n",
       "      <td>1</td>\n",
       "      <td>Death to the EU, Death to the EU!</td>\n",
       "    </tr>\n",
       "    <tr>\n",
       "      <td>...</td>\n",
       "      <td>...</td>\n",
       "      <td>...</td>\n",
       "    </tr>\n",
       "    <tr>\n",
       "      <td>13510</td>\n",
       "      <td>1</td>\n",
       "      <td>“we have made our choice”</td>\n",
       "    </tr>\n",
       "    <tr>\n",
       "      <td>13511</td>\n",
       "      <td>1</td>\n",
       "      <td>”Fake news! UK will prosper as soon as Bojo si...</td>\n",
       "    </tr>\n",
       "    <tr>\n",
       "      <td>13513</td>\n",
       "      <td>1</td>\n",
       "      <td>🇬🇧 Hard Brexit all the way 🇬🇧</td>\n",
       "    </tr>\n",
       "    <tr>\n",
       "      <td>13514</td>\n",
       "      <td>0</td>\n",
       "      <td>😆 it's funny, when the brits sees the raise in...</td>\n",
       "    </tr>\n",
       "    <tr>\n",
       "      <td>13515</td>\n",
       "      <td>0</td>\n",
       "      <td>🤣🤣 imagine that bulgarian and romanian passpor...</td>\n",
       "    </tr>\n",
       "  </tbody>\n",
       "</table>\n",
       "<p>11004 rows × 2 columns</p>\n",
       "</div>"
      ],
      "text/plain": [
       "      Class                                            Comment\n",
       "0         0  Being a member of the European Union is a bit ...\n",
       "1         0  Brexit is bad. Immigrants make Britain great. ...\n",
       "2         0  Britain is basically Pompeii if the Pompeii ha...\n",
       "3         1  Britain's exit is a huge blow to the dream of ...\n",
       "6         1                  Death to the EU, Death to the EU!\n",
       "...     ...                                                ...\n",
       "13510     1                          “we have made our choice”\n",
       "13511     1  ”Fake news! UK will prosper as soon as Bojo si...\n",
       "13513     1                      🇬🇧 Hard Brexit all the way 🇬🇧\n",
       "13514     0  😆 it's funny, when the brits sees the raise in...\n",
       "13515     0  🤣🤣 imagine that bulgarian and romanian passpor...\n",
       "\n",
       "[11004 rows x 2 columns]"
      ]
     },
     "execution_count": 95,
     "metadata": {},
     "output_type": "execute_result"
    }
   ],
   "source": [
    "data"
   ]
  },
  {
   "cell_type": "code",
   "execution_count": 103,
   "metadata": {},
   "outputs": [],
   "source": [
    "REPLACE_BY_SPACE_RE = re.compile('[/(){}\\[\\]\\|@,;]')\n",
    "BAD_SYMBOLS_RE = re.compile('[^0-9a-z #+_]')\n",
    "STOPWORDS = set(stopwords.words('english'))\n",
    "\n",
    "def clean_text(text):\n",
    "    \"\"\"\n",
    "        text: a string\n",
    "        \n",
    "        return: modified initial string\n",
    "    \"\"\"\n",
    "    text = text.lower() # lowercase text\n",
    "    text = REPLACE_BY_SPACE_RE.sub(' ', text) # replace REPLACE_BY_SPACE_RE symbols by space in text. substitute the matched string in REPLACE_BY_SPACE_RE with space.\n",
    "    text = BAD_SYMBOLS_RE.sub('', text) # remove symbols which are in BAD_SYMBOLS_RE from text. substitute the matched string in BAD_SYMBOLS_RE with nothing. \n",
    "    text = text.replace('x', '')\n",
    "#    text = re.sub(r'\\W+', '', text)\n",
    "    text = ' '.join(word for word in text.split() if word not in STOPWORDS) # remove stopwors from text\n",
    "    return text"
   ]
  },
  {
   "cell_type": "code",
   "execution_count": 104,
   "metadata": {},
   "outputs": [],
   "source": [
    "Y = data[\"Class\"]\n",
    "X = data[\"Comment\"]"
   ]
  },
  {
   "cell_type": "code",
   "execution_count": 105,
   "metadata": {},
   "outputs": [],
   "source": [
    "Xtrain, Xeval, Ytrain, Yeval = train_test_split(X, Y, test_size=0.2)"
   ]
  },
  {
   "cell_type": "code",
   "execution_count": 690,
   "metadata": {},
   "outputs": [
    {
     "name": "stderr",
     "output_type": "stream",
     "text": [
      "/usr/local/lib/python3.6/dist-packages/sklearn/feature_extraction/text.py:385: UserWarning: Your stop_words may be inconsistent with your preprocessing. Tokenizing the stop words generated tokens ['fuhrer', 'naive', 'passe'] not in stop_words.\n",
      "  'stop_words.' % sorted(inconsistent))\n"
     ]
    },
    {
     "name": "stdout",
     "output_type": "stream",
     "text": [
      "(8803, 500)\n"
     ]
    }
   ],
   "source": [
    "from sklearn.feature_extraction.text import TfidfVectorizer\n",
    "#from sklearn.feature_extraction.text import CountVectorizer\n",
    "v = TfidfVectorizer(max_features=500, strip_accents=\"unicode\", stop_words=stop_words, lowercase=True)\n",
    "#v = CountVectorizer(stop_words=stop_words, lowercase=True)\n",
    "X = v.fit_transform(X)\n",
    "Xtrain = v.transform(Xtrain)\n",
    "Xeval = v.transform(Xeval)\n",
    "Ytrain=Ytrain.astype('int')\n",
    "Yeval=Yeval.astype('int')\n",
    "Y=Y.astype('int')\n",
    "\n",
    "#print(vectorizer.get_feature_names())\n",
    "\n",
    "print(Xtrain.shape)"
   ]
  },
  {
   "cell_type": "code",
   "execution_count": 691,
   "metadata": {},
   "outputs": [
    {
     "data": {
      "text/plain": [
       "SVC(C=1.0, break_ties=False, cache_size=200, class_weight=None, coef0=0.0,\n",
       "    decision_function_shape='ovr', degree=3, gamma='scale', kernel='rbf',\n",
       "    max_iter=-1, probability=False, random_state=0, shrinking=True, tol=1e-05,\n",
       "    verbose=False)"
      ]
     },
     "execution_count": 691,
     "metadata": {},
     "output_type": "execute_result"
    }
   ],
   "source": [
    "from sklearn.svm import SVC\n",
    "svc = SVC(random_state=0, tol=1e-5)\n",
    "svc.fit(Xtrain, Ytrain)"
   ]
  },
  {
   "cell_type": "code",
   "execution_count": 692,
   "metadata": {},
   "outputs": [
    {
     "data": {
      "text/plain": [
       "0.756928668786915"
      ]
     },
     "execution_count": 692,
     "metadata": {},
     "output_type": "execute_result"
    }
   ],
   "source": [
    "from sklearn.metrics import accuracy_score\n",
    "accuracy_score(svc.predict(Xeval), Yeval)"
   ]
  },
  {
   "cell_type": "code",
   "execution_count": 693,
   "metadata": {},
   "outputs": [],
   "source": [
    "from sklearn.svm import LinearSVC\n",
    "svc = LinearSVC(random_state=1, tol=1e-5, C=0.25)\n",
    "#svc.fit(Xtrain, Ytrain)"
   ]
  },
  {
   "cell_type": "code",
   "execution_count": 694,
   "metadata": {},
   "outputs": [
    {
     "data": {
      "text/plain": [
       "array([0.7678328 , 0.72875965, 0.72648796, 0.73739209, 0.74409091])"
      ]
     },
     "execution_count": 694,
     "metadata": {},
     "output_type": "execute_result"
    }
   ],
   "source": [
    "from sklearn.model_selection import cross_val_score\n",
    "#accuracy_score(svc.predict(Xeval), Yeval)\n",
    "cross_val_score(svc, X, Y)"
   ]
  },
  {
   "cell_type": "code",
   "execution_count": 626,
   "metadata": {},
   "outputs": [
    {
     "data": {
      "text/plain": [
       "array([[828, 230],\n",
       "       [218, 925]])"
      ]
     },
     "execution_count": 626,
     "metadata": {},
     "output_type": "execute_result"
    }
   ],
   "source": [
    "from sklearn.metrics import confusion_matrix\n",
    "confusion_matrix(svc.predict(Xeval), Yeval)"
   ]
  },
  {
   "cell_type": "code",
   "execution_count": 333,
   "metadata": {},
   "outputs": [
    {
     "data": {
      "text/plain": [
       "8997"
      ]
     },
     "execution_count": 333,
     "metadata": {},
     "output_type": "execute_result"
    }
   ],
   "source": [
    "#sorted(svc.coef_, reverse=True)\n",
    "len(svc.coef_[0])"
   ]
  },
  {
   "cell_type": "code",
   "execution_count": 468,
   "metadata": {},
   "outputs": [
    {
     "data": {
      "text/plain": [
       "0.7991821899136756"
      ]
     },
     "execution_count": 468,
     "metadata": {},
     "output_type": "execute_result"
    }
   ],
   "source": [
    "from sklearn.metrics import accuracy_score\n",
    "accuracy_score(svc.predict(Xeval), Yeval)"
   ]
  },
  {
   "cell_type": "code",
   "execution_count": 317,
   "metadata": {},
   "outputs": [
    {
     "name": "stderr",
     "output_type": "stream",
     "text": [
      "/usr/local/lib/python3.6/dist-packages/sklearn/svm/_base.py:947: ConvergenceWarning: Liblinear failed to converge, increase the number of iterations.\n",
      "  \"the number of iterations.\", ConvergenceWarning)\n"
     ]
    },
    {
     "data": {
      "text/plain": [
       "GridSearchCV(cv=5, error_score=nan,\n",
       "             estimator=LinearSVC(C=1.0, class_weight=None, dual=True,\n",
       "                                 fit_intercept=True, intercept_scaling=1,\n",
       "                                 loss='squared_hinge', max_iter=1000,\n",
       "                                 multi_class='ovr', penalty='l2',\n",
       "                                 random_state=None, tol=0.0001, verbose=0),\n",
       "             iid='deprecated', n_jobs=None,\n",
       "             param_grid={'C': array([1.000e-02, 1.001e+01, 2.001e+01, 3.001e+01, 4.001e+01, 5.001e+01,\n",
       "       6.001e+01, 7.001e+01, 8.001e+01, 9.001e+01])},\n",
       "             pre_dispatch='2*n_jobs', refit=True, return_train_score=True,\n",
       "             scoring=None, verbose=0)"
      ]
     },
     "execution_count": 317,
     "metadata": {},
     "output_type": "execute_result"
    }
   ],
   "source": [
    "from sklearn.model_selection import GridSearchCV\n",
    "param_grid = {'C':np.arange(0.01,100,10)}\n",
    "svc = GridSearchCV(LinearSVC(),param_grid,cv=5,return_train_score=True)\n",
    "svc.fit(Xtrain,Ytrain)"
   ]
  },
  {
   "cell_type": "code",
   "execution_count": 318,
   "metadata": {},
   "outputs": [
    {
     "name": "stdout",
     "output_type": "stream",
     "text": [
      "{'C': 0.01}\n"
     ]
    }
   ],
   "source": [
    "print(svc.best_params_)"
   ]
  },
  {
   "cell_type": "code",
   "execution_count": 579,
   "metadata": {},
   "outputs": [
    {
     "name": "stderr",
     "output_type": "stream",
     "text": [
      "/usr/local/lib/python3.6/dist-packages/sklearn/dummy.py:132: FutureWarning: The default value of strategy will change from stratified to prior in 0.24.\n",
      "  \"stratified to prior in 0.24.\", FutureWarning)\n"
     ]
    },
    {
     "data": {
      "text/plain": [
       "DummyClassifier(constant=None, random_state=None, strategy='warn')"
      ]
     },
     "execution_count": 579,
     "metadata": {},
     "output_type": "execute_result"
    }
   ],
   "source": [
    "from sklearn.dummy import DummyClassifier\n",
    "dummy = DummyClassifier()\n",
    "dummy.fit(Xtrain, Ytrain)"
   ]
  },
  {
   "cell_type": "code",
   "execution_count": 580,
   "metadata": {},
   "outputs": [
    {
     "data": {
      "text/plain": [
       "0.49977283053157656"
      ]
     },
     "execution_count": 580,
     "metadata": {},
     "output_type": "execute_result"
    }
   ],
   "source": [
    "accuracy_score(dummy.predict(Xeval), Yeval)"
   ]
  },
  {
   "cell_type": "code",
   "execution_count": 581,
   "metadata": {},
   "outputs": [
    {
     "data": {
      "text/plain": [
       "GradientBoostingClassifier(ccp_alpha=0.0, criterion='friedman_mse', init=None,\n",
       "                           learning_rate=0.1, loss='deviance', max_depth=3,\n",
       "                           max_features=None, max_leaf_nodes=None,\n",
       "                           min_impurity_decrease=0.0, min_impurity_split=None,\n",
       "                           min_samples_leaf=1, min_samples_split=2,\n",
       "                           min_weight_fraction_leaf=0.0, n_estimators=100,\n",
       "                           n_iter_no_change=None, presort='deprecated',\n",
       "                           random_state=None, subsample=1.0, tol=0.0001,\n",
       "                           validation_fraction=0.1, verbose=0,\n",
       "                           warm_start=False)"
      ]
     },
     "execution_count": 581,
     "metadata": {},
     "output_type": "execute_result"
    }
   ],
   "source": [
    "from sklearn.ensemble import GradientBoostingClassifier\n",
    "gbc = GradientBoostingClassifier()\n",
    "gbc.fit(Xtrain, Ytrain)"
   ]
  },
  {
   "cell_type": "code",
   "execution_count": 582,
   "metadata": {},
   "outputs": [
    {
     "data": {
      "text/plain": [
       "0.7233075874602454"
      ]
     },
     "execution_count": 582,
     "metadata": {},
     "output_type": "execute_result"
    }
   ],
   "source": [
    "accuracy_score(gbc.predict(Xeval), Yeval)"
   ]
  },
  {
   "cell_type": "code",
   "execution_count": 583,
   "metadata": {},
   "outputs": [
    {
     "data": {
      "text/plain": [
       "MultinomialNB(alpha=1.0, class_prior=None, fit_prior=True)"
      ]
     },
     "execution_count": 583,
     "metadata": {},
     "output_type": "execute_result"
    }
   ],
   "source": [
    "from sklearn.naive_bayes import MultinomialNB\n",
    "nb = MultinomialNB()\n",
    "nb.fit(Xtrain, Ytrain)"
   ]
  },
  {
   "cell_type": "code",
   "execution_count": 584,
   "metadata": {},
   "outputs": [
    {
     "data": {
      "text/plain": [
       "0.7905497501135847"
      ]
     },
     "execution_count": 584,
     "metadata": {},
     "output_type": "execute_result"
    }
   ],
   "source": [
    "accuracy_score(nb.predict(Xeval), Yeval)"
   ]
  },
  {
   "cell_type": "code",
   "execution_count": 422,
   "metadata": {},
   "outputs": [
    {
     "data": {
      "text/plain": [
       "KNeighborsClassifier(algorithm='auto', leaf_size=30, metric='minkowski',\n",
       "                     metric_params=None, n_jobs=None, n_neighbors=6000, p=2,\n",
       "                     weights='uniform')"
      ]
     },
     "execution_count": 422,
     "metadata": {},
     "output_type": "execute_result"
    }
   ],
   "source": [
    "from sklearn.neighbors import KNeighborsClassifier\n",
    "knn = KNeighborsClassifier(n_neighbors=6000)\n",
    "knn.fit(Xtrain, Ytrain)"
   ]
  },
  {
   "cell_type": "code",
   "execution_count": 423,
   "metadata": {},
   "outputs": [
    {
     "data": {
      "text/plain": [
       "0.6106315311222171"
      ]
     },
     "execution_count": 423,
     "metadata": {},
     "output_type": "execute_result"
    }
   ],
   "source": [
    "accuracy_score(knn.predict(Xeval), Yeval)"
   ]
  },
  {
   "cell_type": "code",
   "execution_count": 590,
   "metadata": {},
   "outputs": [],
   "source": [
    "from sklearn.linear_model import LogisticRegression\n",
    "lr = LogisticRegression()"
   ]
  },
  {
   "cell_type": "code",
   "execution_count": 591,
   "metadata": {},
   "outputs": [
    {
     "data": {
      "text/plain": [
       "LogisticRegression(C=1.0, class_weight=None, dual=False, fit_intercept=True,\n",
       "                   intercept_scaling=1, l1_ratio=None, max_iter=100,\n",
       "                   multi_class='auto', n_jobs=None, penalty='l2',\n",
       "                   random_state=None, solver='lbfgs', tol=0.0001, verbose=0,\n",
       "                   warm_start=False)"
      ]
     },
     "execution_count": 591,
     "metadata": {},
     "output_type": "execute_result"
    }
   ],
   "source": [
    "lr.fit(Xtrain, Ytrain)"
   ]
  },
  {
   "cell_type": "code",
   "execution_count": 592,
   "metadata": {},
   "outputs": [
    {
     "data": {
      "text/plain": [
       "0.7960018173557474"
      ]
     },
     "execution_count": 592,
     "metadata": {},
     "output_type": "execute_result"
    }
   ],
   "source": [
    "accuracy_score(lr.predict(Xeval), Yeval)"
   ]
  },
  {
   "cell_type": "code",
   "execution_count": 504,
   "metadata": {},
   "outputs": [
    {
     "data": {
      "text/plain": [
       "RandomForestClassifier(bootstrap=True, ccp_alpha=0.0, class_weight=None,\n",
       "                       criterion='gini', max_depth=100, max_features='auto',\n",
       "                       max_leaf_nodes=None, max_samples=None,\n",
       "                       min_impurity_decrease=0.0, min_impurity_split=None,\n",
       "                       min_samples_leaf=1, min_samples_split=2,\n",
       "                       min_weight_fraction_leaf=0.0, n_estimators=500,\n",
       "                       n_jobs=None, oob_score=False, random_state=None,\n",
       "                       verbose=0, warm_start=False)"
      ]
     },
     "execution_count": 504,
     "metadata": {},
     "output_type": "execute_result"
    }
   ],
   "source": [
    "from sklearn.ensemble import RandomForestClassifier\n",
    "rf = RandomForestClassifier(max_depth=100, n_estimators=500)\n",
    "rf.fit(Xtrain, Ytrain)"
   ]
  },
  {
   "cell_type": "code",
   "execution_count": 505,
   "metadata": {},
   "outputs": [
    {
     "ename": "AttributeError",
     "evalue": "'RandomForestClassifier' object has no attribute 'feature_names_'",
     "output_type": "error",
     "traceback": [
      "\u001b[0;31m---------------------------------------------------------------------------\u001b[0m",
      "\u001b[0;31mAttributeError\u001b[0m                            Traceback (most recent call last)",
      "\u001b[0;32m<ipython-input-505-d256cd5745d7>\u001b[0m in \u001b[0;36m<module>\u001b[0;34m\u001b[0m\n\u001b[0;32m----> 1\u001b[0;31m \u001b[0mrf\u001b[0m\u001b[0;34m.\u001b[0m\u001b[0mfeature_names_\u001b[0m\u001b[0;34m\u001b[0m\u001b[0;34m\u001b[0m\u001b[0m\n\u001b[0m",
      "\u001b[0;31mAttributeError\u001b[0m: 'RandomForestClassifier' object has no attribute 'feature_names_'"
     ]
    }
   ],
   "source": [
    "rf.feature_names_"
   ]
  },
  {
   "cell_type": "code",
   "execution_count": 397,
   "metadata": {},
   "outputs": [
    {
     "data": {
      "text/plain": [
       "0.7737392094502499"
      ]
     },
     "execution_count": 397,
     "metadata": {},
     "output_type": "execute_result"
    }
   ],
   "source": [
    "accuracy_score(rf.predict(Xeval), Yeval)"
   ]
  },
  {
   "cell_type": "code",
   "execution_count": 507,
   "metadata": {},
   "outputs": [
    {
     "data": {
      "text/plain": [
       "DecisionTreeClassifier(ccp_alpha=0.0, class_weight=None, criterion='gini',\n",
       "                       max_depth=80, max_features=None, max_leaf_nodes=None,\n",
       "                       min_impurity_decrease=0.0, min_impurity_split=None,\n",
       "                       min_samples_leaf=1, min_samples_split=2,\n",
       "                       min_weight_fraction_leaf=0.0, presort='deprecated',\n",
       "                       random_state=None, splitter='best')"
      ]
     },
     "execution_count": 507,
     "metadata": {},
     "output_type": "execute_result"
    }
   ],
   "source": [
    "from sklearn.tree import DecisionTreeClassifier\n",
    "tree = DecisionTreeClassifier(max_depth=80)\n",
    "tree.fit(Xtrain, Ytrain)"
   ]
  },
  {
   "cell_type": "code",
   "execution_count": 729,
   "metadata": {},
   "outputs": [],
   "source": [
    "#sorted(tree.feature_importances_, reverse=True)\n",
    "#tree.feature_names_\n",
    "#en(tree.feature_importances_)"
   ]
  },
  {
   "cell_type": "code",
   "execution_count": 388,
   "metadata": {},
   "outputs": [
    {
     "data": {
      "text/plain": [
       "0.6855974557019536"
      ]
     },
     "execution_count": 388,
     "metadata": {},
     "output_type": "execute_result"
    }
   ],
   "source": [
    "accuracy_score(tree.predict(Xeval), Yeval)"
   ]
  },
  {
   "cell_type": "code",
   "execution_count": null,
   "metadata": {},
   "outputs": [],
   "source": [
    "from sklearn.neural_network import MLPClassifier\n",
    "mlp = MLPClassifier(solver='adam', alpha=1e-5, hidden_layer_sizes=(50, 50, 50), random_state=1)\n",
    "mlp.fit(Xtrain, Ytrain)"
   ]
  },
  {
   "cell_type": "code",
   "execution_count": 746,
   "metadata": {},
   "outputs": [
    {
     "data": {
      "text/plain": [
       "0.761017719218537"
      ]
     },
     "execution_count": 746,
     "metadata": {},
     "output_type": "execute_result"
    }
   ],
   "source": [
    "accuracy_score(mlp.predict(Xeval), Yeval)"
   ]
  },
  {
   "cell_type": "code",
   "execution_count": 561,
   "metadata": {},
   "outputs": [
    {
     "data": {
      "text/plain": [
       "RandomForestClassifier(bootstrap=True, ccp_alpha=0.0, class_weight=None,\n",
       "                       criterion='gini', max_depth=25, max_features='auto',\n",
       "                       max_leaf_nodes=None, max_samples=None,\n",
       "                       min_impurity_decrease=0.0, min_impurity_split=None,\n",
       "                       min_samples_leaf=1, min_samples_split=2,\n",
       "                       min_weight_fraction_leaf=0.0, n_estimators=100,\n",
       "                       n_jobs=None, oob_score=False, random_state=None,\n",
       "                       verbose=0, warm_start=False)"
      ]
     },
     "execution_count": 561,
     "metadata": {},
     "output_type": "execute_result"
    }
   ],
   "source": [
    "from sklearn.ensemble import RandomForestClassifier\n",
    "clf = RandomForestClassifier(max_depth=25, n_estimators=100)\n",
    "clf.fit(Xtrain, Ytrain)"
   ]
  },
  {
   "cell_type": "code",
   "execution_count": 562,
   "metadata": {},
   "outputs": [
    {
     "name": "stdout",
     "output_type": "stream",
     "text": [
      "[   0 8325 8327 ... 7296 4573 1767]\n"
     ]
    }
   ],
   "source": [
    "importances = clf.feature_importances_\n",
    "indicies = np.argsort(importances)\n",
    "print(indicies)"
   ]
  },
  {
   "cell_type": "code",
   "execution_count": 563,
   "metadata": {},
   "outputs": [
    {
     "data": {
      "text/plain": [
       "['00',\n",
       " 'nationality',\n",
       " 'nationals',\n",
       " 'nationwide',\n",
       " 'native',\n",
       " 'naturally',\n",
       " 'naughty',\n",
       " 'nauseous',\n",
       " 'naval',\n",
       " 'navel',\n",
       " 'navigate',\n",
       " 'navigation',\n",
       " 'naysayers',\n",
       " 'nazi',\n",
       " 'nazis',\n",
       " 'naïve',\n",
       " 'ne',\n",
       " 'neanderthals',\n",
       " 'nationalities',\n",
       " 'nearer',\n",
       " 'nationalists',\n",
       " 'nationalisation',\n",
       " 'nafta',\n",
       " 'nah',\n",
       " 'nailed',\n",
       " 'nails',\n",
       " 'naivety',\n",
       " 'naked',\n",
       " 'names',\n",
       " 'nancy',\n",
       " 'nannies',\n",
       " 'napoleon',\n",
       " 'narcisists',\n",
       " 'narcissists',\n",
       " 'narcotic',\n",
       " 'narratives',\n",
       " 'nastier',\n",
       " 'nasties',\n",
       " 'nastiest',\n",
       " 'nationalise',\n",
       " 'nears',\n",
       " 'necessary',\n",
       " 'neck',\n",
       " 'neighbourhood',\n",
       " 'neighbouring',\n",
       " 'neil',\n",
       " 'neill',\n",
       " 'nemesis',\n",
       " 'nemo',\n",
       " 'neo',\n",
       " 'neoliberal',\n",
       " 'neoliberalism',\n",
       " 'nephews',\n",
       " 'nepotism',\n",
       " 'nerve',\n",
       " 'nerves',\n",
       " 'nervewracking',\n",
       " 'ness',\n",
       " 'nest',\n",
       " 'netflix',\n",
       " 'neighbour',\n",
       " 'neighbors',\n",
       " 'neighbor',\n",
       " 'neigbours',\n",
       " 'necks',\n",
       " 'necrosis',\n",
       " 'nedxit',\n",
       " 'needing',\n",
       " 'needles',\n",
       " 'nefarious',\n",
       " 'negation',\n",
       " 'negatives',\n",
       " 'myths',\n",
       " 'negativity',\n",
       " 'neglect',\n",
       " 'negligible',\n",
       " 'negociate',\n",
       " 'negotations',\n",
       " 'negotiable',\n",
       " 'negotiated',\n",
       " 'negotiates',\n",
       " 'negotitions',\n",
       " 'negitivity',\n",
       " 'nets',\n",
       " 'mythic',\n",
       " 'myopic',\n",
       " 'mortal',\n",
       " 'mortals',\n",
       " 'mortgage',\n",
       " 'mortgages',\n",
       " 'morè',\n",
       " 'mosley',\n",
       " 'mostbrits',\n",
       " 'motions',\n",
       " 'motivated',\n",
       " 'motivates',\n",
       " 'motives',\n",
       " 'motors',\n",
       " 'moulded',\n",
       " 'mourn',\n",
       " 'mourning',\n",
       " 'mouse',\n",
       " 'moustache',\n",
       " 'morphing',\n",
       " 'mouth',\n",
       " 'morphed',\n",
       " 'moronic',\n",
       " 'monsieur',\n",
       " 'monsters',\n",
       " 'monstrosity',\n",
       " 'monstrous',\n",
       " 'monti',\n",
       " 'monty',\n",
       " 'monumentally',\n",
       " 'mooch',\n",
       " 'moochers',\n",
       " 'moodys',\n",
       " 'moore',\n",
       " 'mooring',\n",
       " 'morals',\n",
       " 'morass',\n",
       " 'morgan',\n",
       " 'morgherini',\n",
       " 'mornings',\n",
       " 'morph',\n",
       " 'mouthed',\n",
       " 'mouthiest',\n",
       " 'mouthpieces',\n",
       " 'mum',\n",
       " 'mumbo',\n",
       " 'mundane',\n",
       " 'muppet',\n",
       " 'murdering',\n",
       " 'murdoch',\n",
       " 'murky',\n",
       " 'muscle',\n",
       " 'muscles',\n",
       " 'museum',\n",
       " 'music',\n",
       " 'musicals',\n",
       " 'musings',\n",
       " 'muster',\n",
       " 'mutant',\n",
       " 'mutually',\n",
       " 'myopia',\n",
       " 'multitude',\n",
       " 'multiple',\n",
       " 'multinationals',\n",
       " 'multiculturalism',\n",
       " 'mouthy',\n",
       " 'movements',\n",
       " 'mowed',\n",
       " 'ms',\n",
       " 'msm',\n",
       " 'mt',\n",
       " 'mu5lim',\n",
       " 'muck',\n",
       " 'myriad',\n",
       " 'muddle',\n",
       " 'mudslum',\n",
       " 'mug',\n",
       " 'mugg',\n",
       " 'mugged',\n",
       " 'mugging',\n",
       " 'mugs',\n",
       " 'muh',\n",
       " 'multicultural',\n",
       " 'muddy',\n",
       " 'networks',\n",
       " 'neutered',\n",
       " 'nevercorbyn',\n",
       " 'nutters',\n",
       " 'nyc',\n",
       " 'nyse',\n",
       " 'nz',\n",
       " 'oak',\n",
       " 'oap',\n",
       " 'oaps',\n",
       " 'oasis',\n",
       " 'obcessed',\n",
       " 'obey',\n",
       " 'obfuscate',\n",
       " 'obfuscation',\n",
       " 'object',\n",
       " 'objected',\n",
       " 'objectively',\n",
       " 'objectives',\n",
       " 'objects',\n",
       " 'nutter',\n",
       " 'obliged',\n",
       " 'nutshell',\n",
       " 'nursing',\n",
       " 'nowdays',\n",
       " 'npc',\n",
       " 'npr',\n",
       " 'nt',\n",
       " 'nth',\n",
       " 'nts',\n",
       " 'nuance',\n",
       " 'nuanced',\n",
       " 'nuances',\n",
       " 'nuclear',\n",
       " 'nugent',\n",
       " 'nuisance',\n",
       " 'nuisances',\n",
       " 'numerous',\n",
       " 'numpties',\n",
       " 'numpty',\n",
       " 'nuremberg',\n",
       " 'nurture',\n",
       " 'obliterated',\n",
       " 'oblivion',\n",
       " 'oblivious',\n",
       " 'occur',\n",
       " 'occurred',\n",
       " 'ocean',\n",
       " 'oceanic',\n",
       " 'october',\n",
       " 'oddly',\n",
       " 'ode',\n",
       " 'oder',\n",
       " 'odious',\n",
       " 'oecd',\n",
       " 'ofcourse',\n",
       " 'offence',\n",
       " 'offending',\n",
       " 'offensive',\n",
       " 'offers',\n",
       " 'officers',\n",
       " 'offline',\n",
       " 'occupying',\n",
       " 'occupy',\n",
       " 'occupation',\n",
       " 'occasional',\n",
       " 'obliviously',\n",
       " 'obnoxious',\n",
       " 'obscene',\n",
       " 'obscure',\n",
       " 'observer',\n",
       " 'observers',\n",
       " 'obsessed',\n",
       " 'obsession',\n",
       " 'novice',\n",
       " 'obsessions',\n",
       " 'obstacle',\n",
       " 'obstacles',\n",
       " 'obstinately',\n",
       " 'obstructive',\n",
       " 'obtained',\n",
       " 'obtaining',\n",
       " 'obtains',\n",
       " 'occasion',\n",
       " 'obsessive',\n",
       " 'november',\n",
       " 'novels',\n",
       " 'novel',\n",
       " 'nights',\n",
       " 'nih',\n",
       " 'nilly',\n",
       " 'nincompoop',\n",
       " 'nip',\n",
       " 'nipple',\n",
       " 'nissans',\n",
       " 'nitra',\n",
       " 'nitrous',\n",
       " 'nitwits',\n",
       " 'niva',\n",
       " 'niverse',\n",
       " 'noah',\n",
       " 'nobel',\n",
       " 'noble',\n",
       " 'nobles',\n",
       " 'noboby',\n",
       " 'nightmares',\n",
       " 'nigerians',\n",
       " 'nigerian',\n",
       " 'nigels',\n",
       " 'newcastle',\n",
       " 'newcomers',\n",
       " 'newfound',\n",
       " 'newly',\n",
       " 'newspaper',\n",
       " 'newspapers',\n",
       " 'newsroom',\n",
       " 'newstopics',\n",
       " 'nobrexit',\n",
       " 'newzealand',\n",
       " 'ng',\n",
       " 'nhsto',\n",
       " 'niche',\n",
       " 'nick',\n",
       " 'nicola',\n",
       " 'nicolarse',\n",
       " 'nige',\n",
       " 'nigel_farage',\n",
       " 'nexit',\n",
       " 'monsato',\n",
       " 'nod',\n",
       " 'nodealbrexit',\n",
       " 'norton',\n",
       " 'norways',\n",
       " 'norwich',\n",
       " 'nostalgic',\n",
       " 'noted',\n",
       " 'notes',\n",
       " 'notfitforoffice',\n",
       " 'notice',\n",
       " 'noticeable',\n",
       " 'noticed',\n",
       " 'notification',\n",
       " 'noting',\n",
       " 'notinmyname',\n",
       " 'notion',\n",
       " 'notions',\n",
       " 'notmyprimeminister',\n",
       " 'notwithstanding',\n",
       " 'northwest',\n",
       " 'northumberland',\n",
       " 'northerners',\n",
       " 'northamptonshire',\n",
       " 'noeu',\n",
       " 'nogotiate',\n",
       " 'nonce',\n",
       " 'nonesense',\n",
       " 'nonexistent',\n",
       " 'nonsence',\n",
       " 'nonsensical',\n",
       " 'noo',\n",
       " 'nodeal',\n",
       " 'noon',\n",
       " 'nooooooo',\n",
       " 'noose',\n",
       " 'nordic',\n",
       " 'norhten',\n",
       " 'norm',\n",
       " 'normalisation',\n",
       " 'normalised',\n",
       " 'normally',\n",
       " 'noooo',\n",
       " 'offs',\n",
       " 'monoxide',\n",
       " 'monopolies',\n",
       " 'matched',\n",
       " 'material',\n",
       " 'materialized',\n",
       " 'materially',\n",
       " 'materials',\n",
       " 'matey',\n",
       " 'math',\n",
       " 'mathematical',\n",
       " 'mathematics',\n",
       " 'matthews',\n",
       " 'maturity',\n",
       " 'mauritania',\n",
       " 'maverick',\n",
       " 'max',\n",
       " 'maximises',\n",
       " 'mayo',\n",
       " 'mayyybe',\n",
       " 'match',\n",
       " 'mc',\n",
       " 'mastery',\n",
       " 'masterminds',\n",
       " 'martial',\n",
       " 'martyr',\n",
       " 'marx',\n",
       " 'marxism',\n",
       " 'marxist',\n",
       " 'mary',\n",
       " 'mascarade',\n",
       " 'mash',\n",
       " 'mask',\n",
       " 'masks',\n",
       " 'masochistic',\n",
       " 'masquerading',\n",
       " 'massacre',\n",
       " 'masse',\n",
       " 'masterbateus',\n",
       " 'masterclass',\n",
       " 'mastermind',\n",
       " 'masterplan',\n",
       " 'mcdonalds',\n",
       " 'mcdonnell',\n",
       " 'mcguiness',\n",
       " 'mediterranean',\n",
       " 'meds',\n",
       " 'meee',\n",
       " 'meekly',\n",
       " 'meet',\n",
       " 'meeting',\n",
       " 'meets',\n",
       " 'mega',\n",
       " 'megalomania',\n",
       " 'meghan',\n",
       " 'mein',\n",
       " 'melifluous',\n",
       " 'melt',\n",
       " 'melted',\n",
       " 'meme',\n",
       " 'memorable',\n",
       " 'memories',\n",
       " 'medieval',\n",
       " 'medicines',\n",
       " 'mediated',\n",
       " 'medal',\n",
       " 'mcguinness',\n",
       " 'mcmahon',\n",
       " 'meagre',\n",
       " 'meal',\n",
       " 'mealy',\n",
       " 'meaner',\n",
       " 'meanest',\n",
       " 'meaningful',\n",
       " 'marshalling',\n",
       " 'meaninglessness',\n",
       " 'meantime',\n",
       " 'measles',\n",
       " 'measurable',\n",
       " 'measure',\n",
       " 'measures',\n",
       " 'meat',\n",
       " 'mechanism',\n",
       " 'mechanisms',\n",
       " 'meanings',\n",
       " 'menace',\n",
       " 'mars',\n",
       " 'married',\n",
       " 'maggie',\n",
       " 'magical',\n",
       " 'magnificent',\n",
       " 'mainland',\n",
       " 'maintain',\n",
       " 'maintained',\n",
       " 'maintaining',\n",
       " 'mairead',\n",
       " 'maj',\n",
       " 'majesty',\n",
       " 'maker',\n",
       " 'makeshift',\n",
       " 'maket',\n",
       " 'mal',\n",
       " 'maladministration',\n",
       " 'malaysia',\n",
       " 'malcontents',\n",
       " 'madman',\n",
       " 'male',\n",
       " 'madhouse',\n",
       " 'madame',\n",
       " 'lurch',\n",
       " 'lurching',\n",
       " 'luther',\n",
       " 'luvvies',\n",
       " 'luxembourg',\n",
       " 'luxurious',\n",
       " 'ly',\n",
       " 'lyle',\n",
       " 'ma',\n",
       " 'maastricht',\n",
       " 'mac',\n",
       " 'macedonia',\n",
       " 'machinery',\n",
       " 'machines',\n",
       " 'macro',\n",
       " 'macron',\n",
       " 'madam',\n",
       " 'madeira',\n",
       " 'malevolent',\n",
       " 'malt',\n",
       " 'malta',\n",
       " 'manufacturers',\n",
       " 'manure',\n",
       " 'marched',\n",
       " 'marches',\n",
       " 'marching',\n",
       " 'marcus',\n",
       " 'margen',\n",
       " 'margin',\n",
       " 'marginalisation',\n",
       " 'mario',\n",
       " 'maritime',\n",
       " 'marked',\n",
       " 'marker',\n",
       " 'marks',\n",
       " 'marmite',\n",
       " 'marr',\n",
       " 'marriage',\n",
       " 'manufactured',\n",
       " 'manufacture',\n",
       " 'mans',\n",
       " 'manovering',\n",
       " 'maltese',\n",
       " 'mama',\n",
       " 'management',\n",
       " 'manager',\n",
       " 'managers',\n",
       " 'manages',\n",
       " 'manche',\n",
       " 'manchester',\n",
       " 'marrying',\n",
       " 'mandatory',\n",
       " 'maneuvered',\n",
       " 'manic',\n",
       " 'manifestly',\n",
       " 'manipulating',\n",
       " 'manipulation',\n",
       " 'manipulative',\n",
       " 'manipulators',\n",
       " 'manoeuvre',\n",
       " 'mandelson',\n",
       " 'mendacious',\n",
       " 'mendacity',\n",
       " 'mengele',\n",
       " 'mismanaged',\n",
       " 'mismanagement',\n",
       " 'misplaced',\n",
       " 'misreading',\n",
       " 'misstep',\n",
       " 'mistakes',\n",
       " 'mistreated',\n",
       " 'misty',\n",
       " 'misunderstand',\n",
       " 'misunderstood',\n",
       " 'mitigate',\n",
       " 'mix',\n",
       " 'mixing',\n",
       " 'mixture',\n",
       " 'mkay',\n",
       " 'mking',\n",
       " 'mmhh',\n",
       " 'misleads',\n",
       " 'mmm',\n",
       " 'misleading',\n",
       " 'misinformation',\n",
       " 'miracle',\n",
       " 'miraculous',\n",
       " 'mirage',\n",
       " 'mire',\n",
       " 'mired',\n",
       " 'mirroring',\n",
       " 'mis',\n",
       " 'misapprehension',\n",
       " 'misconduct',\n",
       " 'misdirection',\n",
       " 'misery',\n",
       " 'misfits',\n",
       " 'misfortune',\n",
       " 'misgivings',\n",
       " 'misguidance',\n",
       " 'misguide',\n",
       " 'misinform',\n",
       " 'misjudged',\n",
       " 'moaners',\n",
       " 'mobile',\n",
       " 'mobiles',\n",
       " 'momentus',\n",
       " 'mommy',\n",
       " 'moms',\n",
       " 'mon',\n",
       " 'monarch',\n",
       " 'monetary',\n",
       " 'monetize',\n",
       " 'monger',\n",
       " 'mongered',\n",
       " 'mongering',\n",
       " 'mongers',\n",
       " 'mongos',\n",
       " 'mongrel',\n",
       " 'monies',\n",
       " 'monitor',\n",
       " 'monolith',\n",
       " 'monolithic',\n",
       " 'momentum',\n",
       " 'moments',\n",
       " 'momentary',\n",
       " 'moloch',\n",
       " 'mobs',\n",
       " 'mobsters',\n",
       " 'mockery',\n",
       " 'modeled',\n",
       " 'modelling',\n",
       " 'models',\n",
       " 'moderately',\n",
       " 'moderator',\n",
       " 'minted',\n",
       " 'modernise',\n",
       " 'modicum',\n",
       " 'modified',\n",
       " 'mog',\n",
       " 'moggs',\n",
       " 'mojority',\n",
       " 'mold',\n",
       " 'moles',\n",
       " 'mollari',\n",
       " 'modernism',\n",
       " 'minsiter',\n",
       " 'mins',\n",
       " 'minorities',\n",
       " 'messieurs',\n",
       " 'metal',\n",
       " 'metastasized',\n",
       " 'meteor',\n",
       " 'method',\n",
       " 'methods',\n",
       " 'metric',\n",
       " 'metropolitan',\n",
       " 'mewling',\n",
       " 'mexicans',\n",
       " 'mf',\n",
       " 'mi',\n",
       " 'mi5',\n",
       " 'mi6',\n",
       " 'miasma',\n",
       " 'micers',\n",
       " 'micheal',\n",
       " 'messed',\n",
       " 'merthyr',\n",
       " 'merseyside',\n",
       " 'merry',\n",
       " 'mensa',\n",
       " 'mentality',\n",
       " 'mentatilty',\n",
       " 'mentioning',\n",
       " 'mentions',\n",
       " 'mep',\n",
       " 'meps',\n",
       " 'mercantilism',\n",
       " 'michel',\n",
       " 'mercedes',\n",
       " 'merchants',\n",
       " 'merciless',\n",
       " 'merger',\n",
       " 'merit',\n",
       " 'meritocracy',\n",
       " 'meritocratic',\n",
       " 'merits',\n",
       " 'merkler',\n",
       " 'mercer',\n",
       " 'monopoly',\n",
       " 'michigan',\n",
       " 'micromanagers',\n",
       " 'millenuim',\n",
       " 'miller',\n",
       " 'milli',\n",
       " 'millionaire',\n",
       " 'millionaires',\n",
       " 'mindedness',\n",
       " 'mindless',\n",
       " 'mindlessly',\n",
       " 'mindlessness',\n",
       " 'mindset',\n",
       " 'mines',\n",
       " 'minford',\n",
       " 'minimal',\n",
       " 'minimize',\n",
       " 'minimum',\n",
       " 'mining',\n",
       " 'minnesota',\n",
       " 'millennium',\n",
       " 'millennia',\n",
       " 'millenials',\n",
       " 'milkshake',\n",
       " 'micron',\n",
       " 'microsoft',\n",
       " 'mid',\n",
       " 'middleclass',\n",
       " 'middleman',\n",
       " 'middling',\n",
       " 'midget',\n",
       " 'midlands',\n",
       " 'micro',\n",
       " 'mighty',\n",
       " 'migrated',\n",
       " 'migrents',\n",
       " 'mike',\n",
       " 'mild',\n",
       " 'miles',\n",
       " 'miliband',\n",
       " 'militaristic',\n",
       " 'milking',\n",
       " 'migrate',\n",
       " 'offset',\n",
       " 'offshore',\n",
       " 'offshoring',\n",
       " 'ply',\n",
       " 'pms',\n",
       " 'pneumonia',\n",
       " 'pocket',\n",
       " 'pocketing',\n",
       " 'poets',\n",
       " 'pointed',\n",
       " 'pointing',\n",
       " 'poison',\n",
       " 'poisoned',\n",
       " 'poisoning',\n",
       " 'poisonous',\n",
       " 'poisons',\n",
       " 'poject',\n",
       " 'poke',\n",
       " 'poker',\n",
       " 'poket',\n",
       " 'plurality',\n",
       " 'polarised',\n",
       " 'pluralism',\n",
       " 'plundered',\n",
       " 'pleasant',\n",
       " 'pleasure',\n",
       " 'pleb',\n",
       " 'plebs',\n",
       " 'pledge',\n",
       " 'pledged',\n",
       " 'plonkers',\n",
       " 'plots',\n",
       " 'plotted',\n",
       " 'plotters',\n",
       " 'plotting',\n",
       " 'pls',\n",
       " 'plug',\n",
       " 'plugging',\n",
       " 'plumber',\n",
       " 'plummeted',\n",
       " 'plummets',\n",
       " 'plunge',\n",
       " 'policys',\n",
       " 'politburo',\n",
       " 'politeness',\n",
       " 'popular',\n",
       " 'popularity',\n",
       " 'populated',\n",
       " 'populistic',\n",
       " 'populists',\n",
       " 'populous',\n",
       " 'pork',\n",
       " 'portion',\n",
       " 'portioned',\n",
       " 'portray',\n",
       " 'portrayed',\n",
       " 'portuguese',\n",
       " 'posher',\n",
       " 'posing',\n",
       " 'posonous',\n",
       " 'possesses',\n",
       " 'possessive',\n",
       " 'populace',\n",
       " 'popcorn',\n",
       " 'pootin',\n",
       " 'pools',\n",
       " 'politian',\n",
       " 'politians',\n",
       " 'politic',\n",
       " 'politicans',\n",
       " 'politicize',\n",
       " 'politico',\n",
       " 'polled',\n",
       " 'pollies',\n",
       " 'pleas',\n",
       " 'pollutants',\n",
       " 'polluters',\n",
       " 'pollution',\n",
       " 'pompeii',\n",
       " 'pondering',\n",
       " 'pony',\n",
       " 'ponzi',\n",
       " 'pool',\n",
       " 'pooled',\n",
       " 'polluted',\n",
       " 'possibilities',\n",
       " 'plead',\n",
       " 'plc',\n",
       " 'phrase',\n",
       " 'phrases',\n",
       " 'phuck',\n",
       " 'pi',\n",
       " 'picked',\n",
       " 'pickle',\n",
       " 'pickles',\n",
       " 'pics',\n",
       " 'pictured',\n",
       " 'pictures',\n",
       " 'pie',\n",
       " 'piece',\n",
       " 'piecefully',\n",
       " 'pieces',\n",
       " 'piecewise',\n",
       " 'pierced',\n",
       " 'piers',\n",
       " 'photosynthesis',\n",
       " 'piffle',\n",
       " 'photos',\n",
       " 'philosophy',\n",
       " 'pests',\n",
       " 'petard',\n",
       " 'pete',\n",
       " 'peter',\n",
       " 'petting',\n",
       " 'peugeot',\n",
       " 'pharmaceutical',\n",
       " 'pharmaceuticals',\n",
       " 'phased',\n",
       " 'phases',\n",
       " 'phd',\n",
       " 'phenomena',\n",
       " 'phenomenal',\n",
       " 'philanderer',\n",
       " 'philippines',\n",
       " 'philips',\n",
       " 'philosophical',\n",
       " 'phones',\n",
       " 'piggy',\n",
       " 'pigshit',\n",
       " 'piled',\n",
       " 'plague',\n",
       " 'planes',\n",
       " 'planing',\n",
       " 'planks',\n",
       " 'planners',\n",
       " 'planning',\n",
       " 'planting',\n",
       " 'plastic',\n",
       " 'plate',\n",
       " 'platform',\n",
       " 'platitudes',\n",
       " 'plaxton',\n",
       " 'playboy',\n",
       " 'players',\n",
       " 'playgrounds',\n",
       " 'playmate',\n",
       " 'plays',\n",
       " 'placing',\n",
       " 'placid',\n",
       " 'placate',\n",
       " 'pizza',\n",
       " 'pilgramige',\n",
       " 'piling',\n",
       " 'pillaging',\n",
       " 'pillars',\n",
       " 'pineapple',\n",
       " 'pink',\n",
       " 'pint',\n",
       " 'pipe',\n",
       " 'plea',\n",
       " 'piper',\n",
       " 'pissing',\n",
       " 'pitchforks',\n",
       " 'pitching',\n",
       " 'pitfalls',\n",
       " 'pitiable',\n",
       " 'pitiful',\n",
       " 'pitying',\n",
       " 'pixxing',\n",
       " 'piracy',\n",
       " 'possition',\n",
       " 'possy',\n",
       " 'posted',\n",
       " 'principle',\n",
       " 'principled',\n",
       " 'print',\n",
       " 'printed',\n",
       " 'printing',\n",
       " 'prior',\n",
       " 'priorities',\n",
       " 'prioritise',\n",
       " 'prioritize',\n",
       " 'priority',\n",
       " 'prism',\n",
       " 'prisoner',\n",
       " 'prisoners',\n",
       " 'prisons',\n",
       " 'privatisation',\n",
       " 'privatise',\n",
       " 'privatised',\n",
       " 'principally',\n",
       " 'privatized',\n",
       " 'primitive',\n",
       " 'prides',\n",
       " 'pretends',\n",
       " 'pretense',\n",
       " 'pretext',\n",
       " 'prevailing',\n",
       " 'prevalent',\n",
       " 'prevaricating',\n",
       " 'prevarication',\n",
       " 'prevented',\n",
       " 'prevention',\n",
       " 'prevents',\n",
       " 'previous',\n",
       " 'previously',\n",
       " 'priapic',\n",
       " 'priced',\n",
       " 'priceless',\n",
       " 'prick',\n",
       " 'prideful',\n",
       " 'primate',\n",
       " 'privileged',\n",
       " 'prize',\n",
       " 'proactive',\n",
       " 'professor',\n",
       " 'professorship',\n",
       " 'profile',\n",
       " 'profit',\n",
       " 'profitable',\n",
       " 'profligacy',\n",
       " 'profligate',\n",
       " 'profound',\n",
       " 'profoundly',\n",
       " 'prog',\n",
       " 'program',\n",
       " 'programme',\n",
       " 'programmed',\n",
       " 'programmes',\n",
       " 'progresses',\n",
       " 'progressive',\n",
       " 'progressively',\n",
       " 'profession',\n",
       " 'prof',\n",
       " 'proeuropean',\n",
       " 'proeu',\n",
       " 'proaganda',\n",
       " 'prob',\n",
       " 'probable',\n",
       " 'probreakup',\n",
       " 'procedure',\n",
       " 'proceeded',\n",
       " 'proceeds',\n",
       " 'processes',\n",
       " 'pretence',\n",
       " 'proclaim',\n",
       " 'procrastination',\n",
       " 'prodigal',\n",
       " 'produced',\n",
       " 'producer',\n",
       " 'production',\n",
       " 'productivity',\n",
       " 'products',\n",
       " 'produktion',\n",
       " 'proclaiming',\n",
       " 'presumption',\n",
       " 'presumably',\n",
       " 'pressures',\n",
       " 'prageru',\n",
       " 'pragmatic',\n",
       " 'pragmatically',\n",
       " 'pragmatists',\n",
       " 'pram',\n",
       " 'prawn',\n",
       " 'prayed',\n",
       " 'prayer',\n",
       " 'prayers',\n",
       " 'praying',\n",
       " 'prayu',\n",
       " 'pre',\n",
       " 'preach',\n",
       " 'preaching',\n",
       " 'precautions',\n",
       " 'precede',\n",
       " 'precedent',\n",
       " 'practicing',\n",
       " 'practices',\n",
       " 'practiced',\n",
       " 'practice',\n",
       " 'poster',\n",
       " 'posterity',\n",
       " 'posters',\n",
       " 'postpone',\n",
       " 'postponing',\n",
       " 'posts',\n",
       " 'postwar',\n",
       " 'potatoes',\n",
       " 'precedents',\n",
       " 'potentials',\n",
       " 'pounce',\n",
       " 'pouring',\n",
       " 'powder',\n",
       " 'powell',\n",
       " 'powerhouse',\n",
       " 'powerless',\n",
       " 'powerlessness',\n",
       " 'poxy',\n",
       " 'pothole',\n",
       " 'pessina',\n",
       " 'preceding',\n",
       " 'predate',\n",
       " 'premiere',\n",
       " 'premium',\n",
       " 'preponderant',\n",
       " 'prescribe',\n",
       " 'presence',\n",
       " 'presentation',\n",
       " 'presenter',\n",
       " 'presenting',\n",
       " 'presently',\n",
       " 'presents',\n",
       " 'preservation',\n",
       " 'preserving',\n",
       " 'presided',\n",
       " 'presidency',\n",
       " 'presidential',\n",
       " 'presidents',\n",
       " 'pressing',\n",
       " 'premier',\n",
       " 'premature',\n",
       " ...]"
      ]
     },
     "execution_count": 563,
     "metadata": {},
     "output_type": "execute_result"
    }
   ],
   "source": [
    "feature_names = v.get_feature_names()\n",
    "top_words = []\n",
    "\n",
    "for i in range(2000):\n",
    "    top_words.append(feature_names[indicies[i]])\n",
    "top_words"
   ]
  },
  {
   "cell_type": "code",
   "execution_count": 362,
   "metadata": {},
   "outputs": [
    {
     "name": "stdout",
     "output_type": "stream",
     "text": [
      "[4465 4453 1138 ...  966 4248  772]\n"
     ]
    }
   ],
   "source": [
    "#from sklearn.linear_model import LogisticRegression\n",
    "from sklearn.svm import LinearSVC\n",
    "\n",
    "m = LinearSVC()\n",
    "m.fit(Xtrain, Ytrain)\n",
    "\n",
    "# The estimated coefficients will all be around 1:\n",
    "#indicies = np.flip(np.argsort(np.abs(m.coef_)))[0]\n",
    "indicies = np.argsort(np.abs(m.coef_))[0]\n",
    "\n",
    "# Those values, however, will show that the second parameter\n",
    "# is more influential\n",
    "print(np.flip(np.argsort(np.std(Xtrain.todense()) * m.coef_))[0])"
   ]
  },
  {
   "cell_type": "code",
   "execution_count": 365,
   "metadata": {},
   "outputs": [],
   "source": [
    "feature_names = v.get_feature_names()\n",
    "top_words = []\n",
    "\n",
    "for i in range(4000):\n",
    "    top_words.append(feature_names[indicies[i]])\n",
    "#top_words"
   ]
  },
  {
   "cell_type": "code",
   "execution_count": null,
   "metadata": {},
   "outputs": [],
   "source": []
  }
 ],
 "metadata": {
  "kernelspec": {
   "display_name": "Python 3",
   "language": "python",
   "name": "python3"
  },
  "language_info": {
   "codemirror_mode": {
    "name": "ipython",
    "version": 3
   },
   "file_extension": ".py",
   "mimetype": "text/x-python",
   "name": "python",
   "nbconvert_exporter": "python",
   "pygments_lexer": "ipython3",
   "version": "3.7.3"
  }
 },
 "nbformat": 4,
 "nbformat_minor": 4
}
